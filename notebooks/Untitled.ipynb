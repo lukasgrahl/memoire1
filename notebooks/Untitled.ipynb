{
 "cells": [
  {
   "cell_type": "code",
   "execution_count": 1,
   "id": "9afdacc8-cc75-4e3a-9416-b0e7dc0ceada",
   "metadata": {},
   "outputs": [
    {
     "name": "stdout",
     "output_type": "stream",
     "text": [
      "DATA_DIR is existant under: C:\\Users\\LukasGrahl\\Documents\\GIT\\memoire1\\data\n"
     ]
    }
   ],
   "source": [
    "%run init_notebookspace.py"
   ]
  },
  {
   "cell_type": "code",
   "execution_count": 2,
   "id": "bb99003f-3675-429c-9818-bf539fd8c442",
   "metadata": {},
   "outputs": [],
   "source": [
    "import sympy as sp"
   ]
  },
  {
   "cell_type": "code",
   "execution_count": 4,
   "id": "db351ff0-2eae-43f6-917f-8c8e21bc032e",
   "metadata": {},
   "outputs": [],
   "source": [
    "class SystemOfEquations:\n",
    "    \n",
    "    def __init__(self, attr_dict: dict):\n",
    "            \n",
    "        self.__dict__.update(attr_dict)\n",
    "    pass"
   ]
  },
  {
   "cell_type": "code",
   "execution_count": 184,
   "id": "f279ec11-0e0f-4461-81ab-4f00bbcaa8d4",
   "metadata": {},
   "outputs": [],
   "source": [
    "_ = sp.symbols(['c_t', 'c_{t+1}', 'r_t', 'r_{t+1}', 'w_t', 'l_t', 'y_t', 'a_t', 'a_{t+1}', 'i_t', 'k_t', 'k_t+1', 'mc_t'])\n",
    "c, c1, r, r1, w, l, y, a, a1, i, k, k1, mc = _\n",
    "\n",
    "cs, rs, ws, ls, ys, a_s, i_s, ks, mcs = sp.symbols([f'{item}^*' for item in ['c', 'r', 'w', 'l', 'y', 'a', 'i', 'k', 'mc']])\n",
    "\n",
    "_ = sp.symbols(['alpha', 'beta', 'delta', 'phi', 'rho_a', 'epsilon_a', 'sigma', 'gamma', 'psi'])\n",
    "alpha, beta, delta, phi, rho_a, epsilon_a, sigma, gamma, psi = _"
   ]
  },
  {
   "cell_type": "code",
   "execution_count": 185,
   "id": "19e05b9c-ab43-42d2-8853-dba02846c311",
   "metadata": {},
   "outputs": [],
   "source": [
    "# costas\n",
    "eqs = {\n",
    "    'euler': sp.Eq((c1 / c) ** sigma, beta * ((1 - delta) + r1)),\n",
    "    'lsupply': sp.Eq(c ** sigma * l ** phi, w),\n",
    "    'ldemand': sp.Eq(l, (1 - alpha) * y / w),\n",
    "    'kdemand': k - alpha  * y / r,\n",
    "    'prod': y - a * k ** alpha * l ** (1 - alpha),\n",
    "    'ksupply': sp.Eq(i, k1 - (1 - delta) * k),\n",
    "    'budget': sp.Eq(y, c + i),\n",
    "    'tech': sp.Eq(sp.log(a1), (1 - rho_a) * sp.log(a_s) + rho_a * sp.log(a) + epsilon_a),\n",
    "    'foc_r': sp.Eq(r, mc * a * alpha * k ** (alpha - 1) * l ** (1 - alpha)),\n",
    "    'foc_w': sp.Eq(w, mc * a * k ** alpha * (1 - alpha) * l ** (- alpha)),\n",
    "    # 'foc_w': sp.Eq(w, mc * (1 - alpha) * y * 1 / l)\n",
    "}\n",
    "\n",
    "subs_dict = {c: cs, c1: cs, r: rs, r1: rs, w: ws, l: ls, y: ys, a: a_s, i: i_s, k: ks, k1: ks, mc: mcs}\n",
    "eqs_ss = {k: item.subs(subs_dict) for k, item in eqs.items()}"
   ]
  },
  {
   "cell_type": "code",
   "execution_count": 186,
   "id": "c0ed93da-905a-445f-8bd9-b90a082d88fb",
   "metadata": {},
   "outputs": [],
   "source": [
    "x = SystemOfEquations(eqs_ss)"
   ]
  },
  {
   "cell_type": "code",
   "execution_count": 187,
   "id": "6d60c085-517e-4951-b45c-9f7671aeb0b1",
   "metadata": {},
   "outputs": [],
   "source": [
    "r_ss = sp.solve(x.euler, rs)[0]\n",
    "mc_ss = 1\n",
    "a_ss = 1"
   ]
  },
  {
   "cell_type": "code",
   "execution_count": 188,
   "id": "bb59cce7-c0b2-454c-86de-4c28c34734bd",
   "metadata": {},
   "outputs": [],
   "source": [
    "_1 = x.foc_r.subs({a_s: a_ss, rs: r_ss, mcs: mc_ss})"
   ]
  },
  {
   "cell_type": "code",
   "execution_count": 189,
   "id": "670a0b32-f0a3-4c85-9d2e-38a592aed49d",
   "metadata": {},
   "outputs": [],
   "source": [
    "k_l = ((delta - 1 + 1 / beta) * 1 / alpha) ** (alpha - 1)"
   ]
  },
  {
   "cell_type": "code",
   "execution_count": 190,
   "id": "bb097189-3579-4b9b-973c-03e6f0792426",
   "metadata": {},
   "outputs": [],
   "source": [
    "w_ss = k_l ** alpha * (1 - alpha)"
   ]
  },
  {
   "cell_type": "code",
   "execution_count": 191,
   "id": "851b478b-d13a-4a10-8cbc-fea64e1f3aea",
   "metadata": {},
   "outputs": [
    {
     "data": {
      "text/latex": [
       "$\\displaystyle \\left(1 - \\alpha\\right) \\left(\\left(\\frac{\\delta - 1 + \\frac{1}{\\beta}}{\\alpha}\\right)^{\\alpha - 1}\\right)^{\\alpha}$"
      ],
      "text/plain": [
       "(1 - alpha)*(((delta - 1 + 1/beta)/alpha)**(alpha - 1))**alpha"
      ]
     },
     "execution_count": 191,
     "metadata": {},
     "output_type": "execute_result"
    }
   ],
   "source": [
    "w_ss"
   ]
  },
  {
   "cell_type": "code",
   "execution_count": 192,
   "id": "074b7474-6283-4f5b-8330-d3c433a2ee6b",
   "metadata": {},
   "outputs": [],
   "source": [
    "i_l = k_l * delta"
   ]
  },
  {
   "cell_type": "code",
   "execution_count": 193,
   "id": "4518ceb5-f03d-4f3a-942c-a1b3d55d0bf2",
   "metadata": {},
   "outputs": [],
   "source": [
    "y_l = k_l ** alpha"
   ]
  },
  {
   "cell_type": "code",
   "execution_count": 194,
   "id": "bf2e259b-b54a-4d26-a7a8-5796a149a7d3",
   "metadata": {},
   "outputs": [
    {
     "data": {
      "text/latex": [
       "$\\displaystyle \\delta \\left(\\frac{\\delta - 1 + \\frac{1}{\\beta}}{\\alpha}\\right)^{\\alpha - 1}$"
      ],
      "text/plain": [
       "delta*((delta - 1 + 1/beta)/alpha)**(alpha - 1)"
      ]
     },
     "execution_count": 194,
     "metadata": {},
     "output_type": "execute_result"
    }
   ],
   "source": [
    "i_l"
   ]
  },
  {
   "cell_type": "code",
   "execution_count": 195,
   "id": "71c03d3e-bc4d-46d0-8521-42aa65722604",
   "metadata": {},
   "outputs": [
    {
     "data": {
      "text/latex": [
       "$\\displaystyle \\left(\\left(\\frac{\\delta - 1 + \\frac{1}{\\beta}}{\\alpha}\\right)^{\\alpha - 1}\\right)^{\\alpha}$"
      ],
      "text/plain": [
       "(((delta - 1 + 1/beta)/alpha)**(alpha - 1))**alpha"
      ]
     },
     "execution_count": 195,
     "metadata": {},
     "output_type": "execute_result"
    }
   ],
   "source": [
    "y_l"
   ]
  },
  {
   "cell_type": "code",
   "execution_count": 196,
   "id": "52ba8d23-3493-463b-a119-50dcfdbfca86",
   "metadata": {},
   "outputs": [],
   "source": [
    "c_l = y_l - i_l"
   ]
  },
  {
   "cell_type": "code",
   "execution_count": 197,
   "id": "5ff5256b-ebdb-4be0-8d99-7587e43cf174",
   "metadata": {},
   "outputs": [
    {
     "data": {
      "text/latex": [
       "$\\displaystyle - \\delta \\left(\\frac{\\delta - 1 + \\frac{1}{\\beta}}{\\alpha}\\right)^{\\alpha - 1} + \\left(\\left(\\frac{\\delta - 1 + \\frac{1}{\\beta}}{\\alpha}\\right)^{\\alpha - 1}\\right)^{\\alpha}$"
      ],
      "text/plain": [
       "-delta*((delta - 1 + 1/beta)/alpha)**(alpha - 1) + (((delta - 1 + 1/beta)/alpha)**(alpha - 1))**alpha"
      ]
     },
     "execution_count": 197,
     "metadata": {},
     "output_type": "execute_result"
    }
   ],
   "source": [
    "c_l"
   ]
  },
  {
   "cell_type": "code",
   "execution_count": 199,
   "id": "16817a6d-d17b-4257-b3f1-0a16c78bb79c",
   "metadata": {},
   "outputs": [],
   "source": [
    "l_ss = (gamma / psi * (c_l) ** (-1) * w_ss) / (1 + gamma / psi * (c_l) ** (-1) * w_ss)"
   ]
  },
  {
   "cell_type": "code",
   "execution_count": 201,
   "id": "22274c6e-e505-4016-a29a-d053154eeef2",
   "metadata": {},
   "outputs": [
    {
     "data": {
      "text/latex": [
       "$\\displaystyle \\frac{\\gamma \\left(\\alpha - 1\\right) \\left(\\left(\\frac{\\beta \\left(\\delta - 1\\right) + 1}{\\alpha \\beta}\\right)^{\\alpha - 1}\\right)^{\\alpha}}{\\gamma \\left(\\alpha - 1\\right) \\left(\\left(\\frac{\\beta \\left(\\delta - 1\\right) + 1}{\\alpha \\beta}\\right)^{\\alpha - 1}\\right)^{\\alpha} + \\psi \\left(\\delta \\left(\\frac{\\beta \\left(\\delta - 1\\right) + 1}{\\alpha \\beta}\\right)^{\\alpha - 1} - \\left(\\left(\\frac{\\beta \\left(\\delta - 1\\right) + 1}{\\alpha \\beta}\\right)^{\\alpha - 1}\\right)^{\\alpha}\\right)}$"
      ],
      "text/plain": [
       "gamma*(alpha - 1)*(((beta*(delta - 1) + 1)/(alpha*beta))**(alpha - 1))**alpha/(gamma*(alpha - 1)*(((beta*(delta - 1) + 1)/(alpha*beta))**(alpha - 1))**alpha + psi*(delta*((beta*(delta - 1) + 1)/(alpha*beta))**(alpha - 1) - (((beta*(delta - 1) + 1)/(alpha*beta))**(alpha - 1))**alpha))"
      ]
     },
     "execution_count": 201,
     "metadata": {},
     "output_type": "execute_result"
    }
   ],
   "source": [
    "sp.simplify(l_ss)"
   ]
  },
  {
   "cell_type": "code",
   "execution_count": 205,
   "id": "f048acae-e1f2-409b-9ad8-912bfc4559c3",
   "metadata": {},
   "outputs": [],
   "source": [
    "c_ss = sp.simplify(c_l * l_ss)\n",
    "y_ss = sp.simplify(y_l * l_ss)\n",
    "i_ss = sp.simplify(i_l * l_ss)"
   ]
  },
  {
   "cell_type": "code",
   "execution_count": null,
   "id": "efab3f2c-fc28-43fa-a310-2e86fcd6e5b2",
   "metadata": {},
   "outputs": [],
   "source": []
  },
  {
   "cell_type": "code",
   "execution_count": null,
   "id": "26a02143-0e4f-4f6d-9751-eaf43325c9f0",
   "metadata": {},
   "outputs": [],
   "source": []
  },
  {
   "cell_type": "code",
   "execution_count": null,
   "id": "1ec810ba-8fc5-4a41-af31-90cd6f5605bb",
   "metadata": {},
   "outputs": [],
   "source": []
  }
 ],
 "metadata": {
  "kernelspec": {
   "display_name": "Python 3 (ipykernel)",
   "language": "python",
   "name": "python3"
  },
  "language_info": {
   "codemirror_mode": {
    "name": "ipython",
    "version": 3
   },
   "file_extension": ".py",
   "mimetype": "text/x-python",
   "name": "python",
   "nbconvert_exporter": "python",
   "pygments_lexer": "ipython3",
   "version": "3.9.16"
  }
 },
 "nbformat": 4,
 "nbformat_minor": 5
}
