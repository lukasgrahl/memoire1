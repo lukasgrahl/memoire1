{
 "cells": [
  {
   "cell_type": "code",
   "execution_count": 1,
   "id": "6d2a458b-dfc1-42e0-bcf6-00e2bdf10137",
   "metadata": {},
   "outputs": [
    {
     "name": "stdout",
     "output_type": "stream",
     "text": [
      "DATA_DIR is existant under: C:\\Users\\LukasGrahl\\Documents\\GIT\\memoire1\\data\n"
     ]
    }
   ],
   "source": [
    "%run init_notebookspace.py\n",
    "from settings import DATA_DIR, MODEL_DIR"
   ]
  },
  {
   "cell_type": "code",
   "execution_count": 2,
   "id": "f6239d29-efde-4d6e-9c3d-ecdd4410f714",
   "metadata": {},
   "outputs": [],
   "source": [
    "from config import mod7_params, fred_dict, recession_dict"
   ]
  },
  {
   "cell_type": "code",
   "execution_count": 3,
   "id": "39d5c8a0-1a05-493a-ac8c-c336fb6d7340",
   "metadata": {},
   "outputs": [],
   "source": [
    "%matplotlib inline\n",
    "\n",
    "from gEconpy.classes.model import gEconModel\n",
    "from gEconpy.classes.transformers import IntervalTransformer\n",
    "from gEconpy import compile_to_statsmodels\n",
    "from gEconpy.plotting import plotting as gp\n",
    "\n",
    "\n",
    "import matplotlib.pyplot as plt\n",
    "import seaborn as sns\n",
    "from src.plotting import plot_dfs\n",
    "from src.gp_plotting import plot_sm_results\n",
    "from src.process_data import load_data\n",
    "\n",
    "import numpy as np\n",
    "import pandas as pd\n",
    "\n",
    "import os\n",
    "\n",
    "from config import plt_config\n",
    "plt.rcParams.update(plt_config)"
   ]
  },
  {
   "cell_type": "markdown",
   "id": "8b0c112c-36b5-470c-b1b5-b4ef8c9a6200",
   "metadata": {},
   "source": [
    "load model"
   ]
  },
  {
   "cell_type": "code",
   "execution_count": 4,
   "id": "bcbe1a74-a97e-4a58-84b8-dd3a29d5eef8",
   "metadata": {},
   "outputs": [
    {
     "name": "stdout",
     "output_type": "stream",
     "text": [
      "Model Building Complete.\n",
      "Found:\n",
      "\t24 equations\n",
      "\t24 variables\n",
      "\tThe following \"variables\" were defined as constants and have been substituted away:\n",
      "\t\tB_t\n",
      "\t4 stochastic shocks\n",
      "\t\t 0 / 4 has a defined prior. \n",
      "\t17 parameters\n",
      "\t\t 0 / 17 has a defined prior. \n",
      "\t2 calibrating equations\n",
      "\t2 parameters to calibrate\n",
      " Model appears well defined and ready to proceed to solving.\n",
      "\n"
     ]
    }
   ],
   "source": [
    "mod = gEconModel(os.path.join(MODEL_DIR, 'gEconpy_mod7_nk.gcn'), verbose=True)"
   ]
  },
  {
   "cell_type": "code",
   "execution_count": 6,
   "id": "f6a287dc-89d8-483b-9a67-1262c0a01f09",
   "metadata": {},
   "outputs": [],
   "source": [
    "# assign parameters\n",
    "mod.free_param_dict.update(mod7_params)"
   ]
  },
  {
   "cell_type": "code",
   "execution_count": 7,
   "id": "fe471530-68f9-4626-aa22-2dfeb58c32f1",
   "metadata": {},
   "outputs": [
    {
     "name": "stdout",
     "output_type": "stream",
     "text": [
      "Steady state found! Sum of squared residuals is 1.3485582662688972e-25\n",
      "Solution found, sum of squared residuals:  2.099219108031363e-28\n",
      "Norm of deterministic part: 0.000000000\n",
      "Norm of stochastic part:    0.000000000\n",
      "Model solution has 14 eigenvalues greater than one in modulus and 11 forward-looking variables.\n",
      "Blanchard-Kahn condition is satisfied.\n"
     ]
    }
   ],
   "source": [
    "mod.steady_state()\n",
    "mod.solve_model()\n",
    "mod.check_bk_condition();"
   ]
  },
  {
   "cell_type": "code",
   "execution_count": 8,
   "id": "5b3860af-c6d8-4a1f-8b94-cf5502d6d0c8",
   "metadata": {
    "tags": []
   },
   "outputs": [],
   "source": [
    "# param prior - beta min = 0, max = 1, beta dist\n",
    "# gamma for sigmas and alpha\n",
    "\n",
    "# draw from prior \n",
    "# free_param_dict.update_priors"
   ]
  },
  {
   "cell_type": "markdown",
   "id": "876063f7-815b-4b26-ae1c-c0a2d3cc78a2",
   "metadata": {},
   "source": [
    "#### drawing from priors"
   ]
  },
  {
   "cell_type": "code",
   "execution_count": 9,
   "id": "19a8a0cd-a0da-4f9d-9ec1-82286810a374",
   "metadata": {
    "tags": []
   },
   "outputs": [],
   "source": [
    "from scipy.stats import gamma, norm, beta\n",
    "import scipy"
   ]
  },
  {
   "cell_type": "code",
   "execution_count": 68,
   "id": "24b4b4cb-d72b-437c-a338-adfd91af443f",
   "metadata": {
    "tags": []
   },
   "outputs": [
    {
     "data": {
      "text/plain": [
       "1.3622591269898854e-05"
      ]
     },
     "execution_count": 68,
     "metadata": {},
     "output_type": "execute_result"
    }
   ],
   "source": [
    "beta(1.4, 10).pdf(0.8)"
   ]
  },
  {
   "cell_type": "code",
   "execution_count": 69,
   "id": "8e5ac58b-3474-418e-a402-3e16c2526886",
   "metadata": {
    "tags": []
   },
   "outputs": [],
   "source": [
    "prior_dict = {\n",
    "    'alpha': beta(1.4, 10),\n",
    "    # 'beta': beta(.9, 1.5),\n",
    "    # 'sigma_C': gamma(a=3.9, loc=0, scale=0.757575757575758),\n",
    "    # 'sigma_L': gamma(a=3.9, loc=0, scale=0.757575757575758)\n",
    "            }"
   ]
  },
  {
   "cell_type": "code",
   "execution_count": 73,
   "id": "707ae244-e3ef-4763-a51e-c01fdfbcff5c",
   "metadata": {},
   "outputs": [],
   "source": [
    "%%capture\n",
    "succes = []\n",
    "sample_dict = {}\n",
    "\n",
    "for i in range(0, 10):\n",
    "    \n",
    "    # reset params\n",
    "    mod.free_param_dict.update(mod7_params)\n",
    "    \n",
    "    # update params\n",
    "    for key in prior_dict.keys():\n",
    "        mod.free_param_dict[key] = prior_dict[key].rvs().round(3)\n",
    "        \n",
    "    # check for steady state\n",
    "    mod.steady_state()\n",
    "    \n",
    "    # solve model, capture LinAlgEr\n",
    "    try:\n",
    "        mod.solve_model()\n",
    "        is_solved = mod.steady_state_solved\n",
    "    except Exception as e:\n",
    "        succes.append(False)\n",
    "        continue\n",
    "        \n",
    "    \n",
    "    # check blanchard kahn\n",
    "    is_bk = mod.check_bk_condition(return_value='bool')\n",
    "    \n",
    "    if is_bk and is_solved:\n",
    "        sample_dict[i] = {\n",
    "            'free_param_dict': mod.free_param_dict,\n",
    "            'T': mod.T,\n",
    "            'R': mod.R\n",
    "        }\n",
    "        succes.append(True)\n",
    "    else:\n",
    "        succes.append(False)"
   ]
  },
  {
   "cell_type": "code",
   "execution_count": 74,
   "id": "822c5ea2-def9-4542-8a4d-271cc0d99258",
   "metadata": {},
   "outputs": [
    {
     "data": {
      "text/plain": [
       "dict_keys([0, 1, 2, 3, 4, 5, 7, 8, 9])"
      ]
     },
     "execution_count": 74,
     "metadata": {},
     "output_type": "execute_result"
    }
   ],
   "source": [
    "sample_dict.keys()"
   ]
  },
  {
   "cell_type": "code",
   "execution_count": null,
   "id": "e811f299-e5f1-4dde-a576-d5910dcce5e9",
   "metadata": {},
   "outputs": [
    {
     "data": {
      "text/plain": [
       "0.9"
      ]
     },
     "execution_count": 75,
     "metadata": {},
     "output_type": "execute_result"
    }
   ],
   "source": [
    "np.mean(succes)"
   ]
  },
  {
   "cell_type": "code",
   "execution_count": null,
   "id": "b1219be4-12f5-4480-a2c2-e20e65020202",
   "metadata": {},
   "outputs": [],
   "source": []
  },
  {
   "cell_type": "markdown",
   "id": "318287c8-9d11-40fc-a33d-f3a643f04f5f",
   "metadata": {},
   "source": [
    "## Estimation"
   ]
  },
  {
   "cell_type": "markdown",
   "id": "20151680-bfe3-42a2-a20e-d73c70008e66",
   "metadata": {},
   "source": [
    "#### load data"
   ]
  },
  {
   "cell_type": "code",
   "execution_count": 120,
   "id": "7320ada9-4729-49a1-93ff-9a9a0e5969a2",
   "metadata": {},
   "outputs": [
    {
     "name": "stdout",
     "output_type": "stream",
     "text": [
      "Error occured 'is_test', file_dict may be incomplete\n"
     ]
    }
   ],
   "source": [
    "df = load_data('prepro_data.csv', DATA_DIR, fred_dict)\n",
    "df = df.rename(columns={'pi_s': 'pi_obj'}).drop(['pi_c', 'Ix', 'Zx'], axis=1)\n",
    "train = df[df['is_test'] == False].drop('is_test', axis=1).copy()\n",
    "test = df[df['is_test'] == True].drop('is_test', axis=1).copy()"
   ]
  },
  {
   "cell_type": "code",
   "execution_count": 134,
   "id": "0c71c952-0a10-4add-b074-f0b905a854c2",
   "metadata": {},
   "outputs": [],
   "source": [
    "from filterpy.kalman import KalmanFilter"
   ]
  },
  {
   "cell_type": "code",
   "execution_count": 135,
   "id": "33f8a63c-faad-46f3-848a-c607251a44fc",
   "metadata": {
    "tags": []
   },
   "outputs": [],
   "source": [
    "sample = sample_dict[1].copy()"
   ]
  },
  {
   "cell_type": "code",
   "execution_count": 136,
   "id": "e777a375-7c6c-4860-9849-074b6cfaa022",
   "metadata": {
    "tags": []
   },
   "outputs": [
    {
     "name": "stdout",
     "output_type": "stream",
     "text": [
      "xdim: 9 \n",
      "zdim: 2\n"
     ]
    }
   ],
   "source": [
    "observed = [\"Y\", \"pi_obj\"]\n",
    "\n",
    "filter_vars = list(sample['T'].index[len(sample['T']) - (sample['T'] == 0).sum() != 0])\n",
    "\n",
    "for i in observed:\n",
    "    assert (i in filter_vars) == True, f\"{i} not in filter_vars\"\n",
    "    \n",
    "xdim = len(filter_vars)\n",
    "zdim = len(observed)\n",
    "print(f'xdim: {xdim} \\nzdim: {zdim}')"
   ]
  },
  {
   "cell_type": "code",
   "execution_count": 137,
   "id": "6d349af6-793c-4a82-99e3-b29db10c9327",
   "metadata": {
    "tags": []
   },
   "outputs": [
    {
     "data": {
      "text/plain": [
       "(9, 9)"
      ]
     },
     "execution_count": 137,
     "metadata": {},
     "output_type": "execute_result"
    }
   ],
   "source": [
    "F = sample_dict[1]['T'].loc[filter_vars, filter_vars].values\n",
    "F.shape"
   ]
  },
  {
   "cell_type": "code",
   "execution_count": 153,
   "id": "4b2bba2a-a5bb-4249-8d4b-76ea29757202",
   "metadata": {
    "tags": []
   },
   "outputs": [
    {
     "data": {
      "text/plain": [
       "array([[0.01, 0.  ],\n",
       "       [0.  , 0.01]])"
      ]
     },
     "execution_count": 153,
     "metadata": {},
     "output_type": "execute_result"
    }
   ],
   "source": [
    "R = np.eye(zdim) * 0.01\n",
    "R"
   ]
  },
  {
   "cell_type": "code",
   "execution_count": 154,
   "id": "d3f3f3bf-047b-462e-a735-61754a0bc892",
   "metadata": {
    "tags": []
   },
   "outputs": [
    {
     "data": {
      "text/plain": [
       "['C',\n",
       " 'I',\n",
       " 'K',\n",
       " 'Y',\n",
       " 'pi_obj',\n",
       " 'r_G',\n",
       " 'shock_preference',\n",
       " 'shock_technology',\n",
       " 'w']"
      ]
     },
     "execution_count": 154,
     "metadata": {},
     "output_type": "execute_result"
    }
   ],
   "source": [
    "filter_vars"
   ]
  },
  {
   "cell_type": "code",
   "execution_count": 155,
   "id": "7defbe29-e271-4dd8-838f-127bbfefdd2d",
   "metadata": {
    "tags": []
   },
   "outputs": [
    {
     "data": {
      "text/plain": [
       "array([[0., 0., 0., 1., 0., 0., 0., 0., 0.],\n",
       "       [0., 0., 0., 0., 1., 0., 0., 0., 0.]])"
      ]
     },
     "execution_count": 155,
     "metadata": {},
     "output_type": "execute_result"
    }
   ],
   "source": [
    "kfilter = KalmanFilter(dim_x=xdim, dim_z=zdim)\n",
    "kfilter.F = F\n",
    "kfilter.R = R\n",
    "kfilter.H[0, 3] = 1\n",
    "kfilter.H[1, 4] = 1\n",
    "kfilter.H"
   ]
  },
  {
   "cell_type": "code",
   "execution_count": 161,
   "id": "bd5b703c-6f60-4d17-aa1d-b16a3a20172b",
   "metadata": {
    "tags": []
   },
   "outputs": [],
   "source": [
    "zs = train[observed].values"
   ]
  },
  {
   "cell_type": "code",
   "execution_count": 162,
   "id": "647507de-6f8f-46cf-9628-14446cc0f8ec",
   "metadata": {
    "tags": []
   },
   "outputs": [],
   "source": [
    "# kfilter.predict()\n",
    "# kfilter.update(zs[0])"
   ]
  },
  {
   "cell_type": "code",
   "execution_count": 184,
   "id": "80a61700-b432-471f-b4a4-02d0cadecfc1",
   "metadata": {
    "tags": []
   },
   "outputs": [],
   "source": [
    "mu, cov, _, _ = kfilter.batch_filter(zs)\n",
    "mu = pd.DataFrame(mu.reshape(-1,9), columns=filter_vars, index=train.index)"
   ]
  },
  {
   "cell_type": "code",
   "execution_count": 187,
   "id": "21e26ccd-7f82-427e-a50f-207504e9b0e4",
   "metadata": {
    "tags": []
   },
   "outputs": [
    {
     "data": {
      "text/plain": [
       "[<matplotlib.lines.Line2D at 0x20ce6e62be0>]"
      ]
     },
     "execution_count": 187,
     "metadata": {},
     "output_type": "execute_result"
    },
    {
     "data": {
      "image/png": "[encoded data removed]",
      "text/plain": [
       "<Figure size 1440x432 with 1 Axes>"
      ]
     },
     "metadata": {},
     "output_type": "display_data"
    }
   ],
   "source": [
    "plt.plot(mu.C, label='filter')\n",
    "plt.plot(train.C, label='data')"
   ]
  },
  {
   "cell_type": "code",
   "execution_count": null,
   "id": "c90f0739-b990-4bfb-b6e2-9f360efd2ffd",
   "metadata": {},
   "outputs": [],
   "source": []
  }
 ],
 "metadata": {
  "kernelspec": {
   "display_name": "env_memoire1",
   "language": "python",
   "name": "env_memoire1"
  },
  "language_info": {
   "codemirror_mode": {
    "name": "ipython",
    "version": 3
   },
   "file_extension": ".py",
   "mimetype": "text/x-python",
   "name": "python",
   "nbconvert_exporter": "python",
   "pygments_lexer": "ipython3",
   "version": "3.9.4"
  }
 },
 "nbformat": 4,
 "nbformat_minor": 5
}
