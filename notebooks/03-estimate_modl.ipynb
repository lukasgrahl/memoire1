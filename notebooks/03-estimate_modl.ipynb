{
 "cells": [
  {
   "cell_type": "code",
   "execution_count": 1,
   "id": "6d2a458b-dfc1-42e0-bcf6-00e2bdf10137",
   "metadata": {},
   "outputs": [
    {
     "name": "stdout",
     "output_type": "stream",
     "text": [
      "DATA_DIR is existant under: C:\\Users\\LukasGrahl\\Documents\\GIT\\memoire1\\data\n"
     ]
    }
   ],
   "source": [
    "%run init_notebookspace.py\n",
    "from settings import DATA_DIR, MODEL_DIR"
   ]
  },
  {
   "cell_type": "code",
   "execution_count": 2,
   "id": "f6239d29-efde-4d6e-9c3d-ecdd4410f714",
   "metadata": {},
   "outputs": [],
   "source": [
    "from config import mod5_params, mod5_shocks"
   ]
  },
  {
   "cell_type": "code",
   "execution_count": 3,
   "id": "39d5c8a0-1a05-493a-ac8c-c336fb6d7340",
   "metadata": {},
   "outputs": [],
   "source": [
    "%matplotlib inline\n",
    "\n",
    "from gEconpy.classes.model import gEconModel\n",
    "from gEconpy.plotting import plotting as gp\n",
    "\n",
    "import matplotlib.pyplot as plt\n",
    "import seaborn as sns\n",
    "from src.plotting import plot_dfs\n",
    "\n",
    "import numpy as np\n",
    "import pandas as pd\n",
    "\n",
    "import os"
   ]
  },
  {
   "cell_type": "code",
   "execution_count": null,
   "id": "2c85ed27-68ba-45d2-a15d-17c2fbd80ca9",
   "metadata": {},
   "outputs": [],
   "source": []
  },
  {
   "cell_type": "markdown",
   "id": "8b0c112c-36b5-470c-b1b5-b4ef8c9a6200",
   "metadata": {},
   "source": [
    "load model"
   ]
  },
  {
   "cell_type": "code",
   "execution_count": 4,
   "id": "bcbe1a74-a97e-4a58-84b8-dd3a29d5eef8",
   "metadata": {},
   "outputs": [
    {
     "name": "stdout",
     "output_type": "stream",
     "text": [
      "Model Building Complete.\n",
      "Found:\n",
      "\t20 equations\n",
      "\t20 variables\n",
      "\tThe following variables were eliminated at user request:\n",
      "\t\tU_t\n",
      "\t1 stochastic shock\n",
      "\t\t 1 / 1 have a defined prior. \n",
      "\t8 parameters\n",
      "\t\t 1 / 8 have a defined prior. \n",
      "\t0 calibrating equations\n",
      "\t0 parameters to calibrate\n",
      " Model appears well defined and ready to proceed to solving.\n",
      "\n"
     ]
    }
   ],
   "source": [
    "mod = gEconModel(os.path.join(MODEL_DIR, 'gEconpy_mod6.gcn'), verbose=True)"
   ]
  },
  {
   "cell_type": "code",
   "execution_count": 5,
   "id": "f6a287dc-89d8-483b-9a67-1262c0a01f09",
   "metadata": {},
   "outputs": [
    {
     "data": {
      "text/plain": [
       "{'Theta': 0.75,\n",
       " 'alpha': 0.35,\n",
       " 'beta': 0.985,\n",
       " 'delta': 0.025,\n",
       " 'psi': 8,\n",
       " 'rho_A': 0.95,\n",
       " 'sigma_C': 2,\n",
       " 'sigma_L': 1.5}"
      ]
     },
     "execution_count": 5,
     "metadata": {},
     "output_type": "execute_result"
    }
   ],
   "source": [
    "# assign parameters\n",
    "mod.free_param_dict.update(mod5_params)\n",
    "mod.free_param_dict"
   ]
  },
  {
   "cell_type": "code",
   "execution_count": 6,
   "id": "fe471530-68f9-4626-aa22-2dfeb58c32f1",
   "metadata": {},
   "outputs": [
    {
     "name": "stdout",
     "output_type": "stream",
     "text": [
      "Steady state found! Sum of squared residuals is 1.0400859941440069e-25\n",
      "[0, 1, 0]\n",
      "Norm of deterministic part: 1.035522287\n",
      "Norm of stochastic part:    1.035522287\n"
     ]
    }
   ],
   "source": [
    "mod.steady_state()\n",
    "mod.solve_model(solver=\"gensys\")"
   ]
  },
  {
   "cell_type": "markdown",
   "id": "b474bcc1-7183-4854-9c3e-ef5bb60340c6",
   "metadata": {},
   "source": [
    "fit data"
   ]
  },
  {
   "cell_type": "code",
   "execution_count": null,
   "id": "082ba048-71b7-4c21-982b-cf6ace34e50b",
   "metadata": {},
   "outputs": [],
   "source": [
    "idata = model.fit(\n",
    "    fake_data,\n",
    "    filter_type=\"univariate\",\n",
    "    draws=10_000,\n",
    "    n_walkers=36,\n",
    "    return_inferencedata=True,\n",
    "    burn_in=1000,\n",
    ")"
   ]
  }
 ],
 "metadata": {
  "kernelspec": {
   "display_name": "env_memoire1",
   "language": "python",
   "name": "env_memoire1"
  },
  "language_info": {
   "codemirror_mode": {
    "name": "ipython",
    "version": 3
   },
   "file_extension": ".py",
   "mimetype": "text/x-python",
   "name": "python",
   "nbconvert_exporter": "python",
   "pygments_lexer": "ipython3",
   "version": "3.9.4"
  }
 },
 "nbformat": 4,
 "nbformat_minor": 5
}
