{
 "cells": [
  {
   "cell_type": "code",
   "execution_count": 1,
   "id": "c80727e6-7919-46a2-ab49-4ade578ee251",
   "metadata": {
    "tags": []
   },
   "outputs": [],
   "source": [
    "import pytensor\n",
    "import pytensor.tensor as pt\n",
    "import arviz as az\n",
    "import matplotlib.pyplot as plt\n",
    "import numpy as np\n",
    "import pymc as pm\n",
    "from pymc.pytensorf import collect_default_updates\n",
    "from pytensor.compile.mode import get_mode"
   ]
  },
  {
   "cell_type": "code",
   "execution_count": 2,
   "id": "58ef55e8-578f-406e-837b-0e2f1893145e",
   "metadata": {
    "tags": []
   },
   "outputs": [],
   "source": [
    "az.style.use(\"arviz-darkgrid\")"
   ]
  },
  {
   "cell_type": "code",
   "execution_count": 3,
   "id": "4628cae2-0765-4ad0-bf1c-0e34382bf3bf",
   "metadata": {
    "tags": []
   },
   "outputs": [],
   "source": [
    "seed = sum(map(ord, \"PyMC+AR2\"))\n",
    "rng = np.random.default_rng(seed)"
   ]
  },
  {
   "cell_type": "code",
   "execution_count": 4,
   "id": "80cd87b4-b7df-4651-87c0-25cc127f80cc",
   "metadata": {
    "tags": []
   },
   "outputs": [
    {
     "ename": "NotImplementedError",
     "evalue": "MaskedArrays are not supported",
     "output_type": "error",
     "traceback": [
      "\u001b[1;31m---------------------------------------------------------------------------\u001b[0m",
      "\u001b[1;31mNotImplementedError\u001b[0m                       Traceback (most recent call last)",
      "Cell \u001b[1;32mIn[4], line 13\u001b[0m\n\u001b[0;32m     10\u001b[0m rho \u001b[38;5;241m=\u001b[39m pm\u001b[38;5;241m.\u001b[39mNormal(\u001b[38;5;124m\"\u001b[39m\u001b[38;5;124mrho\u001b[39m\u001b[38;5;124m\"\u001b[39m, \u001b[38;5;241m0\u001b[39m, \u001b[38;5;241m0.2\u001b[39m, dims\u001b[38;5;241m=\u001b[39m(\u001b[38;5;124m\"\u001b[39m\u001b[38;5;124mlags\u001b[39m\u001b[38;5;124m\"\u001b[39m,))\n\u001b[0;32m     11\u001b[0m sigma \u001b[38;5;241m=\u001b[39m pm\u001b[38;5;241m.\u001b[39mHalfNormal(\u001b[38;5;124m\"\u001b[39m\u001b[38;5;124msigma\u001b[39m\u001b[38;5;124m\"\u001b[39m, \u001b[38;5;241m.2\u001b[39m)\n\u001b[1;32m---> 13\u001b[0m ar_init_obs \u001b[38;5;241m=\u001b[39m \u001b[43mpm\u001b[49m\u001b[38;5;241;43m.\u001b[39;49m\u001b[43mMutableData\u001b[49m\u001b[43m(\u001b[49m\u001b[38;5;124;43m\"\u001b[39;49m\u001b[38;5;124;43mar_init_obs\u001b[39;49m\u001b[38;5;124;43m\"\u001b[39;49m\u001b[43m,\u001b[49m\u001b[43m \u001b[49m\u001b[43mnp\u001b[49m\u001b[38;5;241;43m.\u001b[39;49m\u001b[43mfull\u001b[49m\u001b[43m(\u001b[49m\u001b[43m(\u001b[49m\u001b[43mlags\u001b[49m\u001b[43m,\u001b[49m\u001b[43m)\u001b[49m\u001b[43m,\u001b[49m\u001b[43m \u001b[49m\u001b[43mnp\u001b[49m\u001b[38;5;241;43m.\u001b[39;49m\u001b[43mnan\u001b[49m\u001b[43m)\u001b[49m\u001b[43m,\u001b[49m\u001b[43m \u001b[49m\u001b[43mdims\u001b[49m\u001b[38;5;241;43m=\u001b[39;49m\u001b[43m(\u001b[49m\u001b[38;5;124;43m\"\u001b[39;49m\u001b[38;5;124;43mlags\u001b[39;49m\u001b[38;5;124;43m\"\u001b[39;49m\u001b[43m,\u001b[49m\u001b[43m)\u001b[49m\u001b[43m)\u001b[49m\n\u001b[0;32m     14\u001b[0m ar_init \u001b[38;5;241m=\u001b[39m pm\u001b[38;5;241m.\u001b[39mNormal(\u001b[38;5;124m\"\u001b[39m\u001b[38;5;124mar_init\u001b[39m\u001b[38;5;124m\"\u001b[39m, observed\u001b[38;5;241m=\u001b[39mar_init_obs, dims\u001b[38;5;241m=\u001b[39m(\u001b[38;5;124m\"\u001b[39m\u001b[38;5;124mlags\u001b[39m\u001b[38;5;124m\"\u001b[39m,))\n\u001b[0;32m     16\u001b[0m \u001b[38;5;28;01mdef\u001b[39;00m \u001b[38;5;21mar_step\u001b[39m(\u001b[38;5;241m*\u001b[39margs):\n",
      "File \u001b[1;32m~\\miniconda3\\envs\\env_conda_memoire1\\lib\\site-packages\\pymc\\data.py:313\u001b[0m, in \u001b[0;36mMutableData\u001b[1;34m(name, value, dims, coords, export_index_as_coords, infer_dims_and_coords, **kwargs)\u001b[0m\n\u001b[0;32m    307\u001b[0m     infer_dims_and_coords \u001b[38;5;241m=\u001b[39m export_index_as_coords\n\u001b[0;32m    308\u001b[0m     warnings\u001b[38;5;241m.\u001b[39mwarn(\n\u001b[0;32m    309\u001b[0m         \u001b[38;5;124m\"\u001b[39m\u001b[38;5;124mDeprecation warning: \u001b[39m\u001b[38;5;124m'\u001b[39m\u001b[38;5;124mexport_index_as_coords; is deprecated and will be removed in future versions. Please use \u001b[39m\u001b[38;5;124m'\u001b[39m\u001b[38;5;124minfer_dims_and_coords\u001b[39m\u001b[38;5;124m'\u001b[39m\u001b[38;5;124m instead.\u001b[39m\u001b[38;5;124m\"\u001b[39m,\n\u001b[0;32m    310\u001b[0m         \u001b[38;5;167;01mDeprecationWarning\u001b[39;00m,\n\u001b[0;32m    311\u001b[0m     )\n\u001b[1;32m--> 313\u001b[0m var \u001b[38;5;241m=\u001b[39m \u001b[43mData\u001b[49m\u001b[43m(\u001b[49m\n\u001b[0;32m    314\u001b[0m \u001b[43m    \u001b[49m\u001b[43mname\u001b[49m\u001b[43m,\u001b[49m\n\u001b[0;32m    315\u001b[0m \u001b[43m    \u001b[49m\u001b[43mvalue\u001b[49m\u001b[43m,\u001b[49m\n\u001b[0;32m    316\u001b[0m \u001b[43m    \u001b[49m\u001b[43mdims\u001b[49m\u001b[38;5;241;43m=\u001b[39;49m\u001b[43mdims\u001b[49m\u001b[43m,\u001b[49m\n\u001b[0;32m    317\u001b[0m \u001b[43m    \u001b[49m\u001b[43mcoords\u001b[49m\u001b[38;5;241;43m=\u001b[39;49m\u001b[43mcoords\u001b[49m\u001b[43m,\u001b[49m\n\u001b[0;32m    318\u001b[0m \u001b[43m    \u001b[49m\u001b[43minfer_dims_and_coords\u001b[49m\u001b[38;5;241;43m=\u001b[39;49m\u001b[43minfer_dims_and_coords\u001b[49m\u001b[43m,\u001b[49m\n\u001b[0;32m    319\u001b[0m \u001b[43m    \u001b[49m\u001b[43mmutable\u001b[49m\u001b[38;5;241;43m=\u001b[39;49m\u001b[38;5;28;43;01mTrue\u001b[39;49;00m\u001b[43m,\u001b[49m\n\u001b[0;32m    320\u001b[0m \u001b[43m    \u001b[49m\u001b[38;5;241;43m*\u001b[39;49m\u001b[38;5;241;43m*\u001b[39;49m\u001b[43mkwargs\u001b[49m\u001b[43m,\u001b[49m\n\u001b[0;32m    321\u001b[0m \u001b[43m\u001b[49m\u001b[43m)\u001b[49m\n\u001b[0;32m    322\u001b[0m \u001b[38;5;28;01mreturn\u001b[39;00m cast(SharedVariable, var)\n",
      "File \u001b[1;32m~\\miniconda3\\envs\\env_conda_memoire1\\lib\\site-packages\\pymc\\data.py:436\u001b[0m, in \u001b[0;36mData\u001b[1;34m(name, value, dims, coords, export_index_as_coords, infer_dims_and_coords, mutable, **kwargs)\u001b[0m\n\u001b[0;32m    434\u001b[0m     mutable \u001b[38;5;241m=\u001b[39m \u001b[38;5;28;01mFalse\u001b[39;00m\n\u001b[0;32m    435\u001b[0m \u001b[38;5;28;01mif\u001b[39;00m mutable:\n\u001b[1;32m--> 436\u001b[0m     x \u001b[38;5;241m=\u001b[39m \u001b[43mpytensor\u001b[49m\u001b[38;5;241;43m.\u001b[39;49m\u001b[43mshared\u001b[49m\u001b[43m(\u001b[49m\u001b[43marr\u001b[49m\u001b[43m,\u001b[49m\u001b[43m \u001b[49m\u001b[43mname\u001b[49m\u001b[43m,\u001b[49m\u001b[43m \u001b[49m\u001b[38;5;241;43m*\u001b[39;49m\u001b[38;5;241;43m*\u001b[39;49m\u001b[43mkwargs\u001b[49m\u001b[43m)\u001b[49m\n\u001b[0;32m    437\u001b[0m \u001b[38;5;28;01melse\u001b[39;00m:\n\u001b[0;32m    438\u001b[0m     x \u001b[38;5;241m=\u001b[39m pt\u001b[38;5;241m.\u001b[39mas_tensor_variable(arr, name, \u001b[38;5;241m*\u001b[39m\u001b[38;5;241m*\u001b[39mkwargs)\n",
      "File \u001b[1;32m~\\miniconda3\\envs\\env_conda_memoire1\\lib\\site-packages\\pytensor\\compile\\sharedvalue.py:202\u001b[0m, in \u001b[0;36mshared\u001b[1;34m(value, name, strict, allow_downcast, **kwargs)\u001b[0m\n\u001b[0;32m    199\u001b[0m     \u001b[38;5;28;01mraise\u001b[39;00m \u001b[38;5;167;01mTypeError\u001b[39;00m(\u001b[38;5;124m\"\u001b[39m\u001b[38;5;124mShared variable values can not be symbolic.\u001b[39m\u001b[38;5;124m\"\u001b[39m)\n\u001b[0;32m    201\u001b[0m \u001b[38;5;28;01mtry\u001b[39;00m:\n\u001b[1;32m--> 202\u001b[0m     var \u001b[38;5;241m=\u001b[39m \u001b[43mshared_constructor\u001b[49m\u001b[43m(\u001b[49m\n\u001b[0;32m    203\u001b[0m \u001b[43m        \u001b[49m\u001b[43mvalue\u001b[49m\u001b[43m,\u001b[49m\n\u001b[0;32m    204\u001b[0m \u001b[43m        \u001b[49m\u001b[43mname\u001b[49m\u001b[38;5;241;43m=\u001b[39;49m\u001b[43mname\u001b[49m\u001b[43m,\u001b[49m\n\u001b[0;32m    205\u001b[0m \u001b[43m        \u001b[49m\u001b[43mstrict\u001b[49m\u001b[38;5;241;43m=\u001b[39;49m\u001b[43mstrict\u001b[49m\u001b[43m,\u001b[49m\n\u001b[0;32m    206\u001b[0m \u001b[43m        \u001b[49m\u001b[43mallow_downcast\u001b[49m\u001b[38;5;241;43m=\u001b[39;49m\u001b[43mallow_downcast\u001b[49m\u001b[43m,\u001b[49m\n\u001b[0;32m    207\u001b[0m \u001b[43m        \u001b[49m\u001b[38;5;241;43m*\u001b[39;49m\u001b[38;5;241;43m*\u001b[39;49m\u001b[43mkwargs\u001b[49m\u001b[43m,\u001b[49m\n\u001b[0;32m    208\u001b[0m \u001b[43m    \u001b[49m\u001b[43m)\u001b[49m\n\u001b[0;32m    209\u001b[0m     add_tag_trace(var)\n\u001b[0;32m    210\u001b[0m     \u001b[38;5;28;01mreturn\u001b[39;00m var\n",
      "File \u001b[1;32m~\\miniconda3\\envs\\env_conda_memoire1\\lib\\functools.py:875\u001b[0m, in \u001b[0;36msingledispatch.<locals>.wrapper\u001b[1;34m(*args, **kw)\u001b[0m\n\u001b[0;32m    871\u001b[0m \u001b[38;5;28;01mif\u001b[39;00m \u001b[38;5;129;01mnot\u001b[39;00m args:\n\u001b[0;32m    872\u001b[0m     \u001b[38;5;28;01mraise\u001b[39;00m \u001b[38;5;167;01mTypeError\u001b[39;00m(\u001b[38;5;124mf\u001b[39m\u001b[38;5;124m'\u001b[39m\u001b[38;5;132;01m{\u001b[39;00mfuncname\u001b[38;5;132;01m}\u001b[39;00m\u001b[38;5;124m requires at least \u001b[39m\u001b[38;5;124m'\u001b[39m\n\u001b[0;32m    873\u001b[0m                     \u001b[38;5;124m'\u001b[39m\u001b[38;5;124m1 positional argument\u001b[39m\u001b[38;5;124m'\u001b[39m)\n\u001b[1;32m--> 875\u001b[0m \u001b[38;5;28;01mreturn\u001b[39;00m \u001b[43mdispatch\u001b[49m\u001b[43m(\u001b[49m\u001b[43margs\u001b[49m\u001b[43m[\u001b[49m\u001b[38;5;241;43m0\u001b[39;49m\u001b[43m]\u001b[49m\u001b[38;5;241;43m.\u001b[39;49m\u001b[38;5;18;43m__class__\u001b[39;49m\u001b[43m)\u001b[49m\u001b[43m(\u001b[49m\u001b[38;5;241;43m*\u001b[39;49m\u001b[43margs\u001b[49m\u001b[43m,\u001b[49m\u001b[43m \u001b[49m\u001b[38;5;241;43m*\u001b[39;49m\u001b[38;5;241;43m*\u001b[39;49m\u001b[43mkw\u001b[49m\u001b[43m)\u001b[49m\n",
      "File \u001b[1;32m~\\miniconda3\\envs\\env_conda_memoire1\\lib\\site-packages\\pytensor\\tensor\\sharedvar.py:69\u001b[0m, in \u001b[0;36mtensor_constructor\u001b[1;34m(value, name, strict, allow_downcast, borrow, shape, target, broadcastable)\u001b[0m\n\u001b[0;32m     59\u001b[0m \u001b[38;5;250m\u001b[39m\u001b[38;5;124mr\u001b[39m\u001b[38;5;124;03m\"\"\"`SharedVariable` constructor for `TensorType`\\s.\u001b[39;00m\n\u001b[0;32m     60\u001b[0m \n\u001b[0;32m     61\u001b[0m \u001b[38;5;124;03mNotes\u001b[39;00m\n\u001b[1;32m   (...)\u001b[0m\n\u001b[0;32m     66\u001b[0m \n\u001b[0;32m     67\u001b[0m \u001b[38;5;124;03m\"\"\"\u001b[39;00m\n\u001b[0;32m     68\u001b[0m \u001b[38;5;28;01mif\u001b[39;00m \u001b[38;5;28misinstance\u001b[39m(value, np\u001b[38;5;241m.\u001b[39mma\u001b[38;5;241m.\u001b[39mMaskedArray):\n\u001b[1;32m---> 69\u001b[0m     \u001b[38;5;28;01mraise\u001b[39;00m \u001b[38;5;167;01mNotImplementedError\u001b[39;00m(\u001b[38;5;124m\"\u001b[39m\u001b[38;5;124mMaskedArrays are not supported\u001b[39m\u001b[38;5;124m\"\u001b[39m)\n\u001b[0;32m     71\u001b[0m \u001b[38;5;28;01mif\u001b[39;00m broadcastable \u001b[38;5;129;01mis\u001b[39;00m \u001b[38;5;129;01mnot\u001b[39;00m \u001b[38;5;28;01mNone\u001b[39;00m:\n\u001b[0;32m     72\u001b[0m     warnings\u001b[38;5;241m.\u001b[39mwarn(\n\u001b[0;32m     73\u001b[0m         \u001b[38;5;124m\"\u001b[39m\u001b[38;5;124mThe `broadcastable` keyword is deprecated; use `shape`.\u001b[39m\u001b[38;5;124m\"\u001b[39m,\n\u001b[0;32m     74\u001b[0m         \u001b[38;5;167;01mDeprecationWarning\u001b[39;00m,\n\u001b[0;32m     75\u001b[0m     )\n",
      "\u001b[1;31mNotImplementedError\u001b[0m: MaskedArrays are not supported"
     ]
    }
   ],
   "source": [
    "lags = 2\n",
    "trials = 100\n",
    "\n",
    "coords = {\n",
    "    \"lags\": range(-lags, 0),\n",
    "    \"steps\": range(trials - lags),\n",
    "    \"trials\": range(trials),\n",
    "}\n",
    "with pm.Model(coords=coords, check_bounds=False) as m:\n",
    "    rho = pm.Normal(\"rho\", 0, 0.2, dims=(\"lags\",))\n",
    "    sigma = pm.HalfNormal(\"sigma\", .2)\n",
    "    \n",
    "    ar_init_obs = pm.MutableData(\"ar_init_obs\", np.full((lags,), np.nan), dims=(\"lags\",))\n",
    "    ar_init = pm.Normal(\"ar_init\", observed=ar_init_obs, dims=(\"lags\",))\n",
    "\n",
    "    def ar_step(*args):\n",
    "        x_tm2, x_tm1, rho, sigma = args\n",
    "        mu = x_tm1 * rho[0] + x_tm2 * rho[1]\n",
    "        x = mu + pm.Normal.dist(sigma=sigma)\n",
    "        return x, collect_default_updates(args, [x])\n",
    "    \n",
    "    ar_innov, ar_innov_updates = pytensor.scan(\n",
    "        fn=ar_step,\n",
    "        outputs_info=[{\"initial\": ar_init, \"taps\":range(-lags, 0)}],\n",
    "        non_sequences=[rho, sigma],\n",
    "        n_steps=trials-lags,\n",
    "        strict=True,\n",
    "    )\n",
    "\n",
    "    ar_innov_obs = pm.MutableData(\"ar_innov_obs\", np.full((trials-lags,), np.nan), dims=(\"steps\",))\n",
    "    ar_innov = m.register_rv(ar_innov, name=\"ar_innov\", observed=ar_innov_obs, dims=(\"steps\"))\n",
    "    \n",
    "    ar = pm.Deterministic(\"ar\", pt.concatenate([ar_init, ar_innov], axis=-1), dims=(\"trials\",))"
   ]
  },
  {
   "cell_type": "code",
   "execution_count": 5,
   "id": "7e6a4bca-d960-4d7a-bcd4-496bc67c242e",
   "metadata": {
    "tags": []
   },
   "outputs": [
    {
     "ename": "NotImplementedError",
     "evalue": "MaskedArrays are not supported",
     "output_type": "error",
     "traceback": [
      "\u001b[1;31m---------------------------------------------------------------------------\u001b[0m",
      "\u001b[1;31mNotImplementedError\u001b[0m                       Traceback (most recent call last)",
      "Cell \u001b[1;32mIn[5], line 15\u001b[0m\n\u001b[0;32m     12\u001b[0m mu \u001b[38;5;241m=\u001b[39m pm\u001b[38;5;241m.\u001b[39mNormal(\u001b[38;5;124m\"\u001b[39m\u001b[38;5;124mmu\u001b[39m\u001b[38;5;124m\"\u001b[39m)\n\u001b[0;32m     13\u001b[0m sigma \u001b[38;5;241m=\u001b[39m pm\u001b[38;5;241m.\u001b[39mHalfNormal(\u001b[38;5;124m\"\u001b[39m\u001b[38;5;124msigma\u001b[39m\u001b[38;5;124m\"\u001b[39m, \u001b[38;5;241m.2\u001b[39m)\n\u001b[1;32m---> 15\u001b[0m ma_init_obs \u001b[38;5;241m=\u001b[39m \u001b[43mpm\u001b[49m\u001b[38;5;241;43m.\u001b[39;49m\u001b[43mMutableData\u001b[49m\u001b[43m(\u001b[49m\u001b[38;5;124;43m\"\u001b[39;49m\u001b[38;5;124;43mma_init_obs\u001b[39;49m\u001b[38;5;124;43m\"\u001b[39;49m\u001b[43m,\u001b[49m\u001b[43m \u001b[49m\u001b[43mnp\u001b[49m\u001b[38;5;241;43m.\u001b[39;49m\u001b[43mfull\u001b[49m\u001b[43m(\u001b[49m\u001b[43m(\u001b[49m\u001b[43mlags\u001b[49m\u001b[43m,\u001b[49m\u001b[43m)\u001b[49m\u001b[43m,\u001b[49m\u001b[43m \u001b[49m\u001b[43mnp\u001b[49m\u001b[38;5;241;43m.\u001b[39;49m\u001b[43mnan\u001b[49m\u001b[43m)\u001b[49m\u001b[43m,\u001b[49m\u001b[43m \u001b[49m\u001b[43mdims\u001b[49m\u001b[38;5;241;43m=\u001b[39;49m\u001b[43m(\u001b[49m\u001b[38;5;124;43m\"\u001b[39;49m\u001b[38;5;124;43mlags\u001b[39;49m\u001b[38;5;124;43m\"\u001b[39;49m\u001b[43m,\u001b[49m\u001b[43m)\u001b[49m\u001b[43m)\u001b[49m\n\u001b[0;32m     16\u001b[0m ma_init \u001b[38;5;241m=\u001b[39m pm\u001b[38;5;241m.\u001b[39mNormal(\u001b[38;5;124m\"\u001b[39m\u001b[38;5;124mma_init\u001b[39m\u001b[38;5;124m\"\u001b[39m, observed\u001b[38;5;241m=\u001b[39mma_init_obs, dims\u001b[38;5;241m=\u001b[39m(\u001b[38;5;124m\"\u001b[39m\u001b[38;5;124mlags\u001b[39m\u001b[38;5;124m\"\u001b[39m,))\n\u001b[0;32m     18\u001b[0m epsilon0 \u001b[38;5;241m=\u001b[39m ma_init[\u001b[38;5;241m0\u001b[39m] \u001b[38;5;241m-\u001b[39m mu\n",
      "File \u001b[1;32m~\\miniconda3\\envs\\env_conda_memoire1\\lib\\site-packages\\pymc\\data.py:313\u001b[0m, in \u001b[0;36mMutableData\u001b[1;34m(name, value, dims, coords, export_index_as_coords, infer_dims_and_coords, **kwargs)\u001b[0m\n\u001b[0;32m    307\u001b[0m     infer_dims_and_coords \u001b[38;5;241m=\u001b[39m export_index_as_coords\n\u001b[0;32m    308\u001b[0m     warnings\u001b[38;5;241m.\u001b[39mwarn(\n\u001b[0;32m    309\u001b[0m         \u001b[38;5;124m\"\u001b[39m\u001b[38;5;124mDeprecation warning: \u001b[39m\u001b[38;5;124m'\u001b[39m\u001b[38;5;124mexport_index_as_coords; is deprecated and will be removed in future versions. Please use \u001b[39m\u001b[38;5;124m'\u001b[39m\u001b[38;5;124minfer_dims_and_coords\u001b[39m\u001b[38;5;124m'\u001b[39m\u001b[38;5;124m instead.\u001b[39m\u001b[38;5;124m\"\u001b[39m,\n\u001b[0;32m    310\u001b[0m         \u001b[38;5;167;01mDeprecationWarning\u001b[39;00m,\n\u001b[0;32m    311\u001b[0m     )\n\u001b[1;32m--> 313\u001b[0m var \u001b[38;5;241m=\u001b[39m \u001b[43mData\u001b[49m\u001b[43m(\u001b[49m\n\u001b[0;32m    314\u001b[0m \u001b[43m    \u001b[49m\u001b[43mname\u001b[49m\u001b[43m,\u001b[49m\n\u001b[0;32m    315\u001b[0m \u001b[43m    \u001b[49m\u001b[43mvalue\u001b[49m\u001b[43m,\u001b[49m\n\u001b[0;32m    316\u001b[0m \u001b[43m    \u001b[49m\u001b[43mdims\u001b[49m\u001b[38;5;241;43m=\u001b[39;49m\u001b[43mdims\u001b[49m\u001b[43m,\u001b[49m\n\u001b[0;32m    317\u001b[0m \u001b[43m    \u001b[49m\u001b[43mcoords\u001b[49m\u001b[38;5;241;43m=\u001b[39;49m\u001b[43mcoords\u001b[49m\u001b[43m,\u001b[49m\n\u001b[0;32m    318\u001b[0m \u001b[43m    \u001b[49m\u001b[43minfer_dims_and_coords\u001b[49m\u001b[38;5;241;43m=\u001b[39;49m\u001b[43minfer_dims_and_coords\u001b[49m\u001b[43m,\u001b[49m\n\u001b[0;32m    319\u001b[0m \u001b[43m    \u001b[49m\u001b[43mmutable\u001b[49m\u001b[38;5;241;43m=\u001b[39;49m\u001b[38;5;28;43;01mTrue\u001b[39;49;00m\u001b[43m,\u001b[49m\n\u001b[0;32m    320\u001b[0m \u001b[43m    \u001b[49m\u001b[38;5;241;43m*\u001b[39;49m\u001b[38;5;241;43m*\u001b[39;49m\u001b[43mkwargs\u001b[49m\u001b[43m,\u001b[49m\n\u001b[0;32m    321\u001b[0m \u001b[43m\u001b[49m\u001b[43m)\u001b[49m\n\u001b[0;32m    322\u001b[0m \u001b[38;5;28;01mreturn\u001b[39;00m cast(SharedVariable, var)\n",
      "File \u001b[1;32m~\\miniconda3\\envs\\env_conda_memoire1\\lib\\site-packages\\pymc\\data.py:436\u001b[0m, in \u001b[0;36mData\u001b[1;34m(name, value, dims, coords, export_index_as_coords, infer_dims_and_coords, mutable, **kwargs)\u001b[0m\n\u001b[0;32m    434\u001b[0m     mutable \u001b[38;5;241m=\u001b[39m \u001b[38;5;28;01mFalse\u001b[39;00m\n\u001b[0;32m    435\u001b[0m \u001b[38;5;28;01mif\u001b[39;00m mutable:\n\u001b[1;32m--> 436\u001b[0m     x \u001b[38;5;241m=\u001b[39m \u001b[43mpytensor\u001b[49m\u001b[38;5;241;43m.\u001b[39;49m\u001b[43mshared\u001b[49m\u001b[43m(\u001b[49m\u001b[43marr\u001b[49m\u001b[43m,\u001b[49m\u001b[43m \u001b[49m\u001b[43mname\u001b[49m\u001b[43m,\u001b[49m\u001b[43m \u001b[49m\u001b[38;5;241;43m*\u001b[39;49m\u001b[38;5;241;43m*\u001b[39;49m\u001b[43mkwargs\u001b[49m\u001b[43m)\u001b[49m\n\u001b[0;32m    437\u001b[0m \u001b[38;5;28;01melse\u001b[39;00m:\n\u001b[0;32m    438\u001b[0m     x \u001b[38;5;241m=\u001b[39m pt\u001b[38;5;241m.\u001b[39mas_tensor_variable(arr, name, \u001b[38;5;241m*\u001b[39m\u001b[38;5;241m*\u001b[39mkwargs)\n",
      "File \u001b[1;32m~\\miniconda3\\envs\\env_conda_memoire1\\lib\\site-packages\\pytensor\\compile\\sharedvalue.py:202\u001b[0m, in \u001b[0;36mshared\u001b[1;34m(value, name, strict, allow_downcast, **kwargs)\u001b[0m\n\u001b[0;32m    199\u001b[0m     \u001b[38;5;28;01mraise\u001b[39;00m \u001b[38;5;167;01mTypeError\u001b[39;00m(\u001b[38;5;124m\"\u001b[39m\u001b[38;5;124mShared variable values can not be symbolic.\u001b[39m\u001b[38;5;124m\"\u001b[39m)\n\u001b[0;32m    201\u001b[0m \u001b[38;5;28;01mtry\u001b[39;00m:\n\u001b[1;32m--> 202\u001b[0m     var \u001b[38;5;241m=\u001b[39m \u001b[43mshared_constructor\u001b[49m\u001b[43m(\u001b[49m\n\u001b[0;32m    203\u001b[0m \u001b[43m        \u001b[49m\u001b[43mvalue\u001b[49m\u001b[43m,\u001b[49m\n\u001b[0;32m    204\u001b[0m \u001b[43m        \u001b[49m\u001b[43mname\u001b[49m\u001b[38;5;241;43m=\u001b[39;49m\u001b[43mname\u001b[49m\u001b[43m,\u001b[49m\n\u001b[0;32m    205\u001b[0m \u001b[43m        \u001b[49m\u001b[43mstrict\u001b[49m\u001b[38;5;241;43m=\u001b[39;49m\u001b[43mstrict\u001b[49m\u001b[43m,\u001b[49m\n\u001b[0;32m    206\u001b[0m \u001b[43m        \u001b[49m\u001b[43mallow_downcast\u001b[49m\u001b[38;5;241;43m=\u001b[39;49m\u001b[43mallow_downcast\u001b[49m\u001b[43m,\u001b[49m\n\u001b[0;32m    207\u001b[0m \u001b[43m        \u001b[49m\u001b[38;5;241;43m*\u001b[39;49m\u001b[38;5;241;43m*\u001b[39;49m\u001b[43mkwargs\u001b[49m\u001b[43m,\u001b[49m\n\u001b[0;32m    208\u001b[0m \u001b[43m    \u001b[49m\u001b[43m)\u001b[49m\n\u001b[0;32m    209\u001b[0m     add_tag_trace(var)\n\u001b[0;32m    210\u001b[0m     \u001b[38;5;28;01mreturn\u001b[39;00m var\n",
      "File \u001b[1;32m~\\miniconda3\\envs\\env_conda_memoire1\\lib\\functools.py:875\u001b[0m, in \u001b[0;36msingledispatch.<locals>.wrapper\u001b[1;34m(*args, **kw)\u001b[0m\n\u001b[0;32m    871\u001b[0m \u001b[38;5;28;01mif\u001b[39;00m \u001b[38;5;129;01mnot\u001b[39;00m args:\n\u001b[0;32m    872\u001b[0m     \u001b[38;5;28;01mraise\u001b[39;00m \u001b[38;5;167;01mTypeError\u001b[39;00m(\u001b[38;5;124mf\u001b[39m\u001b[38;5;124m'\u001b[39m\u001b[38;5;132;01m{\u001b[39;00mfuncname\u001b[38;5;132;01m}\u001b[39;00m\u001b[38;5;124m requires at least \u001b[39m\u001b[38;5;124m'\u001b[39m\n\u001b[0;32m    873\u001b[0m                     \u001b[38;5;124m'\u001b[39m\u001b[38;5;124m1 positional argument\u001b[39m\u001b[38;5;124m'\u001b[39m)\n\u001b[1;32m--> 875\u001b[0m \u001b[38;5;28;01mreturn\u001b[39;00m \u001b[43mdispatch\u001b[49m\u001b[43m(\u001b[49m\u001b[43margs\u001b[49m\u001b[43m[\u001b[49m\u001b[38;5;241;43m0\u001b[39;49m\u001b[43m]\u001b[49m\u001b[38;5;241;43m.\u001b[39;49m\u001b[38;5;18;43m__class__\u001b[39;49m\u001b[43m)\u001b[49m\u001b[43m(\u001b[49m\u001b[38;5;241;43m*\u001b[39;49m\u001b[43margs\u001b[49m\u001b[43m,\u001b[49m\u001b[43m \u001b[49m\u001b[38;5;241;43m*\u001b[39;49m\u001b[38;5;241;43m*\u001b[39;49m\u001b[43mkw\u001b[49m\u001b[43m)\u001b[49m\n",
      "File \u001b[1;32m~\\miniconda3\\envs\\env_conda_memoire1\\lib\\site-packages\\pytensor\\tensor\\sharedvar.py:69\u001b[0m, in \u001b[0;36mtensor_constructor\u001b[1;34m(value, name, strict, allow_downcast, borrow, shape, target, broadcastable)\u001b[0m\n\u001b[0;32m     59\u001b[0m \u001b[38;5;250m\u001b[39m\u001b[38;5;124mr\u001b[39m\u001b[38;5;124;03m\"\"\"`SharedVariable` constructor for `TensorType`\\s.\u001b[39;00m\n\u001b[0;32m     60\u001b[0m \n\u001b[0;32m     61\u001b[0m \u001b[38;5;124;03mNotes\u001b[39;00m\n\u001b[1;32m   (...)\u001b[0m\n\u001b[0;32m     66\u001b[0m \n\u001b[0;32m     67\u001b[0m \u001b[38;5;124;03m\"\"\"\u001b[39;00m\n\u001b[0;32m     68\u001b[0m \u001b[38;5;28;01mif\u001b[39;00m \u001b[38;5;28misinstance\u001b[39m(value, np\u001b[38;5;241m.\u001b[39mma\u001b[38;5;241m.\u001b[39mMaskedArray):\n\u001b[1;32m---> 69\u001b[0m     \u001b[38;5;28;01mraise\u001b[39;00m \u001b[38;5;167;01mNotImplementedError\u001b[39;00m(\u001b[38;5;124m\"\u001b[39m\u001b[38;5;124mMaskedArrays are not supported\u001b[39m\u001b[38;5;124m\"\u001b[39m)\n\u001b[0;32m     71\u001b[0m \u001b[38;5;28;01mif\u001b[39;00m broadcastable \u001b[38;5;129;01mis\u001b[39;00m \u001b[38;5;129;01mnot\u001b[39;00m \u001b[38;5;28;01mNone\u001b[39;00m:\n\u001b[0;32m     72\u001b[0m     warnings\u001b[38;5;241m.\u001b[39mwarn(\n\u001b[0;32m     73\u001b[0m         \u001b[38;5;124m\"\u001b[39m\u001b[38;5;124mThe `broadcastable` keyword is deprecated; use `shape`.\u001b[39m\u001b[38;5;124m\"\u001b[39m,\n\u001b[0;32m     74\u001b[0m         \u001b[38;5;167;01mDeprecationWarning\u001b[39;00m,\n\u001b[0;32m     75\u001b[0m     )\n",
      "\u001b[1;31mNotImplementedError\u001b[0m: MaskedArrays are not supported"
     ]
    }
   ],
   "source": [
    "lags = 2\n",
    "trials = 100\n",
    "\n",
    "coords = {\n",
    "    \"lags\": range(-lags, 0),\n",
    "    \"steps\": range(trials - lags),\n",
    "    \"trials\": range(trials),\n",
    "}\n",
    "with pm.Model(coords=coords, check_bounds=False) as m:\n",
    "    rho = pm.Normal(\"rho\", 0, 0.2, dims=(\"lags\",))\n",
    "    \n",
    "    mu = pm.Normal(\"mu\")\n",
    "    sigma = pm.HalfNormal(\"sigma\", .2)\n",
    "    \n",
    "    ma_init_obs = pm.MutableData(\"ma_init_obs\", np.full((lags,), np.nan), dims=(\"lags\",))\n",
    "    ma_init = pm.Normal(\"ma_init\", observed=ma_init_obs, dims=(\"lags\",))\n",
    "\n",
    "    epsilon0 = ma_init[0] - mu\n",
    "    epsilon1 = ma_init[1] - mu - rho[0] * epsilon0\n",
    "    epsilon_init = pt.stack((epsilon0, epsilon1))\n",
    "    \n",
    "    def ma_step(*args):\n",
    "        epsilon_tm2, epsilon_tm1, rho, mu, sigma = args\n",
    "        mu = mu + epsilon_tm1 * rho[0] + epsilon_tm2 * rho[1]\n",
    "        y = pm.Normal.dist(mu = mu, sigma=sigma)\n",
    "        epsilon = y - mu\n",
    "        return (epsilon, y), collect_default_updates(args, [y])\n",
    "    \n",
    "    [_, ma_innov], ma_innov_updates = pytensor.scan(\n",
    "        fn=ma_step,\n",
    "        outputs_info=[{\"initial\": epsilon_init, \"taps\":range(-lags, 0)}, None],\n",
    "        non_sequences=[rho, mu, sigma],\n",
    "        n_steps=trials-lags,\n",
    "        strict=True,\n",
    "    )\n",
    "\n",
    "    ma_innov_obs = pm.MutableData(\"ma_innov_obs\", np.full((trials-lags,), np.nan), dims=(\"steps\",))\n",
    "    ma_innov = m.register_rv(ma_innov, name=\"ma_innov\", observed=ma_innov_obs, dims=(\"steps\"))\n",
    "    \n",
    "    ma = pm.Deterministic(\"ma\", pt.concatenate([ma_init, ma_innov], axis=-1), dims=(\"trials\",))"
   ]
  },
  {
   "cell_type": "code",
   "execution_count": null,
   "id": "4c96c902-d134-4efc-b463-f23dffb152fe",
   "metadata": {},
   "outputs": [],
   "source": []
  }
 ],
 "metadata": {
  "kernelspec": {
   "display_name": "Python 3 (ipykernel)",
   "language": "python",
   "name": "python3"
  },
  "language_info": {
   "codemirror_mode": {
    "name": "ipython",
    "version": 3
   },
   "file_extension": ".py",
   "mimetype": "text/x-python",
   "name": "python",
   "nbconvert_exporter": "python",
   "pygments_lexer": "ipython3",
   "version": "3.11.3"
  }
 },
 "nbformat": 4,
 "nbformat_minor": 5
}
