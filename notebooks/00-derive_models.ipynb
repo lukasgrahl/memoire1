{
 "cells": [
  {
   "cell_type": "code",
   "execution_count": 1,
   "id": "d8819eb8-5ff1-4941-b26f-d1f71faa8752",
   "metadata": {
    "tags": []
   },
   "outputs": [
    {
     "name": "stdout",
     "output_type": "stream",
     "text": [
      "DATA_DIR is existant under: C:\\Users\\LukasGrahl\\Documents\\GIT\\memoire1\\data\n"
     ]
    }
   ],
   "source": [
    "%run init_notebookspace.py"
   ]
  },
  {
   "cell_type": "code",
   "execution_count": 2,
   "id": "09419d4c-4f30-4b4d-b6f6-5bf41be0cfe1",
   "metadata": {
    "tags": []
   },
   "outputs": [],
   "source": [
    "from settings import MODEL_DIR"
   ]
  },
  {
   "cell_type": "code",
   "execution_count": 3,
   "id": "f9283730-7e55-4733-9942-49446c20df96",
   "metadata": {
    "tags": []
   },
   "outputs": [],
   "source": [
    "import sympy as sp\n",
    "import numpy as np\n",
    "\n",
    "from src.filtering_sampling import solve_updated_mod"
   ]
  },
  {
   "cell_type": "markdown",
   "id": "5fa28407-08f7-4184-9eec-070447a3ee10",
   "metadata": {
    "tags": []
   },
   "source": [
    "# A simple monetary model (Galì, 2008) Chapter 2"
   ]
  },
  {
   "cell_type": "markdown",
   "id": "7494c276-6710-4051-9a94-649fb41a7403",
   "metadata": {},
   "source": [
    "## derivation"
   ]
  },
  {
   "cell_type": "markdown",
   "id": "b879fe41-3ea9-4caf-af90-8d8fc5b926b9",
   "metadata": {},
   "source": [
    "#### The household\n",
    "$$\n",
    "    \\max \\mathbb{E}_t \\left[ \\sum_{s=0}^{\\inf} \\beta^{t+s} U(C_{t+s}, N_{t+s}) \\right]\n",
    "    \\\\ s.t.\n",
    "    \\\\ P_t C_t + Q_t B_t = B_{t-1} + W_t N_t \n",
    "    \\\\ U(C_t, N_t) = \\frac{C_t^{1 - \\sigma}}{(1 - \\sigma)} - \\frac{N_t^{1 + \\phi}}{(1 + \\phi)}\n",
    "    \\\\ Q_t = \\frac{1}{1+i_t}\n",
    "$$\n",
    "\n",
    "    FOC: \n",
    "    the FOC provide labour supply and the Euler Equation\n",
    "\n",
    "$$ \n",
    "    - \\frac{U_{n,t}}{U_{c, t}} = \\frac{W_t}{P_t} = C_t^\\sigma N_t^\\phi\n",
    "    \\\\ Q_t = \\beta \\mathbb{E}_t \\{\n",
    "                                        \\frac{U_{c, t+1}}{U_{c, t}} \\frac{P_t}{P_{t+1}}\n",
    "                                    \\}\n",
    "            = \\beta \\mathbb{E}_t \\{\n",
    "                                        \\frac{C_{t+1}}{C_t}^{-\\sigma} \\frac{P_t}{P_{t+1}}\n",
    "                                    \\}\n",
    "$$\n",
    "\n",
    "#### The firm\n",
    "$$\n",
    "    \\max Y_t = A_t N_t^{1-\\alpha} \n",
    "    \\\\ s.t.\n",
    "    \\\\ P_t Y_t = W_t N_t\n",
    "$$\n",
    "\n",
    "    FOC:\n",
    "    the FOC provides labour demand\n",
    "\n",
    "$$\n",
    "    W_t = (1 - \\alpha) A_t N_t^{-\\alpha} P_t\n",
    "$$\n",
    "\n",
    "\n",
    "#### Log linearisation\n",
    "##### The Euler Equation \n",
    "$$\n",
    "    1 = \\mathbb{E}_t \\{\n",
    "                        \\exp(i_t + \\sigma \\Delta c_{t+1} - \\pi_{t+1} - \\rho)\n",
    "                    \\}\n",
    "$$\n",
    "\n",
    "In the steady state consumption grows at the constant rate $\\gamma$. Moreover $\\pi$ is constant, hence for the above to hold:\n",
    "$$\n",
    "    i_{ss} = \\sigma \\gamma + \\pi_{ss} + \\rho\n",
    "$$\n",
    "\n",
    "\n",
    "plugging this into a 1st order Taylor approximation: \n",
    "$$\n",
    "    1 \\approx 1 + (i_t - i_{ss}) - \\sigma(\\Delta c_{t+1} - \\gamma) - (\\pi_{t+1} - \\pi_{ss})\n",
    "    \\\\ 1 \\approx i_t + \\mathbb{E}_t \\{\n",
    "                                        \\sigma \\Delta c_{t+1} + \\pi_{t+1}\n",
    "                                        \\} + \\rho\n",
    "$$\n",
    "\n",
    "\n",
    "and thus the Euler equation can be written as:\n",
    "$$\n",
    "    c_t = \\mathbb{E}_t \\{ c_{t+1} \\} - \\frac{1}{\\sigma} (i_t - \\rho - \\mathbb{E}_t \\{ \\pi_{t+1} \\} )\n",
    "$$\n",
    "##### the production function\n",
    "$$\n",
    "    y_t = a_t + (1 - \\alpha) n_t\n",
    "$$\n",
    "##### labour demand and supply\n",
    "rewriting labour demand and supply in terms of $w_t$ allows to elimante wage and to derive an equilbrium equivalence of $a_t$ and $n_t$\n",
    "$$\n",
    "    w_t = a_t - \\alpha n_t + log(1-\\alpha) + p_t = \\sigma c_t + \\phi n_t + p_t\n",
    "$$\n",
    "\n",
    "#### Euquilibirum\n",
    "\n",
    "Under equilibrium condition all $y_t$ will be consumed, wherefore $y_t = c_t$. Setting labour demand equal to supply and substituting $c_t$ for output yields two expresssion of labour and output in terms of technology level $a_t$: \n",
    "$$\n",
    "    \\bf n_t = a_t \\psi_{n,a} + \\zeta_{n}\n",
    "    \\\\\n",
    "    y_t = a_t \\psi_{y, a} + \\zeta_{n} (1-\\alpha)\n",
    "$$\n",
    "\n",
    "where the $\\psi$s capture the following parameters\n",
    "$$\n",
    "    \\psi_{n, a} = \\frac{1-\\sigma}{phi + \\sigma + (1-\\sigma) \\alpha}\n",
    "    \\\\\n",
    "    \\zeta_n = \\frac{log(1-\\alpha)}{phi + \\sigma + (1-\\sigma) \\alpha}\n",
    "    \\\\\n",
    "    \\psi_{y, a} = 1 + \\psi_{n, a} (1-\\alpha)\n",
    "$$\n",
    "casting this into the Euler condition and replacing $c_t$ with output yields an expression for the real interest rate\n",
    "$$\n",
    "    r_t \\equiv i_t - \\mathbb{E}_t \\{\\pi_{t+1} \\}\n",
    "    \\\\\n",
    "    y_t = \\mathbb{E}_t \\{ y_{t+1} \\} - \\frac{1}{\\sigma} (r_t + \\mathbb{E}_t \\{\\pi_{t+1} \\} - \\mathbb{E}_t \\{\\pi_{t+1} \\} - rho)\n",
    "    \\\\\n",
    "$$\n",
    "$$\n",
    "    \\bf\n",
    "    r_t =  \\rho + \\sigma \\mathbb{E}_t \\{ \\Delta y_{t+1} \\} = \\rho + \\sigma \\psi_{y, a} \\mathbb{E}_t \\{\\Delta a_{t+1} \\}\n",
    "$$\n",
    "\n",
    "To close the model an interest rate rule is required, for the purpose of the simple model I will be the below rule with $\\phi_{\\pi}$ assumed to be greater 1:\n",
    "\n",
    "$$\n",
    "    i_t = \\rho + \\phi_{\\pi} \\pi_t\n",
    "    \\\\ \\hat{r_t} = r - \\rho = i_t + \\mathbb{E}_t \\{ \\pi_{t+1} \\} = \\phi_{\\pi} \\pi_t - \\mathbb{E}_t \\{ \\pi_{t+1} \\}\n",
    "$$"
   ]
  },
  {
   "cell_type": "code",
   "execution_count": 4,
   "id": "aee4b2ab-adfe-421a-97b5-f0f7abfcd521",
   "metadata": {
    "tags": []
   },
   "outputs": [],
   "source": [
    "# smpy representation\n",
    "sp_symbols = sp.symbols(\n",
    "    ['alpha', 'sigma', 'phi', 'rho', 'a_t', 'da_t']\n",
    ")\n",
    "alpha, sigma, phi, rho, at, dat = sp_symbols\n",
    "\n",
    "psi_na = (1 - sigma) / (phi + sigma + (1 - sigma) * alpha)\n",
    "zeta_n = sp.log(1 - alpha) / (phi + sigma + (1 - sigma) * alpha)\n",
    "psi_ya = 1 + psi_na * (1 - alpha)\n",
    "\n",
    "nt = at * psi_na + zeta_n\n",
    "yt = at * psi_ya + sp.log(1-alpha) * zeta_n\n",
    "rt = rho + sigma * psi_ya * dat\n",
    "\n",
    "lamb_nt = sp.lambdify([alpha, sigma, phi, rho, at, dat], nt)\n",
    "lamb_yt = sp.lambdify([alpha, sigma, phi, rho, at, dat], yt)\n",
    "lamb_rt = sp.lambdify([alpha, sigma, phi, rho, at, dat], rt)"
   ]
  },
  {
   "cell_type": "code",
   "execution_count": 5,
   "id": "82c2d1fc-6037-46ea-9a4a-07a4e5f713c6",
   "metadata": {
    "tags": []
   },
   "outputs": [],
   "source": [
    "from config import mod4_params\n",
    "params = [mod4_params[item] for item in ['alpha', 'sigma_C', 'sigma_L', 'beta']]\n",
    "\n",
    "# get rho from beta\n",
    "params[-1] = - np.round(np.log(params[-1]), 4)\n",
    "# append at and dat\n",
    "params.extend([1, 0])"
   ]
  },
  {
   "cell_type": "markdown",
   "id": "e8eee069-8754-4081-bf75-0e1478247d2f",
   "metadata": {},
   "source": [
    "### steady state variables"
   ]
  },
  {
   "cell_type": "code",
   "execution_count": 6,
   "id": "4d90bfd6-780d-4335-8a4a-43eab74fedbb",
   "metadata": {
    "tags": []
   },
   "outputs": [
    {
     "data": {
      "text/plain": [
       "-0.2799347116067531"
      ]
     },
     "execution_count": 6,
     "metadata": {},
     "output_type": "execute_result"
    }
   ],
   "source": [
    "# labour\n",
    "lamb_nt(*params)"
   ]
  },
  {
   "cell_type": "code",
   "execution_count": 7,
   "id": "96546d3e-7a8d-48d3-a9d6-4c5b97ab84e4",
   "metadata": {
    "tags": []
   },
   "outputs": [
    {
     "data": {
      "text/plain": [
       "0.958067344600637"
      ]
     },
     "execution_count": 7,
     "metadata": {},
     "output_type": "execute_result"
    }
   ],
   "source": [
    "# output\n",
    "lamb_yt(*params)"
   ]
  },
  {
   "cell_type": "code",
   "execution_count": 8,
   "id": "59ff3829-5f75-4abc-b1b9-739519baebd2",
   "metadata": {
    "tags": []
   },
   "outputs": [
    {
     "data": {
      "text/plain": [
       "0.0101"
      ]
     },
     "execution_count": 8,
     "metadata": {},
     "output_type": "execute_result"
    }
   ],
   "source": [
    "# real interest rate\n",
    "lamb_rt(*params)"
   ]
  },
  {
   "cell_type": "markdown",
   "id": "2609aa2a-9c4a-4264-b538-84919c464da0",
   "metadata": {},
   "source": [
    "### Mickey Mouse RBC"
   ]
  },
  {
   "cell_type": "code",
   "execution_count": 9,
   "id": "b67703db-5a57-4dce-8106-0fe650fdc8cc",
   "metadata": {},
   "outputs": [],
   "source": [
    "_ = sp.symbols(['c_t', 'c_{t+1}', 'r_t', 'r_{t+1}', 'w_t', 'l_t', 'y_t', 'a_t', 'a_{t+1}', 'i_t', 'k_t', 'k_t+1', 'mc_t'])\n",
    "c, c1, r, r1, w, l, y, a, a1, i, k, k1, mc = _\n",
    "\n",
    "cs, rs, ws, ls, ys, a_s, i_s, ks, mcs = sp.symbols([f'{item}^*' for item in ['c', 'r', 'w', 'l', 'y', 'a', 'i', 'k', 'mc']])\n",
    "\n",
    "_ = sp.symbols(['alpha', 'beta', 'delta', 'phi', 'rho_a', 'epsilon_a', 'sigma'])\n",
    "alpha, beta, delta, phi, rho_a, epsilon_a, sigma = _"
   ]
  },
  {
   "cell_type": "code",
   "execution_count": 10,
   "id": "194b04ad-8780-4e66-bda3-23b945d0486b",
   "metadata": {},
   "outputs": [],
   "source": [
    "eqs = {\n",
    "    'euler': sp.Eq(c **(- sigma), beta * c1 **(- sigma) * (r1 + 1 - delta)),\n",
    "    'lsupply': sp.Eq(l ** phi, c ** + sigma * w),\n",
    "    'ldemand': sp.Eq((1 - alpha) * y / l, w),\n",
    "    'kdemand': sp.Eq(alpha * y / k, r),\n",
    "    'prod': sp.Eq(y, a * k ** alpha * l ** (1 - alpha)),\n",
    "    'ksupply': sp.Eq(k1, i + (1 - delta) * k),\n",
    "    'budget': sp.Eq(y, c + i),\n",
    "    'foc_r': sp.Eq(r, mc * alpha * y * k),\n",
    "    'foc_w': sp.Eq(w, mc * (1 - alpha) * y * 1 / l)\n",
    "}"
   ]
  },
  {
   "cell_type": "code",
   "execution_count": 21,
   "id": "141f860f-93c3-488c-9908-4b58e8cd7359",
   "metadata": {},
   "outputs": [],
   "source": [
    "# costas\n",
    "eqs = {\n",
    "    'euler': sp.Eq((c1 / c) ** sigma, beta * ((1 - delta) + r1)),\n",
    "    'lsupply': sp.Eq(c ** sigma * l ** phi, w),\n",
    "    'ldemand': sp.Eq(l, (1 - alpha) * y / w),\n",
    "    'kdemand': sp.Eq(k, alpha  * y / r),\n",
    "    'prod': sp.Eq(y, a * k ** alpha * l ** (1 - alpha)),\n",
    "    'ksupply': sp.Eq(i, k1 - (1 - delta) * k),\n",
    "    'budget': sp.Eq(y, c + i),\n",
    "    'tech': sp.Eq(sp.log(a1), (1 - rho_a) * sp.log(a_s) + rho_a * sp.log(a) + epsilon_a),\n",
    "}"
   ]
  },
  {
   "cell_type": "code",
   "execution_count": 22,
   "id": "81cbc030-3555-4dd5-bb48-eae5bc7e069e",
   "metadata": {},
   "outputs": [],
   "source": [
    "subs_dict = {c: cs, c1: cs, r: rs, r1: rs, w: ws, l: ls, y: ys, a: a_s, i: i_s, k: ks, k1: ks, mc: mcs}\n",
    "\n",
    "eqs_ss = {k: item.subs(subs_dict) for k, item in eqs.items()}"
   ]
  },
  {
   "cell_type": "code",
   "execution_count": 23,
   "id": "e2f6e027-a513-4622-bd88-e268d7a0e6a3",
   "metadata": {},
   "outputs": [],
   "source": [
    "r_ss = sp.solve(eqs_ss['euler'], rs)[0]\n",
    "a_ss = 1\n",
    "mc_ss = 1"
   ]
  },
  {
   "cell_type": "code",
   "execution_count": 24,
   "id": "bcc1861e-3303-4bcb-9b96-88ddbb987efe",
   "metadata": {},
   "outputs": [],
   "source": [
    "# steady state"
   ]
  },
  {
   "cell_type": "code",
   "execution_count": 25,
   "id": "3e192e01-68fd-4d34-a700-30829c4d318c",
   "metadata": {},
   "outputs": [],
   "source": [
    "r_ss = sp.solve(eqs_ss['euler'], rs)[0]\n",
    "c_ss = ((1 - alpha) * ys) ** (sigma / phi) * ws **((1 + sigma) / phi)\n",
    "i_ss = alpha * delta * ys / rs\n",
    "w_ss = (1 - alpha) * (alpha / r_ss) ** (alpha / (1 - alpha))"
   ]
  },
  {
   "cell_type": "code",
   "execution_count": 26,
   "id": "4da73d95-62dd-4286-8b33-9c20ea617318",
   "metadata": {},
   "outputs": [],
   "source": [
    "y_ss = (r_ss / (r_ss + alpha * delta)) ** (sigma / (sigma + phi)) * (1 - alpha) ** (- sigma / (sigma + phi)) * w_ss ** ((1 + sigma)/(sigma + phi))"
   ]
  },
  {
   "cell_type": "code",
   "execution_count": 30,
   "id": "fb07ab9f-dfe5-495d-9887-707b59eaefed",
   "metadata": {},
   "outputs": [
    {
     "data": {
      "text/latex": [
       "$\\displaystyle \\left(\\left(\\frac{\\alpha \\beta}{\\beta \\left(\\delta - 1\\right) + 1}\\right)^{- \\frac{\\alpha}{\\alpha - 1}} \\cdot \\left(1 - \\alpha\\right)\\right)^{\\frac{\\sigma + 1}{\\phi + \\sigma}} \\left(\\frac{\\beta \\left(\\delta - 1\\right) + 1}{\\beta \\left(\\alpha \\delta + \\delta - 1\\right) + 1}\\right)^{\\frac{\\sigma}{\\phi + \\sigma}} \\left(1 - \\alpha\\right)^{- \\frac{\\sigma}{\\phi + \\sigma}}$"
      ],
      "text/plain": [
       "((1 - alpha)/(alpha*beta/(beta*(delta - 1) + 1))**(alpha/(alpha - 1)))**((sigma + 1)/(phi + sigma))*((beta*(delta - 1) + 1)/(beta*(alpha*delta + delta - 1) + 1))**(sigma/(phi + sigma))/(1 - alpha)**(sigma/(phi + sigma))"
      ]
     },
     "execution_count": 30,
     "metadata": {},
     "output_type": "execute_result"
    }
   ],
   "source": [
    "sp.simplify(y_ss)"
   ]
  },
  {
   "cell_type": "code",
   "execution_count": 31,
   "id": "14330fc6-854e-49c6-b32f-8463cb2c4adf",
   "metadata": {},
   "outputs": [
    {
     "data": {
      "text/latex": [
       "$\\displaystyle l^{*} = \\left(\\left(\\frac{\\alpha \\beta}{\\beta \\left(\\delta - 1\\right) + 1}\\right)^{- \\frac{\\alpha}{\\alpha - 1}} \\cdot \\left(1 - \\alpha\\right)\\right)^{\\frac{\\sigma + 1}{\\phi + \\sigma}} \\left(\\frac{\\beta \\left(\\delta - 1\\right) + 1}{\\beta \\left(\\alpha \\delta + \\delta - 1\\right) + 1}\\right)^{\\frac{\\sigma}{\\phi + \\sigma}} \\left(\\frac{\\alpha \\beta}{\\beta \\left(\\delta - 1\\right) + 1}\\right)^{\\frac{\\alpha}{\\alpha - 1}} \\left(1 - \\alpha\\right)^{- \\frac{\\sigma}{\\phi + \\sigma}}$"
      ],
      "text/plain": [
       "Eq(l^*, ((1 - alpha)/(alpha*beta/(beta*(delta - 1) + 1))**(alpha/(alpha - 1)))**((sigma + 1)/(phi + sigma))*((beta*(delta - 1) + 1)/(beta*(alpha*delta + delta - 1) + 1))**(sigma/(phi + sigma))*(alpha*beta/(beta*(delta - 1) + 1))**(alpha/(alpha - 1))/(1 - alpha)**(sigma/(phi + sigma)))"
      ]
     },
     "execution_count": 31,
     "metadata": {},
     "output_type": "execute_result"
    }
   ],
   "source": [
    "sp.simplify(eqs_ss['ldemand'].subs({ys: y_ss, ws: w_ss}))"
   ]
  },
  {
   "cell_type": "code",
   "execution_count": null,
   "id": "18d053f8-5bb0-4ffe-905d-db20fffca547",
   "metadata": {},
   "outputs": [],
   "source": []
  },
  {
   "cell_type": "code",
   "execution_count": null,
   "id": "7e9055e5-f754-4775-a8ad-ff9915efda23",
   "metadata": {},
   "outputs": [],
   "source": []
  },
  {
   "cell_type": "code",
   "execution_count": 535,
   "id": "3d1dd84e-9dc8-46cb-987e-44d59630c420",
   "metadata": {},
   "outputs": [
    {
     "ename": "NotImplementedError",
     "evalue": "multiple generators [(-alpha*y^* + y^*)**(sigma/phi), y^*]\nNo algorithms are implemented to solve equation -alpha*delta*y^*/r^* - w^***((sigma + 1)/phi)*(y^**(1 - alpha))**(sigma/phi) + y^*",
     "output_type": "error",
     "traceback": [
      "\u001b[1;31m---------------------------------------------------------------------------\u001b[0m",
      "\u001b[1;31mNotImplementedError\u001b[0m                       Traceback (most recent call last)",
      "Cell \u001b[1;32mIn[535], line 1\u001b[0m\n\u001b[1;32m----> 1\u001b[0m \u001b[43msp\u001b[49m\u001b[38;5;241;43m.\u001b[39;49m\u001b[43msolve\u001b[49m\u001b[43m(\u001b[49m\u001b[43my_ss\u001b[49m\u001b[43m,\u001b[49m\u001b[43m \u001b[49m\u001b[43mys\u001b[49m\u001b[43m)\u001b[49m\n",
      "File \u001b[1;32m~\\miniconda3\\envs\\env_conda3_memoire1\\lib\\site-packages\\sympy\\solvers\\solvers.py:1112\u001b[0m, in \u001b[0;36msolve\u001b[1;34m(f, *symbols, **flags)\u001b[0m\n\u001b[0;32m   1108\u001b[0m \u001b[38;5;66;03m#\u001b[39;00m\n\u001b[0;32m   1109\u001b[0m \u001b[38;5;66;03m# try to get a solution\u001b[39;00m\n\u001b[0;32m   1110\u001b[0m \u001b[38;5;66;03m###########################################################################\u001b[39;00m\n\u001b[0;32m   1111\u001b[0m \u001b[38;5;28;01mif\u001b[39;00m bare_f:\n\u001b[1;32m-> 1112\u001b[0m     solution \u001b[38;5;241m=\u001b[39m _solve(f[\u001b[38;5;241m0\u001b[39m], \u001b[38;5;241m*\u001b[39msymbols, \u001b[38;5;241m*\u001b[39m\u001b[38;5;241m*\u001b[39mflags)\n\u001b[0;32m   1113\u001b[0m \u001b[38;5;28;01melse\u001b[39;00m:\n\u001b[0;32m   1114\u001b[0m     solution \u001b[38;5;241m=\u001b[39m _solve_system(f, symbols, \u001b[38;5;241m*\u001b[39m\u001b[38;5;241m*\u001b[39mflags)\n",
      "File \u001b[1;32m~\\miniconda3\\envs\\env_conda3_memoire1\\lib\\site-packages\\sympy\\solvers\\solvers.py:1744\u001b[0m, in \u001b[0;36m_solve\u001b[1;34m(f, *symbols, **flags)\u001b[0m\n\u001b[0;32m   1741\u001b[0m \u001b[38;5;66;03m# ----------- end of fallback ----------------------------\u001b[39;00m\n\u001b[0;32m   1743\u001b[0m \u001b[38;5;28;01mif\u001b[39;00m result \u001b[38;5;129;01mis\u001b[39;00m \u001b[38;5;28;01mFalse\u001b[39;00m:\n\u001b[1;32m-> 1744\u001b[0m     \u001b[38;5;28;01mraise\u001b[39;00m \u001b[38;5;167;01mNotImplementedError\u001b[39;00m(\u001b[38;5;124m'\u001b[39m\u001b[38;5;130;01m\\n\u001b[39;00m\u001b[38;5;124m'\u001b[39m\u001b[38;5;241m.\u001b[39mjoin([msg, not_impl_msg \u001b[38;5;241m%\u001b[39m f]))\n\u001b[0;32m   1746\u001b[0m \u001b[38;5;28;01mif\u001b[39;00m flags\u001b[38;5;241m.\u001b[39mget(\u001b[38;5;124m'\u001b[39m\u001b[38;5;124msimplify\u001b[39m\u001b[38;5;124m'\u001b[39m, \u001b[38;5;28;01mTrue\u001b[39;00m):\n\u001b[0;32m   1747\u001b[0m     result \u001b[38;5;241m=\u001b[39m \u001b[38;5;28mlist\u001b[39m(\u001b[38;5;28mmap\u001b[39m(simplify, result))\n",
      "\u001b[1;31mNotImplementedError\u001b[0m: multiple generators [(-alpha*y^* + y^*)**(sigma/phi), y^*]\nNo algorithms are implemented to solve equation -alpha*delta*y^*/r^* - w^***((sigma + 1)/phi)*(y^**(1 - alpha))**(sigma/phi) + y^*"
     ]
    }
   ],
   "source": [
    "sp.solve(y_ss, ys)"
   ]
  },
  {
   "cell_type": "code",
   "execution_count": null,
   "id": "52a337b4-53cb-47cc-be0c-a29e00257b45",
   "metadata": {},
   "outputs": [],
   "source": []
  },
  {
   "cell_type": "code",
   "execution_count": 530,
   "id": "c51f3f8e-b9e6-4835-8121-f67e3faeee8c",
   "metadata": {},
   "outputs": [
    {
     "data": {
      "text/latex": [
       "$\\displaystyle \\left(w^{*}\\right)^{\\frac{\\sigma + 1}{\\phi}} \\left(y^{*} \\left(1 - \\alpha\\right)\\right)^{\\frac{\\sigma}{\\phi}}$"
      ],
      "text/plain": [
       "w^***((sigma + 1)/phi)*(y^**(1 - alpha))**(sigma/phi)"
      ]
     },
     "execution_count": 530,
     "metadata": {},
     "output_type": "execute_result"
    }
   ],
   "source": [
    "c_ss"
   ]
  },
  {
   "cell_type": "code",
   "execution_count": null,
   "id": "daa2806b-a8f5-465f-a3d6-888c0e00b0e3",
   "metadata": {},
   "outputs": [],
   "source": []
  },
  {
   "cell_type": "code",
   "execution_count": null,
   "id": "3860bf05-fcf5-4d38-9b9c-affd62a6a82c",
   "metadata": {},
   "outputs": [],
   "source": []
  },
  {
   "cell_type": "code",
   "execution_count": null,
   "id": "412ea928-7985-4944-9bc8-9e79843602f1",
   "metadata": {},
   "outputs": [],
   "source": []
  },
  {
   "cell_type": "markdown",
   "id": "e17c2abf-62fb-4066-8a3e-042d88fe65cb",
   "metadata": {},
   "source": [
    "# New Keynsian Model (Galì, 2008) Chapter 4"
   ]
  },
  {
   "cell_type": "code",
   "execution_count": null,
   "id": "52b1ae2a-9f8e-45f3-ae08-e812b502ef30",
   "metadata": {},
   "outputs": [],
   "source": []
  },
  {
   "cell_type": "code",
   "execution_count": 48,
   "id": "04aa4180-e0b1-47bb-87d0-4a1580c4eae5",
   "metadata": {
    "tags": []
   },
   "outputs": [
    {
     "data": {
      "text/latex": [
       "$\\displaystyle \\left[\\begin{matrix}1 & 0 & 0 & \\frac{- \\phi_{\\pi} \\beta \\kappa \\omega^{2} \\rho + \\phi_{\\pi} \\kappa \\omega^{2} \\rho - \\phi_{y} \\beta \\omega^{2} \\rho - \\beta \\omega^{2} \\rho \\sigma - \\kappa \\omega^{2} \\rho + \\omega \\rho}{\\phi_{\\pi} \\beta \\kappa \\omega^{2} \\sigma - \\phi_{\\pi} \\kappa \\omega^{2} \\sigma + \\phi_{y} \\beta \\omega^{2} \\sigma - \\phi_{y} \\beta \\omega + \\beta \\omega^{2} \\sigma^{2} - \\beta \\omega \\sigma + \\kappa \\omega^{2} \\sigma - \\kappa \\omega - \\omega \\sigma + 1}\\\\0 & 1 & 0 & \\frac{\\kappa \\omega \\rho}{\\phi_{\\pi} \\beta \\kappa \\omega^{2} \\sigma - \\phi_{\\pi} \\kappa \\omega^{2} \\sigma + \\phi_{y} \\beta \\omega^{2} \\sigma - \\phi_{y} \\beta \\omega + \\beta \\omega^{2} \\sigma^{2} - \\beta \\omega \\sigma + \\kappa \\omega^{2} \\sigma - \\kappa \\omega - \\omega \\sigma + 1}\\\\0 & 0 & 1 & \\rho\\end{matrix}\\right]$"
      ],
      "text/plain": [
       "Matrix([\n",
       "[1, 0, 0, (-\\phi_{\\pi}*beta*kappa*omega**2*rho + \\phi_{\\pi}*kappa*omega**2*rho - \\phi_{y}*beta*omega**2*rho - beta*omega**2*rho*sigma - kappa*omega**2*rho + omega*rho)/(\\phi_{\\pi}*beta*kappa*omega**2*sigma - \\phi_{\\pi}*kappa*omega**2*sigma + \\phi_{y}*beta*omega**2*sigma - \\phi_{y}*beta*omega + beta*omega**2*sigma**2 - beta*omega*sigma + kappa*omega**2*sigma - kappa*omega - omega*sigma + 1)],\n",
       "[0, 1, 0,                                                                                                                                               kappa*omega*rho/(\\phi_{\\pi}*beta*kappa*omega**2*sigma - \\phi_{\\pi}*kappa*omega**2*sigma + \\phi_{y}*beta*omega**2*sigma - \\phi_{y}*beta*omega + beta*omega**2*sigma**2 - beta*omega*sigma + kappa*omega**2*sigma - kappa*omega - omega*sigma + 1)],\n",
       "[0, 0, 1,                                                                                                                                                                                                                                                                                                                                                                                            rho]])"
      ]
     },
     "execution_count": 48,
     "metadata": {},
     "output_type": "execute_result"
    }
   ],
   "source": [
    "Y, pi, r, v, a = sp.symbols('Y \\pi, r, v, a')\n",
    "omega, sigma, beta, phi_pi, kappa, rho, psi_ya, phi_y = sp.symbols('omega sigma beta, \\phi_{\\pi} kappa rho \\psi_{ya} \\phi_{y}')\n",
    "\n",
    "a = 0\n",
    "v = 0\n",
    "\n",
    "eq_1 = Y - (omega * (sigma * Y + (1 - beta) * phi_pi * pi) + omega * (r - v))\n",
    "eq_2 = pi - (omega * (sigma * kappa * Y + (kappa + beta * ( sigma + phi_y ) ) * pi ) + omega * kappa * (r - v))\n",
    "eq_3 = r - (rho + sigma * psi_ya * (a - a))\n",
    "\n",
    "A, y = sp.linear_eq_to_matrix([eq_1, eq_2, eq_3], [Y, pi, r])\n",
    "\n",
    "sp.Matrix([[A, y]]).rref()[0]"
   ]
  },
  {
   "cell_type": "code",
   "execution_count": 5,
   "id": "4cba17d8-9e5f-4da1-b5fa-eb1fe1bf9e94",
   "metadata": {},
   "outputs": [],
   "source": [
    "Y, pi_q, i, s = sp.symbols('Y \\pi_q, i, s')\n",
    "alpha_m, rho_s, beta, kappa, lambda_p, Gamma_s, phi_pi = sp.symbols('alpha_m rho_{s} beta kappa lambda_{p} \\Gamma_{s} \\phi_{\\pi}')\n",
    "\n",
    "s = 1\n",
    "\n",
    "eq_1 = Y - Y + (i - pi_q ) + alpha_m * (1 - rho_s) / (1 - alpha_m) * s \n",
    "eq_2 = pi_q - beta * pi_q + kappa * Y + lambda_p + Gamma_s * s\n",
    "eq_3 = i - phi_pi * pi_q\n",
    "\n",
    "A, y = sp.linear_eq_to_matrix([eq_1, eq_2, eq_3], [Y, pi_q, i])\n",
    "\n",
    "x = sp.Matrix([[A, y]]).rref()[0]"
   ]
  },
  {
   "cell_type": "code",
   "execution_count": 6,
   "id": "c07fae7e-6828-40d9-a1b7-a2a65e53e6d3",
   "metadata": {
    "tags": []
   },
   "outputs": [
    {
     "data": {
      "text/latex": [
       "$\\displaystyle \\left[\\begin{matrix}1 & 0 & 0 & \\frac{- \\Gamma_{s} \\phi_{\\pi} \\alpha_{m} + \\Gamma_{s} \\phi_{\\pi} + \\Gamma_{s} \\alpha_{m} - \\Gamma_{s} - \\phi_{\\pi} \\alpha_{m} lambda_{p} + \\phi_{\\pi} lambda_{p} - \\alpha_{m} \\beta rho_{s} + \\alpha_{m} \\beta + \\alpha_{m} lambda_{p} + \\alpha_{m} rho_{s} - \\alpha_{m} - lambda_{p}}{\\phi_{\\pi} \\alpha_{m} \\kappa - \\phi_{\\pi} \\kappa - \\alpha_{m} \\kappa + \\kappa}\\\\0 & 1 & 0 & \\frac{- \\alpha_{m} rho_{s} + \\alpha_{m}}{\\phi_{\\pi} \\alpha_{m} - \\phi_{\\pi} - \\alpha_{m} + 1}\\\\0 & 0 & 1 & \\frac{- \\phi_{\\pi} \\alpha_{m} rho_{s} + \\phi_{\\pi} \\alpha_{m}}{\\phi_{\\pi} \\alpha_{m} - \\phi_{\\pi} - \\alpha_{m} + 1}\\end{matrix}\\right]$"
      ],
      "text/plain": [
       "Matrix([\n",
       "[1, 0, 0, (-\\Gamma_{s}*\\phi_{\\pi}*alpha_m + \\Gamma_{s}*\\phi_{\\pi} + \\Gamma_{s}*alpha_m - \\Gamma_{s} - \\phi_{\\pi}*alpha_m*lambda_{p} + \\phi_{\\pi}*lambda_{p} - alpha_m*beta*rho_{s} + alpha_m*beta + alpha_m*lambda_{p} + alpha_m*rho_{s} - alpha_m - lambda_{p})/(\\phi_{\\pi}*alpha_m*kappa - \\phi_{\\pi}*kappa - alpha_m*kappa + kappa)],\n",
       "[0, 1, 0,                                                                                                                                                                                                                                                 (-alpha_m*rho_{s} + alpha_m)/(\\phi_{\\pi}*alpha_m - \\phi_{\\pi} - alpha_m + 1)],\n",
       "[0, 0, 1,                                                                                                                                                                                                                           (-\\phi_{\\pi}*alpha_m*rho_{s} + \\phi_{\\pi}*alpha_m)/(\\phi_{\\pi}*alpha_m - \\phi_{\\pi} - alpha_m + 1)]])"
      ]
     },
     "execution_count": 6,
     "metadata": {},
     "output_type": "execute_result"
    }
   ],
   "source": [
    "x"
   ]
  },
  {
   "cell_type": "code",
   "execution_count": 8,
   "id": "41b7cf3c-e7f2-4903-acd5-e86844c8783a",
   "metadata": {
    "tags": []
   },
   "outputs": [
    {
     "data": {
      "text/latex": [
       "$\\displaystyle \\frac{- \\Gamma_{s} \\phi_{\\pi} \\alpha_{m} + \\Gamma_{s} \\phi_{\\pi} + \\Gamma_{s} \\alpha_{m} - \\Gamma_{s} - \\phi_{\\pi} \\alpha_{m} lambda_{p} + \\phi_{\\pi} lambda_{p} - \\alpha_{m} \\beta rho_{s} + \\alpha_{m} \\beta + \\alpha_{m} lambda_{p} + \\alpha_{m} rho_{s} - \\alpha_{m} - lambda_{p}}{\\phi_{\\pi} \\alpha_{m} \\kappa - \\phi_{\\pi} \\kappa - \\alpha_{m} \\kappa + \\kappa}$"
      ],
      "text/plain": [
       "(-\\Gamma_{s}*\\phi_{\\pi}*alpha_m + \\Gamma_{s}*\\phi_{\\pi} + \\Gamma_{s}*alpha_m - \\Gamma_{s} - \\phi_{\\pi}*alpha_m*lambda_{p} + \\phi_{\\pi}*lambda_{p} - alpha_m*beta*rho_{s} + alpha_m*beta + alpha_m*lambda_{p} + alpha_m*rho_{s} - alpha_m - lambda_{p})/(\\phi_{\\pi}*alpha_m*kappa - \\phi_{\\pi}*kappa - alpha_m*kappa + kappa)"
      ]
     },
     "execution_count": 8,
     "metadata": {},
     "output_type": "execute_result"
    }
   ],
   "source": [
    "x[3]"
   ]
  },
  {
   "cell_type": "code",
   "execution_count": null,
   "id": "49515a2f-615a-43d9-9368-79c5e064d54d",
   "metadata": {},
   "outputs": [],
   "source": []
  }
 ],
 "metadata": {
  "kernelspec": {
   "display_name": "Python 3 (ipykernel)",
   "language": "python",
   "name": "python3"
  },
  "language_info": {
   "codemirror_mode": {
    "name": "ipython",
    "version": 3
   },
   "file_extension": ".py",
   "mimetype": "text/x-python",
   "name": "python",
   "nbconvert_exporter": "python",
   "pygments_lexer": "ipython3",
   "version": "3.9.16"
  }
 },
 "nbformat": 4,
 "nbformat_minor": 5
}
