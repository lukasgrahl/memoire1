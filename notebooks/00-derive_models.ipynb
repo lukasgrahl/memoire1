{
 "cells": [
  {
   "cell_type": "code",
   "execution_count": 2,
   "id": "d8819eb8-5ff1-4941-b26f-d1f71faa8752",
   "metadata": {
    "tags": []
   },
   "outputs": [
    {
     "name": "stdout",
     "output_type": "stream",
     "text": [
      "DATA_DIR is existant under: C:\\Users\\LukasGrahl\\Documents\\GIT\\memoire1\\data\n"
     ]
    }
   ],
   "source": [
    "%run init_notebookspace.py"
   ]
  },
  {
   "cell_type": "code",
   "execution_count": 3,
   "id": "09419d4c-4f30-4b4d-b6f6-5bf41be0cfe1",
   "metadata": {
    "tags": []
   },
   "outputs": [],
   "source": [
    "from settings import MODEL_DIR"
   ]
  },
  {
   "cell_type": "code",
   "execution_count": 4,
   "id": "f9283730-7e55-4733-9942-49446c20df96",
   "metadata": {
    "tags": []
   },
   "outputs": [],
   "source": [
    "\n",
    "import sympy as sp\n",
    "import numpy as np\n",
    "\n",
    "from src.filtering_sampling import solve_updated_mod"
   ]
  },
  {
   "cell_type": "markdown",
   "id": "5fa28407-08f7-4184-9eec-070447a3ee10",
   "metadata": {
    "tags": []
   },
   "source": [
    "# A simple monetary model (Galì, 2008) Chapter 2"
   ]
  },
  {
   "cell_type": "markdown",
   "id": "7494c276-6710-4051-9a94-649fb41a7403",
   "metadata": {},
   "source": [
    "## derivation"
   ]
  },
  {
   "cell_type": "markdown",
   "id": "b879fe41-3ea9-4caf-af90-8d8fc5b926b9",
   "metadata": {},
   "source": [
    "#### The household\n",
    "$$\n",
    "    \\max \\mathbb{E}_t \\{ \\sum_{s=0}^{\\inf} \\beta^{t+s} U(C_{t+s}, N_{t+s}) \\} \n",
    "    \\\\ s.t.\n",
    "    \\\\ P_t C_t + Q_t B_t = B_{t-1} + W_t N_t \n",
    "    \\\\ U(C_t, N_t) = \\frac{C_t^{1 - \\sigma}}{(1 - \\sigma)} - \\frac{N_t^{1 + \\phi}}{(1 + \\phi)}\n",
    "    \\\\ Q_t = \\frac{1}{1+i_t}\n",
    "$$\n",
    "\n",
    "    FOC: \n",
    "    the FOC provide labour supply and the Euler Equation\n",
    "\n",
    "$$ \n",
    "    - \\frac{U_{n,t}}{U_{c, t}} = \\frac{W_t}{P_t} = C_t^\\sigma N_t^\\phi\n",
    "    \\\\ Q_t = \\beta \\mathbb{E}_t \\{\n",
    "                                        \\frac{U_{c, t+1}}{U_{c, t}} \\frac{P_t}{P_{t+1}}\n",
    "                                    \\}\n",
    "            = \\beta \\mathbb{E}_t \\{\n",
    "                                        \\frac{C_{t+1}}{C_t}^{-\\sigma} \\frac{P_t}{P_{t+1}}\n",
    "                                    \\}\n",
    "$$\n",
    "\n",
    "#### The firm\n",
    "$$\n",
    "    \\max Y_t = A_t N_t^{1-\\alpha} \n",
    "    \\\\ s.t.\n",
    "    \\\\ P_t Y_t = W_t N_t\n",
    "$$\n",
    "\n",
    "    FOC:\n",
    "    the FOC provides labour demand\n",
    "\n",
    "$$\n",
    "    W_t = (1 - \\alpha) A_t N_t^{-\\alpha} P_t\n",
    "$$\n",
    "\n",
    "\n",
    "#### Log linearisation\n",
    "##### The Euler Equation \n",
    "$$\n",
    "    1 = \\mathbb{E}_t \\{\n",
    "                        \\exp(i_t + \\sigma \\Delta c_{t+1} - \\pi_{t+1} - \\rho)\n",
    "                    \\}\n",
    "$$\n",
    "\n",
    "In the steady state consumption grows at the constant rate $\\gamma$. Moreover $\\pi$ is constant, hence for the above to hold:\n",
    "$$\n",
    "    i_{ss} = \\sigma \\gamma + \\pi_{ss} + \\rho\n",
    "$$\n",
    "\n",
    "\n",
    "plugging this into a 1st order Taylor approximation: \n",
    "$$\n",
    "    1 \\approx 1 + (i_t - i_{ss}) - \\sigma(\\Delta c_{t+1} - \\gamma) - (\\pi_{t+1} - \\pi_{ss})\n",
    "    \\\\ 1 \\approx i_t + \\mathbb{E}_t \\{\n",
    "                                        \\sigma \\Delta c_{t+1} + \\pi_{t+1}\n",
    "                                        \\} + \\rho\n",
    "$$\n",
    "\n",
    "\n",
    "and thus the Euler equation can be written as:\n",
    "$$\n",
    "    c_t = \\mathbb{E}_t \\{ c_{t+1} \\} - \\frac{1}{\\sigma} (i_t - \\rho - \\mathbb{E}_t \\{ \\pi_{t+1} \\} )\n",
    "$$\n",
    "##### the production function\n",
    "$$\n",
    "    y_t = a_t + (1 - \\alpha) n_t\n",
    "$$\n",
    "##### labour demand and supply\n",
    "rewriting labour demand and supply in terms of $w_t$ allows to elimante wage and to derive an equilbrium equivalence of $a_t$ and $n_t$\n",
    "$$\n",
    "    w_t = a_t - \\alpha n_t + log(1-\\alpha) + p_t = \\sigma c_t + \\phi n_t + p_t\n",
    "$$\n",
    "\n",
    "#### Euquilibirum\n",
    "\n",
    "Under equilibrium condition all $y_t$ will be consumed, wherefore $y_t = c_t$. Setting labour demand equal to supply and substituting $c_t$ for output yields two expresssion of labour and output in terms of technology level $a_t$: \n",
    "$$\n",
    "    \\bf n_t = a_t \\psi_{n,a} + \\zeta_{n}\n",
    "    \\\\\n",
    "    y_t = a_t \\psi_{y, a} + \\zeta_{n} (1-\\alpha)\n",
    "$$\n",
    "\n",
    "where the $\\psi$s capture the following parameters\n",
    "$$\n",
    "    \\psi_{n, a} = \\frac{1-\\sigma}{phi + \\sigma + (1-\\sigma) \\alpha}\n",
    "    \\\\\n",
    "    \\zeta_n = \\frac{log(1-\\alpha)}{phi + \\sigma + (1-\\sigma) \\alpha}\n",
    "    \\\\\n",
    "    \\psi_{y, a} = 1 + \\psi_{n, a} (1-\\alpha)\n",
    "$$\n",
    "casting this into the Euler condition and replacing $c_t$ with output yields an expression for the real interest rate\n",
    "$$\n",
    "    r_t \\equiv i_t - \\mathbb{E}_t \\{\\pi_{t+1} \\}\n",
    "    \\\\\n",
    "    y_t = \\mathbb{E}_t \\{ y_{t+1} \\} - \\frac{1}{\\sigma} (r_t + \\mathbb{E}_t \\{\\pi_{t+1} \\} - \\mathbb{E}_t \\{\\pi_{t+1} \\} - rho)\n",
    "    \\\\\n",
    "$$\n",
    "$$\n",
    "    \\bf\n",
    "    r_t =  \\rho + \\sigma \\mathbb{E}_t \\{ \\Delta y_{t+1} \\} = \\rho + \\sigma \\psi_{y, a} \\mathbb{E}_t \\{\\Delta a_{t+1} \\}\n",
    "$$\n",
    "\n",
    "To close the model an interest rate rule is required, for the purpose of the simple model I will be the below rule with $\\phi_{\\pi}$ assumed to be greater 1:\n",
    "\n",
    "$$\n",
    "    i_t = \\rho + \\phi_{\\pi} \\pi_t\n",
    "    \\\\ \\hat{r_t} = r - \\rho = i_t + \\mathbb{E}_t \\{ \\pi_{t+1} \\} = \\phi_{\\pi} \\pi_t - \\mathbb{E}_t \\{ \\pi_{t+1} \\}\n",
    "$$"
   ]
  },
  {
   "cell_type": "code",
   "execution_count": 152,
   "id": "aee4b2ab-adfe-421a-97b5-f0f7abfcd521",
   "metadata": {
    "tags": []
   },
   "outputs": [],
   "source": [
    "# smpy representation\n",
    "sp_symbols = sp.symbols(\n",
    "    ['alpha', 'sigma', 'phi', 'rho', 'a_t', 'da_t']\n",
    ")\n",
    "alpha, sigma, phi, rho, at, dat = sp_symbols\n",
    "\n",
    "psi_na = (1 - sigma) / (phi + sigma + (1 - sigma) * alpha)\n",
    "zeta_n = sp.log(1 - alpha) / (phi + sigma + (1 - sigma) * alpha)\n",
    "psi_ya = 1 + psi_na * (1 - alpha)\n",
    "\n",
    "nt = at * psi_na + zeta_n\n",
    "yt = at * psi_ya + sp.log(1-alpha) * zeta_n\n",
    "rt = rho + sigma * psi_ya * dat\n",
    "\n",
    "lamb_nt = sp.lambdify([alpha, sigma, phi, rho, at, dat], nt)\n",
    "lamb_yt = sp.lambdify([alpha, sigma, phi, rho, at, dat], yt)\n",
    "lamb_rt = sp.lambdify([alpha, sigma, phi, rho, at, dat], rt)"
   ]
  },
  {
   "cell_type": "code",
   "execution_count": 153,
   "id": "82c2d1fc-6037-46ea-9a4a-07a4e5f713c6",
   "metadata": {
    "tags": []
   },
   "outputs": [],
   "source": [
    "from config import mod4_params\n",
    "params = [mod4_params[item] for item in ['alpha', 'sigma_C', 'sigma_L', 'beta']]\n",
    "\n",
    "# get rho from beta\n",
    "params[-1] = - np.round(np.log(params[-1]), 4)\n",
    "# append at and dat\n",
    "params.extend([1, 0])"
   ]
  },
  {
   "cell_type": "markdown",
   "id": "e8eee069-8754-4081-bf75-0e1478247d2f",
   "metadata": {},
   "source": [
    "### steady state variables"
   ]
  },
  {
   "cell_type": "code",
   "execution_count": 154,
   "id": "4d90bfd6-780d-4335-8a4a-43eab74fedbb",
   "metadata": {
    "tags": []
   },
   "outputs": [
    {
     "data": {
      "text/plain": [
       "-0.2799347116067531"
      ]
     },
     "execution_count": 154,
     "metadata": {},
     "output_type": "execute_result"
    }
   ],
   "source": [
    "# labour\n",
    "lamb_nt(*params)"
   ]
  },
  {
   "cell_type": "code",
   "execution_count": 155,
   "id": "96546d3e-7a8d-48d3-a9d6-4c5b97ab84e4",
   "metadata": {
    "tags": []
   },
   "outputs": [
    {
     "data": {
      "text/plain": [
       "0.958067344600637"
      ]
     },
     "execution_count": 155,
     "metadata": {},
     "output_type": "execute_result"
    }
   ],
   "source": [
    "# output\n",
    "lamb_yt(*params)"
   ]
  },
  {
   "cell_type": "code",
   "execution_count": 156,
   "id": "59ff3829-5f75-4abc-b1b9-739519baebd2",
   "metadata": {
    "tags": []
   },
   "outputs": [
    {
     "data": {
      "text/plain": [
       "0.0101"
      ]
     },
     "execution_count": 156,
     "metadata": {},
     "output_type": "execute_result"
    }
   ],
   "source": [
    "# real interest rate\n",
    "lamb_rt(*params)"
   ]
  },
  {
   "cell_type": "markdown",
   "id": "e17c2abf-62fb-4066-8a3e-042d88fe65cb",
   "metadata": {},
   "source": [
    "# New Keynsian Model (Galì, 2008) Chapter 4"
   ]
  },
  {
   "cell_type": "code",
   "execution_count": null,
   "id": "52b1ae2a-9f8e-45f3-ae08-e812b502ef30",
   "metadata": {},
   "outputs": [],
   "source": []
  },
  {
   "cell_type": "code",
   "execution_count": 48,
   "id": "04aa4180-e0b1-47bb-87d0-4a1580c4eae5",
   "metadata": {
    "tags": []
   },
   "outputs": [
    {
     "data": {
      "text/latex": [
       "$\\displaystyle \\left[\\begin{matrix}1 & 0 & 0 & \\frac{- \\phi_{\\pi} \\beta \\kappa \\omega^{2} \\rho + \\phi_{\\pi} \\kappa \\omega^{2} \\rho - \\phi_{y} \\beta \\omega^{2} \\rho - \\beta \\omega^{2} \\rho \\sigma - \\kappa \\omega^{2} \\rho + \\omega \\rho}{\\phi_{\\pi} \\beta \\kappa \\omega^{2} \\sigma - \\phi_{\\pi} \\kappa \\omega^{2} \\sigma + \\phi_{y} \\beta \\omega^{2} \\sigma - \\phi_{y} \\beta \\omega + \\beta \\omega^{2} \\sigma^{2} - \\beta \\omega \\sigma + \\kappa \\omega^{2} \\sigma - \\kappa \\omega - \\omega \\sigma + 1}\\\\0 & 1 & 0 & \\frac{\\kappa \\omega \\rho}{\\phi_{\\pi} \\beta \\kappa \\omega^{2} \\sigma - \\phi_{\\pi} \\kappa \\omega^{2} \\sigma + \\phi_{y} \\beta \\omega^{2} \\sigma - \\phi_{y} \\beta \\omega + \\beta \\omega^{2} \\sigma^{2} - \\beta \\omega \\sigma + \\kappa \\omega^{2} \\sigma - \\kappa \\omega - \\omega \\sigma + 1}\\\\0 & 0 & 1 & \\rho\\end{matrix}\\right]$"
      ],
      "text/plain": [
       "Matrix([\n",
       "[1, 0, 0, (-\\phi_{\\pi}*beta*kappa*omega**2*rho + \\phi_{\\pi}*kappa*omega**2*rho - \\phi_{y}*beta*omega**2*rho - beta*omega**2*rho*sigma - kappa*omega**2*rho + omega*rho)/(\\phi_{\\pi}*beta*kappa*omega**2*sigma - \\phi_{\\pi}*kappa*omega**2*sigma + \\phi_{y}*beta*omega**2*sigma - \\phi_{y}*beta*omega + beta*omega**2*sigma**2 - beta*omega*sigma + kappa*omega**2*sigma - kappa*omega - omega*sigma + 1)],\n",
       "[0, 1, 0,                                                                                                                                               kappa*omega*rho/(\\phi_{\\pi}*beta*kappa*omega**2*sigma - \\phi_{\\pi}*kappa*omega**2*sigma + \\phi_{y}*beta*omega**2*sigma - \\phi_{y}*beta*omega + beta*omega**2*sigma**2 - beta*omega*sigma + kappa*omega**2*sigma - kappa*omega - omega*sigma + 1)],\n",
       "[0, 0, 1,                                                                                                                                                                                                                                                                                                                                                                                            rho]])"
      ]
     },
     "execution_count": 48,
     "metadata": {},
     "output_type": "execute_result"
    }
   ],
   "source": [
    "Y, pi, r, v, a = sp.symbols('Y \\pi, r, v, a')\n",
    "omega, sigma, beta, phi_pi, kappa, rho, psi_ya, phi_y = sp.symbols('omega sigma beta, \\phi_{\\pi} kappa rho \\psi_{ya} \\phi_{y}')\n",
    "\n",
    "a = 0\n",
    "v = 0\n",
    "\n",
    "eq_1 = Y - (omega * (sigma * Y + (1 - beta) * phi_pi * pi) + omega * (r - v))\n",
    "eq_2 = pi - (omega * (sigma * kappa * Y + (kappa + beta * ( sigma + phi_y ) ) * pi ) + omega * kappa * (r - v))\n",
    "eq_3 = r - (rho + sigma * psi_ya * (a - a))\n",
    "\n",
    "A, y = sp.linear_eq_to_matrix([eq_1, eq_2, eq_3], [Y, pi, r])\n",
    "\n",
    "sp.Matrix([[A, y]]).rref()[0]"
   ]
  },
  {
   "cell_type": "code",
   "execution_count": 5,
   "id": "4cba17d8-9e5f-4da1-b5fa-eb1fe1bf9e94",
   "metadata": {},
   "outputs": [],
   "source": [
    "Y, pi_q, i, s = sp.symbols('Y \\pi_q, i, s')\n",
    "alpha_m, rho_s, beta, kappa, lambda_p, Gamma_s, phi_pi = sp.symbols('alpha_m rho_{s} beta kappa lambda_{p} \\Gamma_{s} \\phi_{\\pi}')\n",
    "\n",
    "s = 1\n",
    "\n",
    "eq_1 = Y - Y + (i - pi_q ) + alpha_m * (1 - rho_s) / (1 - alpha_m) * s \n",
    "eq_2 = pi_q - beta * pi_q + kappa * Y + lambda_p + Gamma_s * s\n",
    "eq_3 = i - phi_pi * pi_q\n",
    "\n",
    "A, y = sp.linear_eq_to_matrix([eq_1, eq_2, eq_3], [Y, pi_q, i])\n",
    "\n",
    "x = sp.Matrix([[A, y]]).rref()[0]"
   ]
  },
  {
   "cell_type": "code",
   "execution_count": 6,
   "id": "c07fae7e-6828-40d9-a1b7-a2a65e53e6d3",
   "metadata": {
    "tags": []
   },
   "outputs": [
    {
     "data": {
      "text/latex": [
       "$\\displaystyle \\left[\\begin{matrix}1 & 0 & 0 & \\frac{- \\Gamma_{s} \\phi_{\\pi} \\alpha_{m} + \\Gamma_{s} \\phi_{\\pi} + \\Gamma_{s} \\alpha_{m} - \\Gamma_{s} - \\phi_{\\pi} \\alpha_{m} lambda_{p} + \\phi_{\\pi} lambda_{p} - \\alpha_{m} \\beta rho_{s} + \\alpha_{m} \\beta + \\alpha_{m} lambda_{p} + \\alpha_{m} rho_{s} - \\alpha_{m} - lambda_{p}}{\\phi_{\\pi} \\alpha_{m} \\kappa - \\phi_{\\pi} \\kappa - \\alpha_{m} \\kappa + \\kappa}\\\\0 & 1 & 0 & \\frac{- \\alpha_{m} rho_{s} + \\alpha_{m}}{\\phi_{\\pi} \\alpha_{m} - \\phi_{\\pi} - \\alpha_{m} + 1}\\\\0 & 0 & 1 & \\frac{- \\phi_{\\pi} \\alpha_{m} rho_{s} + \\phi_{\\pi} \\alpha_{m}}{\\phi_{\\pi} \\alpha_{m} - \\phi_{\\pi} - \\alpha_{m} + 1}\\end{matrix}\\right]$"
      ],
      "text/plain": [
       "Matrix([\n",
       "[1, 0, 0, (-\\Gamma_{s}*\\phi_{\\pi}*alpha_m + \\Gamma_{s}*\\phi_{\\pi} + \\Gamma_{s}*alpha_m - \\Gamma_{s} - \\phi_{\\pi}*alpha_m*lambda_{p} + \\phi_{\\pi}*lambda_{p} - alpha_m*beta*rho_{s} + alpha_m*beta + alpha_m*lambda_{p} + alpha_m*rho_{s} - alpha_m - lambda_{p})/(\\phi_{\\pi}*alpha_m*kappa - \\phi_{\\pi}*kappa - alpha_m*kappa + kappa)],\n",
       "[0, 1, 0,                                                                                                                                                                                                                                                 (-alpha_m*rho_{s} + alpha_m)/(\\phi_{\\pi}*alpha_m - \\phi_{\\pi} - alpha_m + 1)],\n",
       "[0, 0, 1,                                                                                                                                                                                                                           (-\\phi_{\\pi}*alpha_m*rho_{s} + \\phi_{\\pi}*alpha_m)/(\\phi_{\\pi}*alpha_m - \\phi_{\\pi} - alpha_m + 1)]])"
      ]
     },
     "execution_count": 6,
     "metadata": {},
     "output_type": "execute_result"
    }
   ],
   "source": [
    "x"
   ]
  },
  {
   "cell_type": "code",
   "execution_count": 8,
   "id": "41b7cf3c-e7f2-4903-acd5-e86844c8783a",
   "metadata": {
    "tags": []
   },
   "outputs": [
    {
     "data": {
      "text/latex": [
       "$\\displaystyle \\frac{- \\Gamma_{s} \\phi_{\\pi} \\alpha_{m} + \\Gamma_{s} \\phi_{\\pi} + \\Gamma_{s} \\alpha_{m} - \\Gamma_{s} - \\phi_{\\pi} \\alpha_{m} lambda_{p} + \\phi_{\\pi} lambda_{p} - \\alpha_{m} \\beta rho_{s} + \\alpha_{m} \\beta + \\alpha_{m} lambda_{p} + \\alpha_{m} rho_{s} - \\alpha_{m} - lambda_{p}}{\\phi_{\\pi} \\alpha_{m} \\kappa - \\phi_{\\pi} \\kappa - \\alpha_{m} \\kappa + \\kappa}$"
      ],
      "text/plain": [
       "(-\\Gamma_{s}*\\phi_{\\pi}*alpha_m + \\Gamma_{s}*\\phi_{\\pi} + \\Gamma_{s}*alpha_m - \\Gamma_{s} - \\phi_{\\pi}*alpha_m*lambda_{p} + \\phi_{\\pi}*lambda_{p} - alpha_m*beta*rho_{s} + alpha_m*beta + alpha_m*lambda_{p} + alpha_m*rho_{s} - alpha_m - lambda_{p})/(\\phi_{\\pi}*alpha_m*kappa - \\phi_{\\pi}*kappa - alpha_m*kappa + kappa)"
      ]
     },
     "execution_count": 8,
     "metadata": {},
     "output_type": "execute_result"
    }
   ],
   "source": [
    "x[3]"
   ]
  },
  {
   "cell_type": "code",
   "execution_count": null,
   "id": "49515a2f-615a-43d9-9368-79c5e064d54d",
   "metadata": {},
   "outputs": [],
   "source": []
  }
 ],
 "metadata": {
  "kernelspec": {
   "display_name": "env_memoire1",
   "language": "python",
   "name": "env_memoire1"
  },
  "language_info": {
   "codemirror_mode": {
    "name": "ipython",
    "version": 3
   },
   "file_extension": ".py",
   "mimetype": "text/x-python",
   "name": "python",
   "nbconvert_exporter": "python",
   "pygments_lexer": "ipython3",
   "version": "3.9.4"
  }
 },
 "nbformat": 4,
 "nbformat_minor": 5
}
