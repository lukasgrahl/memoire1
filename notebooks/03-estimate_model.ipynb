{
 "cells": [
  {
   "cell_type": "code",
   "execution_count": 72,
   "id": "6d2a458b-dfc1-42e0-bcf6-00e2bdf10137",
   "metadata": {},
   "outputs": [
    {
     "name": "stdout",
     "output_type": "stream",
     "text": [
      "DATA_DIR is existant under: C:\\Users\\LukasGrahl\\Documents\\GIT\\memoire1\\data\n"
     ]
    },
    {
     "data": {
      "text/plain": [
       "<Figure size 1440x432 with 0 Axes>"
      ]
     },
     "metadata": {},
     "output_type": "display_data"
    }
   ],
   "source": [
    "%run init_notebookspace.py\n",
    "from settings import DATA_DIR, MODEL_DIR"
   ]
  },
  {
   "cell_type": "code",
   "execution_count": 73,
   "id": "f6239d29-efde-4d6e-9c3d-ecdd4410f714",
   "metadata": {},
   "outputs": [],
   "source": [
    "from config import mod7_params, fred_dict, recession_dict"
   ]
  },
  {
   "cell_type": "code",
   "execution_count": 74,
   "id": "39d5c8a0-1a05-493a-ac8c-c336fb6d7340",
   "metadata": {},
   "outputs": [],
   "source": [
    "%matplotlib inline\n",
    "\n",
    "from gEconpy.classes.model import gEconModel\n",
    "from gEconpy.classes.transformers import IntervalTransformer\n",
    "from gEconpy import compile_to_statsmodels\n",
    "from gEconpy.plotting import plotting as gp\n",
    "\n",
    "\n",
    "import matplotlib.pyplot as plt\n",
    "import seaborn as sns\n",
    "from src.plotting import plot_dfs\n",
    "from src.gp_plotting import plot_sm_results\n",
    "from src.process_data import load_data\n",
    "\n",
    "import numpy as np\n",
    "import xarray as xr\n",
    "import pandas as pd\n",
    "\n",
    "import os\n",
    "\n",
    "from config import plt_config\n",
    "plt.rcParams.update(plt_config)"
   ]
  },
  {
   "cell_type": "markdown",
   "id": "8a9740e1-2261-4f63-88f1-4013724d694d",
   "metadata": {},
   "source": [
    "load data"
   ]
  },
  {
   "cell_type": "code",
   "execution_count": 75,
   "id": "314c06bf-75e1-49ce-ab90-d445f9e9e890",
   "metadata": {
    "tags": []
   },
   "outputs": [
    {
     "name": "stdout",
     "output_type": "stream",
     "text": [
      "Error occured 'is_test', file_dict may be incomplete\n"
     ]
    }
   ],
   "source": [
    "from config import fred_dict\n",
    "\n",
    "df = load_data('prepro_data.csv', DATA_DIR, fred_dict)\n",
    "df = df.rename(columns={'pi_s': 'pi_obj'}).drop(['pi_c', 'Ix', 'Zx'], axis=1)\n",
    "train = df[df['is_test'] == False].drop('is_test', axis=1).copy()\n",
    "test = df[df['is_test'] == True].drop('is_test', axis=1).copy()"
   ]
  },
  {
   "cell_type": "markdown",
   "id": "8b0c112c-36b5-470c-b1b5-b4ef8c9a6200",
   "metadata": {},
   "source": [
    "load & solve model"
   ]
  },
  {
   "cell_type": "code",
   "execution_count": 76,
   "id": "bcbe1a74-a97e-4a58-84b8-dd3a29d5eef8",
   "metadata": {},
   "outputs": [
    {
     "name": "stdout",
     "output_type": "stream",
     "text": [
      "Model Building Complete.\n",
      "Found:\n",
      "\t25 equations\n",
      "\t25 variables\n",
      "\tThe following \"variables\" were defined as constants and have been substituted away:\n",
      "\t\tB_t\n",
      "\t5 stochastic shocks\n",
      "\t\t 0 / 5 has a defined prior. \n",
      "\t18 parameters\n",
      "\t\t 0 / 18 has a defined prior. \n",
      "\t2 calibrating equations\n",
      "\t2 parameters to calibrate\n",
      " Model appears well defined and ready to proceed to solving.\n",
      "\n"
     ]
    }
   ],
   "source": [
    "mod = gEconModel(os.path.join(MODEL_DIR, 'gEconpy_mod7_nk.gcn'), verbose=True)"
   ]
  },
  {
   "cell_type": "code",
   "execution_count": 77,
   "id": "f6a287dc-89d8-483b-9a67-1262c0a01f09",
   "metadata": {},
   "outputs": [],
   "source": [
    "# assign parameters\n",
    "mod.free_param_dict.update(mod7_params)"
   ]
  },
  {
   "cell_type": "code",
   "execution_count": 78,
   "id": "fe471530-68f9-4626-aa22-2dfeb58c32f1",
   "metadata": {},
   "outputs": [
    {
     "name": "stdout",
     "output_type": "stream",
     "text": [
      "Steady state found! Sum of squared residuals is 2.3034213894186284e-23\n",
      "Solution found, sum of squared residuals:  5.233950627320991e-29\n",
      "Norm of deterministic part: 0.000000000\n",
      "Norm of stochastic part:    0.000000000\n",
      "Model solution has 14 eigenvalues greater than one in modulus and 11 forward-looking variables.\n",
      "Blanchard-Kahn condition is satisfied.\n"
     ]
    }
   ],
   "source": [
    "mod.steady_state()\n",
    "mod.solve_model()\n",
    "mod.check_bk_condition();"
   ]
  },
  {
   "cell_type": "markdown",
   "id": "876063f7-815b-4b26-ae1c-c0a2d3cc78a2",
   "metadata": {},
   "source": [
    "#### drawing from priors"
   ]
  },
  {
   "cell_type": "code",
   "execution_count": 79,
   "id": "19a8a0cd-a0da-4f9d-9ec1-82286810a374",
   "metadata": {
    "tags": []
   },
   "outputs": [],
   "source": [
    "from scipy.stats import gamma, norm, beta\n",
    "import scipy"
   ]
  },
  {
   "cell_type": "code",
   "execution_count": 86,
   "id": "8e5ac58b-3474-418e-a402-3e16c2526886",
   "metadata": {
    "tags": []
   },
   "outputs": [],
   "source": [
    "prior_dict = {\n",
    "    # 'alpha': beta(1.4, 10),\n",
    "    # 'beta': beta(.9, 1.5),\n",
    "    'sigma_C': gamma(a=3.9, loc=0, scale=0.757575757575758),\n",
    "    # 'sigma_L': gamma(a=3.9, loc=0, scale=0.757575757575758)\n",
    "            }"
   ]
  },
  {
   "cell_type": "code",
   "execution_count": 87,
   "id": "881ac7b4-45f9-4b54-98e9-92111f510b9e",
   "metadata": {
    "tags": []
   },
   "outputs": [],
   "source": [
    "def solve_updated_mod(mod, verbose: bool=True):\n",
    "    \n",
    "    # solve for steady state\n",
    "    mod.steady_state(verbose=verbose)\n",
    "    is_solved = mod.steady_state_solved\n",
    "    if not is_solved:\n",
    "        return False, mod\n",
    "    \n",
    "    # solve model, capture np.LinAlgEr\n",
    "    try:\n",
    "        mod.solve_model(verbose=verbose)\n",
    "    except np.linalg.LinAlgError:\n",
    "        return False, mod\n",
    "\n",
    "    # check blanchard kahn\n",
    "    is_bk = mod.check_bk_condition(return_value='bool', verbose=verbose)\n",
    "            \n",
    "    return is_solved & is_bk, mod"
   ]
  },
  {
   "cell_type": "code",
   "execution_count": 88,
   "id": "859fa225-e7ad-4754-9ac3-80d1b664f051",
   "metadata": {
    "tags": []
   },
   "outputs": [],
   "source": [
    "from filterpy.kalman import KalmanFilter\n",
    "def get_kalman_log_likelihood(observed_vars: list, all_vars: list,\n",
    "                              measurements: np.array, T: np.array,\n",
    "                              R_diag: list, ret_all: bool = False):\n",
    "    \n",
    "    # outputs\n",
    "    log_likelihood = []\n",
    "    mu, cov = None, None\n",
    "    \n",
    "    if ret_all:\n",
    "        mu, cov = [], []\n",
    "    \n",
    "    observed_ind = [all_vars.index(item) for item in observed_vars]\n",
    "    \n",
    "    # sanity\n",
    "    # add measurement == observed sanity\n",
    "    for i in observed_vars:\n",
    "        assert (i in all_vars) == True, f\"{i} not in filter_vars\"\n",
    "        \n",
    "    \n",
    "    xdim = len(all_vars)\n",
    "    zdim = len(observed_vars)\n",
    "        \n",
    "    # initialising the Kalman Filter\n",
    "    kfilter = KalmanFilter(dim_x=xdim, dim_z=zdim)\n",
    "    kfilter.F = T\n",
    "    kfilter.R = np.diag(R_diag)\n",
    "    for i, ind in enumerate(observed_ind):\n",
    "        kfilter.H[i, ind] = 1\n",
    "        \n",
    "    # predict, update, loglike\n",
    "    for i in measurements:\n",
    "        kfilter.predict()\n",
    "        kfilter.update(i)\n",
    "        \n",
    "        log_likelihood.append(kfilter.log_likelihood)\n",
    "        if ret_all:\n",
    "            mu.append(kfilter.x_post)\n",
    "            cov.append(kfilter.P_post)\n",
    "            \n",
    "    return log_likelihood, mu, cov"
   ]
  },
  {
   "cell_type": "code",
   "execution_count": 89,
   "id": "3265238c-c21b-43eb-ad92-c8aa0f7b5ecb",
   "metadata": {
    "tags": []
   },
   "outputs": [],
   "source": [
    "test, _, _ = get_kalman_log_likelihood([\"Y\", 'pi_obj'], \n",
    "                                           list(mod.T.columns),\n",
    "                                           train[[\"Y\", \"pi_obj\"]].values,\n",
    "                                           T=mod.T.values,\n",
    "                                           R_diag=[.01, .01],\n",
    "                                           ret_all=False)"
   ]
  },
  {
   "cell_type": "code",
   "execution_count": 90,
   "id": "707ae244-e3ef-4763-a51e-c01fdfbcff5c",
   "metadata": {},
   "outputs": [
    {
     "name": "stdout",
     "output_type": "stream",
     "text": [
      "Acceptance rate = 0.0\n"
     ]
    }
   ],
   "source": [
    "sample_dict = {}\n",
    "\n",
    "# define stepsize of MCMC.\n",
    "stepsizes = [0.005]  # array of stepsizes\n",
    "accepted  = 0.0\n",
    "\n",
    "\n",
    "# args: mod, base_mod_params, draw_from_priors, \n",
    "# get log-likelyhood\n",
    "for i in range(0, 10):\n",
    "    \n",
    "    # reset params\n",
    "    mod.free_param_dict.update(mod7_params)\n",
    "    \n",
    "    # old log_likelihood\n",
    "    old_loglike, _, _ = get_kalman_log_likelihood([\"Y\", 'pi_obj'], \n",
    "                                                   list(mod.T.columns),\n",
    "                                                   train[[\"Y\", \"pi_obj\"]].values,\n",
    "                                                   T=mod.T.values,\n",
    "                                                   R_diag=[.01, .01],\n",
    "                                                   ret_all=False)\n",
    "    old_loglike = sum(old_loglike)\n",
    "\n",
    "    # draw params from prior & update\n",
    "    prior = {k: v for k, v in zip(prior_dict.keys(), [item.rvs() for item in prior_dict.values()])}\n",
    "    mod.free_param_dict.update(prior)\n",
    "    \n",
    "    # solve model\n",
    "    is_solved, mod = solve_updated_mod(mod, verbose=False)\n",
    "    if not is_solved: continue\n",
    "    \n",
    "    # new loglikelihood\n",
    "    new_loglike, _, _ = get_kalman_log_likelihood([\"Y\", 'pi_obj'], \n",
    "                                                   list(mod.T.columns),\n",
    "                                                   train[[\"Y\", \"pi_obj\"]].values,\n",
    "                                                   T=mod.T.values,\n",
    "                                                   R_diag=[.01, .01],\n",
    "                                                   ret_all=False)\n",
    "    new_loglike = sum(new_loglike)\n",
    "    \n",
    "    # save output \n",
    "    sample_dict[i] = dict(\n",
    "        zip(['is_solved', 'params', 'T', 'R', 'loglike'], \n",
    "        [is_solved, mod.free_param_dict, mod.T, mod.R, new_loglike])\n",
    "    )\n",
    "        \n",
    "    # if (new_loglike > old_loglike):\n",
    "    #     A.append(new_alpha)\n",
    "    #     accepted = accepted + 1.0  # monitor acceptance\n",
    "    # else:\n",
    "    #     u = random.uniform(0.0,1.0)\n",
    "    #     if (u < math.exp(new_loglik - old_loglik)):\n",
    "    #         A.append(new_alpha)\n",
    "    #         accepted = accepted + 1.0  # monitor acceptance\n",
    "    #     else:\n",
    "    #         A.append(old_alpha)\n",
    "\n",
    "print(f\"Acceptance rate = {str(accepted/10000.0)}\")\n",
    "    \n",
    "    "
   ]
  },
  {
   "cell_type": "code",
   "execution_count": 91,
   "id": "95debfc4-2758-43d7-93ce-b2c784cc00fa",
   "metadata": {
    "tags": []
   },
   "outputs": [
    {
     "data": {
      "text/plain": [
       "dict_keys([2, 3, 4, 6, 8])"
      ]
     },
     "execution_count": 91,
     "metadata": {},
     "output_type": "execute_result"
    }
   ],
   "source": [
    "sample_dict.keys()"
   ]
  },
  {
   "cell_type": "code",
   "execution_count": null,
   "id": "e06da97a-8882-4301-9c8e-aebace6d3a53",
   "metadata": {},
   "outputs": [],
   "source": []
  },
  {
   "cell_type": "code",
   "execution_count": 92,
   "id": "d00dd74a-39e0-40ab-96f3-0bf791751ef0",
   "metadata": {
    "tags": []
   },
   "outputs": [
    {
     "ename": "NameError",
     "evalue": "name 'evaluateLogLikelihood' is not defined",
     "output_type": "error",
     "traceback": [
      "\u001b[1;31m---------------------------------------------------------------------------\u001b[0m",
      "\u001b[1;31mNameError\u001b[0m                                 Traceback (most recent call last)",
      "Cell \u001b[1;32mIn[92], line 13\u001b[0m\n\u001b[0;32m     10\u001b[0m \u001b[38;5;28;01mfor\u001b[39;00m n \u001b[38;5;129;01min\u001b[39;00m \u001b[38;5;28mrange\u001b[39m(\u001b[38;5;241m10000\u001b[39m):\n\u001b[0;32m     11\u001b[0m     old_alpha  \u001b[38;5;241m=\u001b[39m A[\u001b[38;5;28mlen\u001b[39m(A)\u001b[38;5;241m-\u001b[39m\u001b[38;5;241m1\u001b[39m]  \u001b[38;5;66;03m# old parameter value as array\u001b[39;00m\n\u001b[1;32m---> 13\u001b[0m     old_loglik \u001b[38;5;241m=\u001b[39m \u001b[43mevaluateLogLikelihood\u001b[49m(old_alpha, D, N, M_min, M_max)\n\u001b[0;32m     14\u001b[0m     \u001b[38;5;66;03m# old_loglik = stats.multivariate_normal.logpdf(old_alpha, rv.mean(), rv.std()**2)\u001b[39;00m\n\u001b[0;32m     15\u001b[0m     \n\u001b[0;32m     16\u001b[0m     \u001b[38;5;66;03m# Suggest new candidate from Gaussian proposal distribution.\u001b[39;00m\n\u001b[0;32m     17\u001b[0m     new_alpha \u001b[38;5;241m=\u001b[39m numpy\u001b[38;5;241m.\u001b[39mzeros([\u001b[38;5;28mlen\u001b[39m(old_alpha)])\n",
      "\u001b[1;31mNameError\u001b[0m: name 'evaluateLogLikelihood' is not defined"
     ]
    }
   ],
   "source": [
    "# initial guess for alpha as array.\n",
    "guess = [3.0]\n",
    "# Prepare storing MCMC chain as array of arrays.\n",
    "A = [guess]\n",
    "# define stepsize of MCMC.\n",
    "stepsizes = [0.005]  # array of stepsizes\n",
    "accepted  = 0.0\n",
    "\n",
    "# Metropolis-Hastings with 10,000 iterations.\n",
    "for n in range(10000):\n",
    "    old_alpha  = A[len(A)-1]  # old parameter value as array\n",
    "        \n",
    "    old_loglik = evaluateLogLikelihood(old_alpha, D, N, M_min, M_max)\n",
    "    # old_loglik = stats.multivariate_normal.logpdf(old_alpha, rv.mean(), rv.std()**2)\n",
    "    \n",
    "    # Suggest new candidate from Gaussian proposal distribution.\n",
    "    new_alpha = numpy.zeros([len(old_alpha)])\n",
    "    for i in range(len(old_alpha)):\n",
    "        # Use stepsize provided for every dimension.\n",
    "        # new_alpha[i] = random.gauss(old_alpha[i], stepsizes[i])\n",
    "        new_alpha[i] = random.gauss(old_alpha[i], stepsizes[i])\n",
    "        \n",
    "    new_loglik = evaluateLogLikelihood(new_alpha, D, N, M_min, M_max)\n",
    "    # new_loglik = stats.multivariate_normal.logpdf(new_alpha, rv.mean(), rv.std()**2)\n",
    "    \n",
    "    # Accept new candidate in Monte-Carlo fashing.\n",
    "    if (new_loglik > old_loglik):\n",
    "        A.append(new_alpha)\n",
    "        accepted = accepted + 1.0  # monitor acceptance\n",
    "    else:\n",
    "        u = random.uniform(0.0,1.0)\n",
    "        if (u < math.exp(new_loglik - old_loglik)):\n",
    "            A.append(new_alpha)\n",
    "            accepted = accepted + 1.0  # monitor acceptance\n",
    "        else:\n",
    "            A.append(old_alpha)\n",
    "\n",
    "print(f\"Acceptance rate = {str(accepted/10000.0)}\")"
   ]
  },
  {
   "cell_type": "code",
   "execution_count": null,
   "id": "7a2e2f1e-9675-4a79-bfe9-55978ea8b663",
   "metadata": {},
   "outputs": [],
   "source": []
  },
  {
   "cell_type": "code",
   "execution_count": null,
   "id": "b1219be4-12f5-4480-a2c2-e20e65020202",
   "metadata": {},
   "outputs": [],
   "source": []
  },
  {
   "cell_type": "markdown",
   "id": "318287c8-9d11-40fc-a33d-f3a643f04f5f",
   "metadata": {},
   "source": [
    "## Estimation"
   ]
  },
  {
   "cell_type": "code",
   "execution_count": 99,
   "id": "33f8a63c-faad-46f3-848a-c607251a44fc",
   "metadata": {
    "tags": []
   },
   "outputs": [],
   "source": [
    "no = 2\n",
    "sample = sample_dict[no].copy()"
   ]
  },
  {
   "cell_type": "code",
   "execution_count": 100,
   "id": "e777a375-7c6c-4860-9849-074b6cfaa022",
   "metadata": {
    "tags": []
   },
   "outputs": [
    {
     "name": "stdout",
     "output_type": "stream",
     "text": [
      "xdim: 25 \n",
      "zdim: 2\n"
     ]
    }
   ],
   "source": [
    "# filter_vars = list(sample['T'].index[len(sample['T']) - (sample['T'] == 0).sum() != 0])\n",
    "filter_vars = list(sample['T'].columns)\n",
    "\n",
    "observed = [\"Y\", \"pi_obj\"]\n",
    "observed_ind = [filter_vars.index(item) for item in observed]\n",
    "\n",
    "for i in observed:\n",
    "    assert (i in filter_vars) == True, f\"{i} not in filter_vars\"\n",
    "    \n",
    "xdim = len(filter_vars)\n",
    "zdim = len(observed)\n",
    "print(f'xdim: {xdim} \\nzdim: {zdim}')"
   ]
  },
  {
   "cell_type": "code",
   "execution_count": 101,
   "id": "6d349af6-793c-4a82-99e3-b29db10c9327",
   "metadata": {
    "tags": []
   },
   "outputs": [
    {
     "data": {
      "text/plain": [
       "(25, 25)"
      ]
     },
     "execution_count": 101,
     "metadata": {},
     "output_type": "execute_result"
    }
   ],
   "source": [
    "F = sample_dict[no]['T'].loc[filter_vars, filter_vars].values\n",
    "F.shape"
   ]
  },
  {
   "cell_type": "code",
   "execution_count": 102,
   "id": "4b2bba2a-a5bb-4249-8d4b-76ea29757202",
   "metadata": {
    "tags": []
   },
   "outputs": [
    {
     "data": {
      "text/plain": [
       "array([[0.01, 0.  ],\n",
       "       [0.  , 0.01]])"
      ]
     },
     "execution_count": 102,
     "metadata": {},
     "output_type": "execute_result"
    }
   ],
   "source": [
    "R = np.eye(zdim) * 0.01\n",
    "R"
   ]
  },
  {
   "cell_type": "code",
   "execution_count": 103,
   "id": "7defbe29-e271-4dd8-838f-127bbfefdd2d",
   "metadata": {
    "tags": []
   },
   "outputs": [
    {
     "data": {
      "text/plain": [
       "array([[0., 0., 0., 0., 0., 0., 0., 0., 0., 0., 0., 1., 0., 0., 0., 0.,\n",
       "        0., 0., 0., 0., 0., 0., 0., 0., 0.],\n",
       "       [0., 0., 0., 0., 0., 0., 0., 0., 0., 0., 0., 0., 0., 0., 0., 1.,\n",
       "        0., 0., 0., 0., 0., 0., 0., 0., 0.]])"
      ]
     },
     "execution_count": 103,
     "metadata": {},
     "output_type": "execute_result"
    }
   ],
   "source": [
    "kfilter = KalmanFilter(dim_x=xdim, dim_z=zdim)\n",
    "kfilter.F = F\n",
    "kfilter.R = R\n",
    "for i, ind in enumerate(observed_ind):\n",
    "    kfilter.H[i, ind] = 1\n",
    "kfilter.H"
   ]
  },
  {
   "cell_type": "code",
   "execution_count": 104,
   "id": "0cf8cf18-0469-4373-880a-6f939153ff8f",
   "metadata": {
    "tags": []
   },
   "outputs": [
    {
     "data": {
      "text/plain": [
       "array([[0.01, 0.  ],\n",
       "       [0.  , 0.01]])"
      ]
     },
     "execution_count": 104,
     "metadata": {},
     "output_type": "execute_result"
    }
   ],
   "source": [
    "kfilter.R"
   ]
  },
  {
   "cell_type": "code",
   "execution_count": null,
   "id": "cc3c7b38-837c-42a3-8e53-f2530cd0269b",
   "metadata": {},
   "outputs": [],
   "source": []
  },
  {
   "cell_type": "code",
   "execution_count": 105,
   "id": "17185ec3-685e-4b57-86f1-a794e8f4d5f2",
   "metadata": {
    "tags": []
   },
   "outputs": [
    {
     "data": {
      "text/html": [
       "<div>\n",
       "<style scoped>\n",
       "    .dataframe tbody tr th:only-of-type {\n",
       "        vertical-align: middle;\n",
       "    }\n",
       "\n",
       "    .dataframe tbody tr th {\n",
       "        vertical-align: top;\n",
       "    }\n",
       "\n",
       "    .dataframe thead th {\n",
       "        text-align: right;\n",
       "    }\n",
       "</style>\n",
       "<table border=\"1\" class=\"dataframe\">\n",
       "  <thead>\n",
       "    <tr style=\"text-align: right;\">\n",
       "      <th></th>\n",
       "      <th>epsilon_R</th>\n",
       "      <th>epsilon_T</th>\n",
       "      <th>epsilon_Y</th>\n",
       "      <th>epsilon_pi</th>\n",
       "      <th>epsilon_preference</th>\n",
       "    </tr>\n",
       "  </thead>\n",
       "  <tbody>\n",
       "    <tr>\n",
       "      <th>Y</th>\n",
       "      <td>-4.252038e+00</td>\n",
       "      <td>-5.809157e-01</td>\n",
       "      <td>5.284028e-01</td>\n",
       "      <td>1.693644</td>\n",
       "      <td>3.108404e-01</td>\n",
       "    </tr>\n",
       "    <tr>\n",
       "      <th>pi_obj</th>\n",
       "      <td>-9.811555e-17</td>\n",
       "      <td>-3.005811e-18</td>\n",
       "      <td>2.892069e-17</td>\n",
       "      <td>1.000000</td>\n",
       "      <td>-1.999602e-17</td>\n",
       "    </tr>\n",
       "  </tbody>\n",
       "</table>\n",
       "</div>"
      ],
      "text/plain": [
       "           epsilon_R     epsilon_T     epsilon_Y  epsilon_pi  \\\n",
       "Y      -4.252038e+00 -5.809157e-01  5.284028e-01    1.693644   \n",
       "pi_obj -9.811555e-17 -3.005811e-18  2.892069e-17    1.000000   \n",
       "\n",
       "        epsilon_preference  \n",
       "Y             3.108404e-01  \n",
       "pi_obj       -1.999602e-17  "
      ]
     },
     "execution_count": 105,
     "metadata": {},
     "output_type": "execute_result"
    }
   ],
   "source": [
    "mod.R.loc[observed]"
   ]
  },
  {
   "cell_type": "code",
   "execution_count": 106,
   "id": "61ed7f33-66fc-4f4e-a05b-132fca33a992",
   "metadata": {
    "tags": []
   },
   "outputs": [
    {
     "data": {
      "text/plain": [
       "(25, 25)"
      ]
     },
     "execution_count": 106,
     "metadata": {},
     "output_type": "execute_result"
    }
   ],
   "source": [
    "kfilter.Q.shape"
   ]
  },
  {
   "cell_type": "code",
   "execution_count": 107,
   "id": "bd5b703c-6f60-4d17-aa1d-b16a3a20172b",
   "metadata": {
    "tags": []
   },
   "outputs": [],
   "source": [
    "zs = train[observed].values"
   ]
  },
  {
   "cell_type": "code",
   "execution_count": 109,
   "id": "42985a61-62ca-492b-99ac-7520945caf5f",
   "metadata": {
    "tags": []
   },
   "outputs": [
    {
     "data": {
      "text/plain": [
       "-3.3787407687578788"
      ]
     },
     "execution_count": 109,
     "metadata": {},
     "output_type": "execute_result"
    }
   ],
   "source": [
    "kfilter.predict()\n",
    "kfilter.update(zs[0])\n",
    "kfilter.log_likelihood_of(zs[0])"
   ]
  },
  {
   "cell_type": "code",
   "execution_count": 132,
   "id": "80a61700-b432-471f-b4a4-02d0cadecfc1",
   "metadata": {
    "tags": []
   },
   "outputs": [],
   "source": [
    "mu, cov, _, _ = kfilter.batch_filter(zs)"
   ]
  },
  {
   "cell_type": "code",
   "execution_count": 133,
   "id": "3d9e129a-aba0-4ebf-b4d5-a44aa48262d6",
   "metadata": {
    "tags": []
   },
   "outputs": [
    {
     "data": {
      "text/plain": [
       "[<matplotlib.lines.Line2D at 0x1e8e69d2af0>]"
      ]
     },
     "execution_count": 133,
     "metadata": {},
     "output_type": "execute_result"
    },
    {
     "data": {
      "image/png": "[encoded data removed]",
      "text/plain": [
       "<Figure size 1440x432 with 1 Axes>"
      ]
     },
     "metadata": {},
     "output_type": "display_data"
    }
   ],
   "source": [
    "plt.plot(mu.reshape(-1, kfilter.dim_x)[:, 15])\n",
    "plt.plot(train.pi_obj.values)"
   ]
  },
  {
   "cell_type": "code",
   "execution_count": 134,
   "id": "87551d96-1215-4127-839c-6d4079923daa",
   "metadata": {
    "tags": []
   },
   "outputs": [],
   "source": [
    "mu = pd.DataFrame(mu.reshape(-1,kfilter.dim_x), columns=filter_vars, index=train.index)"
   ]
  },
  {
   "cell_type": "code",
   "execution_count": null,
   "id": "21e26ccd-7f82-427e-a50f-207504e9b0e4",
   "metadata": {
    "tags": []
   },
   "outputs": [],
   "source": [
    "plt.plot(mu.I, label='filter')\n",
    "plt.plot(train.I, label='data')\n",
    "plt.legend(['filter', 'data'])"
   ]
  },
  {
   "cell_type": "code",
   "execution_count": null,
   "id": "c90f0739-b990-4bfb-b6e2-9f360efd2ffd",
   "metadata": {},
   "outputs": [],
   "source": []
  }
 ],
 "metadata": {
  "kernelspec": {
   "display_name": "env_memoire1",
   "language": "python",
   "name": "env_memoire1"
  },
  "language_info": {
   "codemirror_mode": {
    "name": "ipython",
    "version": 3
   },
   "file_extension": ".py",
   "mimetype": "text/x-python",
   "name": "python",
   "nbconvert_exporter": "python",
   "pygments_lexer": "ipython3",
   "version": "3.9.4"
  }
 },
 "nbformat": 4,
 "nbformat_minor": 5
}
