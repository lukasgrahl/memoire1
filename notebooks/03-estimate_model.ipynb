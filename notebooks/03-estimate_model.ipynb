{
 "cells": [
  {
   "cell_type": "code",
   "execution_count": 1,
   "id": "6d2a458b-dfc1-42e0-bcf6-00e2bdf10137",
   "metadata": {},
   "outputs": [
    {
     "name": "stdout",
     "output_type": "stream",
     "text": [
      "DATA_DIR is existant under: C:\\Users\\LukasGrahl\\Documents\\GIT\\memoire1\\data\n"
     ]
    }
   ],
   "source": [
    "%run init_notebookspace.py\n",
    "from settings import DATA_DIR, MODEL_DIR"
   ]
  },
  {
   "cell_type": "code",
   "execution_count": 2,
   "id": "f6239d29-efde-4d6e-9c3d-ecdd4410f714",
   "metadata": {},
   "outputs": [],
   "source": [
    "from config import mod7_params, fred_dict, recession_dict"
   ]
  },
  {
   "cell_type": "code",
   "execution_count": 17,
   "id": "39d5c8a0-1a05-493a-ac8c-c336fb6d7340",
   "metadata": {},
   "outputs": [],
   "source": [
    "%matplotlib inline\n",
    "\n",
    "from gEconpy.classes.model import gEconModel\n",
    "from gEconpy.classes.transformers import IntervalTransformer\n",
    "from gEconpy import compile_to_statsmodels\n",
    "from gEconpy.plotting import plotting as gp\n",
    "\n",
    "\n",
    "import matplotlib.pyplot as plt\n",
    "import seaborn as sns\n",
    "from src.plotting import plot_dfs\n",
    "from src.gp_plotting import plot_sm_results\n",
    "from src.process_data import load_data\n",
    "\n",
    "import numpy as np\n",
    "import xarray as xr\n",
    "import pandas as pd\n",
    "\n",
    "import os\n",
    "import time\n",
    "\n",
    "from config import plt_config\n",
    "plt.rcParams.update(plt_config)"
   ]
  },
  {
   "cell_type": "markdown",
   "id": "8a9740e1-2261-4f63-88f1-4013724d694d",
   "metadata": {},
   "source": [
    "load data"
   ]
  },
  {
   "cell_type": "code",
   "execution_count": 4,
   "id": "314c06bf-75e1-49ce-ab90-d445f9e9e890",
   "metadata": {
    "tags": []
   },
   "outputs": [
    {
     "name": "stdout",
     "output_type": "stream",
     "text": [
      "Error occured 'is_test', file_dict may be incomplete\n"
     ]
    }
   ],
   "source": [
    "from config import fred_dict\n",
    "\n",
    "df = load_data('prepro_data.csv', DATA_DIR, fred_dict)\n",
    "df = df.rename(columns={'pi_s': 'pi_obj'}).drop(['pi_c', 'Ix', 'Zx'], axis=1)\n",
    "train = df[df['is_test'] == False].drop('is_test', axis=1).copy()\n",
    "test = df[df['is_test'] == True].drop('is_test', axis=1).copy()"
   ]
  },
  {
   "cell_type": "markdown",
   "id": "8b0c112c-36b5-470c-b1b5-b4ef8c9a6200",
   "metadata": {},
   "source": [
    "load & solve model"
   ]
  },
  {
   "cell_type": "code",
   "execution_count": 5,
   "id": "bcbe1a74-a97e-4a58-84b8-dd3a29d5eef8",
   "metadata": {},
   "outputs": [
    {
     "name": "stdout",
     "output_type": "stream",
     "text": [
      "Model Building Complete.\n",
      "Found:\n",
      "\t25 equations\n",
      "\t25 variables\n",
      "\tThe following \"variables\" were defined as constants and have been substituted away:\n",
      "\t\tB_t\n",
      "\t5 stochastic shocks\n",
      "\t\t 0 / 5 has a defined prior. \n",
      "\t18 parameters\n",
      "\t\t 0 / 18 has a defined prior. \n",
      "\t2 calibrating equations\n",
      "\t2 parameters to calibrate\n",
      " Model appears well defined and ready to proceed to solving.\n",
      "\n"
     ]
    }
   ],
   "source": [
    "mod = gEconModel(os.path.join(MODEL_DIR, 'gEconpy_mod7_nk.gcn'), verbose=True)"
   ]
  },
  {
   "cell_type": "code",
   "execution_count": 6,
   "id": "f6a287dc-89d8-483b-9a67-1262c0a01f09",
   "metadata": {},
   "outputs": [],
   "source": [
    "# assign parameters\n",
    "mod.free_param_dict.update(mod7_params)"
   ]
  },
  {
   "cell_type": "code",
   "execution_count": 7,
   "id": "fe471530-68f9-4626-aa22-2dfeb58c32f1",
   "metadata": {},
   "outputs": [
    {
     "name": "stdout",
     "output_type": "stream",
     "text": [
      "Steady state found! Sum of squared residuals is 2.3034213894186284e-23\n",
      "Solution found, sum of squared residuals:  5.233950627320991e-29\n",
      "Norm of deterministic part: 0.000000000\n",
      "Norm of stochastic part:    0.000000000\n",
      "Model solution has 14 eigenvalues greater than one in modulus and 11 forward-looking variables.\n",
      "Blanchard-Kahn condition is satisfied.\n"
     ]
    }
   ],
   "source": [
    "mod.steady_state()\n",
    "mod.solve_model()\n",
    "mod.check_bk_condition();"
   ]
  },
  {
   "cell_type": "markdown",
   "id": "876063f7-815b-4b26-ae1c-c0a2d3cc78a2",
   "metadata": {},
   "source": [
    "#### drawing from priors"
   ]
  },
  {
   "cell_type": "code",
   "execution_count": 8,
   "id": "19a8a0cd-a0da-4f9d-9ec1-82286810a374",
   "metadata": {
    "tags": []
   },
   "outputs": [],
   "source": [
    "from scipy.stats import gamma, norm, beta, uniform\n",
    "import scipy"
   ]
  },
  {
   "cell_type": "code",
   "execution_count": 9,
   "id": "881ac7b4-45f9-4b54-98e9-92111f510b9e",
   "metadata": {
    "tags": []
   },
   "outputs": [],
   "source": [
    "def solve_updated_mod(mod, verbose: bool=True):\n",
    "    \n",
    "    # solve for steady state\n",
    "    mod.steady_state(verbose=verbose)\n",
    "    is_solved = mod.steady_state_solved\n",
    "    if not is_solved:\n",
    "        return False, mod\n",
    "    \n",
    "    # solve model, capture np.LinAlgEr\n",
    "    try:\n",
    "        mod.solve_model(verbose=verbose)\n",
    "    except np.linalg.LinAlgError:\n",
    "        return False, mod\n",
    "\n",
    "    # check blanchard kahn\n",
    "    is_bk = mod.check_bk_condition(return_value='bool', verbose=verbose)\n",
    "            \n",
    "    return is_solved & is_bk, mod"
   ]
  },
  {
   "cell_type": "code",
   "execution_count": 10,
   "id": "859fa225-e7ad-4754-9ac3-80d1b664f051",
   "metadata": {
    "tags": []
   },
   "outputs": [],
   "source": [
    "from filterpy.kalman import KalmanFilter\n",
    "def get_kalman_log_likelihood(observed_vars: list, all_vars: list,\n",
    "                              measurements: np.array, T: np.array,\n",
    "                              R_diag: list, ret_all: bool = False):\n",
    "    \n",
    "    # outputs\n",
    "    log_likelihood = []\n",
    "    mu, cov = None, None\n",
    "    \n",
    "    if ret_all:\n",
    "        mu, cov = [], []\n",
    "    \n",
    "    observed_ind = [all_vars.index(item) for item in observed_vars]\n",
    "    \n",
    "    # sanity\n",
    "    # add measurement == observed sanity\n",
    "    for i in observed_vars:\n",
    "        assert (i in all_vars) == True, f\"{i} not in filter_vars\"\n",
    "        \n",
    "    \n",
    "    xdim = len(all_vars)\n",
    "    zdim = len(observed_vars)\n",
    "        \n",
    "    # initialising the Kalman Filter\n",
    "    kfilter = KalmanFilter(dim_x=xdim, dim_z=zdim)\n",
    "    kfilter.F = T\n",
    "    kfilter.R = np.diag(R_diag)\n",
    "    for i, ind in enumerate(observed_ind):\n",
    "        kfilter.H[i, ind] = 1\n",
    "        \n",
    "    # predict, update, loglike\n",
    "    for i in measurements:\n",
    "        kfilter.predict()\n",
    "        kfilter.update(i)\n",
    "        \n",
    "        log_likelihood.append(kfilter.log_likelihood)\n",
    "        if ret_all:\n",
    "            mu.append(kfilter.x_post)\n",
    "            cov.append(kfilter.P_post)\n",
    "            \n",
    "    return log_likelihood, mu, cov"
   ]
  },
  {
   "cell_type": "code",
   "execution_count": 11,
   "id": "0629a107-54c9-4993-8b2c-701705d4a614",
   "metadata": {
    "tags": []
   },
   "outputs": [],
   "source": [
    "def get_arr_pdf_from_dist(dict_vals, dict_dists):\n",
    "    # Get pdf from distribution for val\n",
    "    return np.array([dict_dists[item].pdf(dict_vals[item]) for item in dict_vals.keys()])"
   ]
  },
  {
   "cell_type": "code",
   "execution_count": 37,
   "id": "8dbfc893-a845-450e-81a9-13b446b87665",
   "metadata": {
    "tags": []
   },
   "outputs": [],
   "source": [
    "def printProgBar(iteration, total, prefix = '', suffix = '', decimals = 1, length = 100, fill = '█', printEnd = \"\\r\"):\n",
    "    perc = (\"{0:.\" + str(decimals) + \"f}\").format(100 * (iteration / float(total)))\n",
    "    filledLength = int(length * iteration // total)\n",
    "    bar = fill * filledLength + '-' * (length - filledLength)\n",
    "    print(f'\\r{prefix} |{bar}| {perc}% {suffix}', end = printEnd)\n",
    "    # Print New Line on Complete\n",
    "    if iteration == total: \n",
    "        print()\n",
    "    pass"
   ]
  },
  {
   "cell_type": "code",
   "execution_count": 38,
   "id": "3265238c-c21b-43eb-ad92-c8aa0f7b5ecb",
   "metadata": {
    "tags": []
   },
   "outputs": [],
   "source": [
    "test, _, _ = get_kalman_log_likelihood([\"Y\", 'pi_obj'], \n",
    "                                           list(mod.T.columns),\n",
    "                                           train[[\"Y\", \"pi_obj\"]].values,\n",
    "                                           T=mod.T.values,\n",
    "                                           R_diag=[.01, .01],\n",
    "                                           ret_all=False)"
   ]
  },
  {
   "cell_type": "code",
   "execution_count": 39,
   "id": "2492a4be-7b35-4917-a67b-34db74264d9d",
   "metadata": {
    "tags": []
   },
   "outputs": [],
   "source": [
    "prior_dist = {\n",
    "    # 'alpha': beta(1.4, 10),\n",
    "    # 'beta': beta(.9, 1.5),\n",
    "    'sigma_C': gamma(a=3.9, loc=0, scale=0.757575757575758),\n",
    "    'sigma_L': gamma(a=3.9, loc=0, scale=0.757575757575758)\n",
    "            }"
   ]
  },
  {
   "cell_type": "code",
   "execution_count": 40,
   "id": "707ae244-e3ef-4763-a51e-c01fdfbcff5c",
   "metadata": {},
   "outputs": [
    {
     "name": "stdout",
     "output_type": "stream",
     "text": [
      "Progress |████████████████████████████████████████████████████████████████████████████████████████████████████| 100.0% \n",
      "\n",
      "Acceptance rate = 0.851\n",
      "\n",
      "Execution time = 367.549 sec\n"
     ]
    }
   ],
   "source": [
    "start = time.time()\n",
    "\n",
    "mod_out = {}\n",
    "calibration_out = []\n",
    "\n",
    "# define stepsize of MCMC.\n",
    "stepsizes = [0.005]  # array of stepsizes\n",
    "counter = 0.0\n",
    "n_runs = 10\n",
    "\n",
    "posterior = {item: [mod7_params[item]] for item in prior_dist.keys()}\n",
    "\n",
    "# reset params\n",
    "mod.free_param_dict.update(mod7_params)\n",
    "\n",
    "for i in range(0, n_runs):\n",
    "    printProgBar(i, n_runs-1, prefix='Progress')\n",
    "    \n",
    "    # old log_likelihood\n",
    "    old_loglike, _, _ = get_kalman_log_likelihood([\"Y\", 'pi_obj'], \n",
    "                                                   list(mod.T.columns),\n",
    "                                                   train[[\"Y\", \"pi_obj\"]].values,\n",
    "                                                   T=mod.T.values,\n",
    "                                                   R_diag=[.01, .01],\n",
    "                                                   ret_all=False)\n",
    "    old_loglike = sum(old_loglike)\n",
    "\n",
    "    # draw params from prior & update\n",
    "    old_prior = {item: vals[-1] for item, vals in posterior.items()}\n",
    "    new_prior = {k: v for k, v in zip(prior_dist.keys(), [item.rvs() for item in prior_dist.values()])}\n",
    "    # mod.free_param_dict.update(prior)\n",
    "    \n",
    "    # solve model\n",
    "    is_solved, mod = solve_updated_mod(mod, verbose=False)\n",
    "    if not is_solved: continue\n",
    "    \n",
    "    # new loglikelihood\n",
    "    new_loglike, _, _ = get_kalman_log_likelihood([\"Y\", 'pi_obj'], \n",
    "                                                   list(mod.T.columns),\n",
    "                                                   train[[\"Y\", \"pi_obj\"]].values,\n",
    "                                                   T=mod.T.values,\n",
    "                                                   R_diag=[.01, .01],\n",
    "                                                   ret_all=False)\n",
    "    new_loglike = sum(new_loglike)\n",
    "    \n",
    "    # MH ratio\n",
    "    ratio = ((new_loglike * get_arr_pdf_from_dist(new_prior, prior_dist)) / (old_loglike * get_arr_pdf_from_dist(old_prior, prior_dist))).mean()\n",
    "    ω = min([ratio, 1])\n",
    "    \n",
    "    random = np.random.uniform(0, 1)\n",
    "    \n",
    "    # merge draws prior into posterior \n",
    "    if random <= ω:\n",
    "        is_accepted = True\n",
    "        counter += 1.\n",
    "        for key in new_prior.keys():\n",
    "            posterior[key].append(new_prior[key])\n",
    "            \n",
    "    # leave posterior unaltered and restart\n",
    "    else:\n",
    "        is_accepted = False\n",
    "        counter += 0.\n",
    "    \n",
    "    \n",
    "    \n",
    "    # save output \n",
    "    calibration_out.append(\n",
    "        [\n",
    "            list(old_prior.values()),\n",
    "            list(new_prior.values()),\n",
    "            list(get_arr_pdf_from_dist(new_prior, prior_dist))\n",
    "        ]\n",
    "    )\n",
    "    \n",
    "    mod_out[i] = dict(\n",
    "        zip(\n",
    "            [\n",
    "                'is_solved',\n",
    "                'is_accpeted_MH',\n",
    "                'params',\n",
    "                'T',\n",
    "                'R',\n",
    "                'loglike'\n",
    "            ],\n",
    "            [\n",
    "                is_solved,\n",
    "                is_accepted,\n",
    "                mod.free_param_dict,\n",
    "                mod.T,\n",
    "                mod.R,\n",
    "                new_loglike\n",
    "            ]\n",
    "        )\n",
    "    )\n",
    "        \n",
    "\n",
    "print(f\"\\nAcceptance rate = {round(counter/n_runs, 3)}\")\n",
    "print(f'\\nExecution time = {round(time.time() - start, 3)} sec')\n",
    "calibration_out = np.array(calibration_out)"
   ]
  },
  {
   "cell_type": "code",
   "execution_count": 42,
   "id": "a6c6f024-8b83-44d2-9750-f1bf49ba230a",
   "metadata": {
    "tags": []
   },
   "outputs": [
    {
     "data": {
      "text/html": [
       "<div><svg style=\"position: absolute; width: 0; height: 0; overflow: hidden\">\n",
       "<defs>\n",
       "<symbol id=\"icon-database\" viewBox=\"0 0 32 32\">\n",
       "<path d=\"M16 0c-8.837 0-16 2.239-16 5v4c0 2.761 7.163 5 16 5s16-2.239 16-5v-4c0-2.761-7.163-5-16-5z\"></path>\n",
       "<path d=\"M16 17c-8.837 0-16-2.239-16-5v6c0 2.761 7.163 5 16 5s16-2.239 16-5v-6c0 2.761-7.163 5-16 5z\"></path>\n",
       "<path d=\"M16 26c-8.837 0-16-2.239-16-5v6c0 2.761 7.163 5 16 5s16-2.239 16-5v-6c0 2.761-7.163 5-16 5z\"></path>\n",
       "</symbol>\n",
       "<symbol id=\"icon-file-text2\" viewBox=\"0 0 32 32\">\n",
       "<path d=\"M28.681 7.159c-0.694-0.947-1.662-2.053-2.724-3.116s-2.169-2.030-3.116-2.724c-1.612-1.182-2.393-1.319-2.841-1.319h-15.5c-1.378 0-2.5 1.121-2.5 2.5v27c0 1.378 1.122 2.5 2.5 2.5h23c1.378 0 2.5-1.122 2.5-2.5v-19.5c0-0.448-0.137-1.23-1.319-2.841zM24.543 5.457c0.959 0.959 1.712 1.825 2.268 2.543h-4.811v-4.811c0.718 0.556 1.584 1.309 2.543 2.268zM28 29.5c0 0.271-0.229 0.5-0.5 0.5h-23c-0.271 0-0.5-0.229-0.5-0.5v-27c0-0.271 0.229-0.5 0.5-0.5 0 0 15.499-0 15.5 0v7c0 0.552 0.448 1 1 1h7v19.5z\"></path>\n",
       "<path d=\"M23 26h-14c-0.552 0-1-0.448-1-1s0.448-1 1-1h14c0.552 0 1 0.448 1 1s-0.448 1-1 1z\"></path>\n",
       "<path d=\"M23 22h-14c-0.552 0-1-0.448-1-1s0.448-1 1-1h14c0.552 0 1 0.448 1 1s-0.448 1-1 1z\"></path>\n",
       "<path d=\"M23 18h-14c-0.552 0-1-0.448-1-1s0.448-1 1-1h14c0.552 0 1 0.448 1 1s-0.448 1-1 1z\"></path>\n",
       "</symbol>\n",
       "</defs>\n",
       "</svg>\n",
       "<style>/* CSS stylesheet for displaying xarray objects in jupyterlab.\n",
       " *\n",
       " */\n",
       "\n",
       ":root {\n",
       "  --xr-font-color0: var(--jp-content-font-color0, rgba(0, 0, 0, 1));\n",
       "  --xr-font-color2: var(--jp-content-font-color2, rgba(0, 0, 0, 0.54));\n",
       "  --xr-font-color3: var(--jp-content-font-color3, rgba(0, 0, 0, 0.38));\n",
       "  --xr-border-color: var(--jp-border-color2, #e0e0e0);\n",
       "  --xr-disabled-color: var(--jp-layout-color3, #bdbdbd);\n",
       "  --xr-background-color: var(--jp-layout-color0, white);\n",
       "  --xr-background-color-row-even: var(--jp-layout-color1, white);\n",
       "  --xr-background-color-row-odd: var(--jp-layout-color2, #eeeeee);\n",
       "}\n",
       "\n",
       "html[theme=dark],\n",
       "body[data-theme=dark],\n",
       "body.vscode-dark {\n",
       "  --xr-font-color0: rgba(255, 255, 255, 1);\n",
       "  --xr-font-color2: rgba(255, 255, 255, 0.54);\n",
       "  --xr-font-color3: rgba(255, 255, 255, 0.38);\n",
       "  --xr-border-color: #1F1F1F;\n",
       "  --xr-disabled-color: #515151;\n",
       "  --xr-background-color: #111111;\n",
       "  --xr-background-color-row-even: #111111;\n",
       "  --xr-background-color-row-odd: #313131;\n",
       "}\n",
       "\n",
       ".xr-wrap {\n",
       "  display: block !important;\n",
       "  min-width: 300px;\n",
       "  max-width: 700px;\n",
       "}\n",
       "\n",
       ".xr-text-repr-fallback {\n",
       "  /* fallback to plain text repr when CSS is not injected (untrusted notebook) */\n",
       "  display: none;\n",
       "}\n",
       "\n",
       ".xr-header {\n",
       "  padding-top: 6px;\n",
       "  padding-bottom: 6px;\n",
       "  margin-bottom: 4px;\n",
       "  border-bottom: solid 1px var(--xr-border-color);\n",
       "}\n",
       "\n",
       ".xr-header > div,\n",
       ".xr-header > ul {\n",
       "  display: inline;\n",
       "  margin-top: 0;\n",
       "  margin-bottom: 0;\n",
       "}\n",
       "\n",
       ".xr-obj-type,\n",
       ".xr-array-name {\n",
       "  margin-left: 2px;\n",
       "  margin-right: 10px;\n",
       "}\n",
       "\n",
       ".xr-obj-type {\n",
       "  color: var(--xr-font-color2);\n",
       "}\n",
       "\n",
       ".xr-sections {\n",
       "  padding-left: 0 !important;\n",
       "  display: grid;\n",
       "  grid-template-columns: 150px auto auto 1fr 20px 20px;\n",
       "}\n",
       "\n",
       ".xr-section-item {\n",
       "  display: contents;\n",
       "}\n",
       "\n",
       ".xr-section-item input {\n",
       "  display: none;\n",
       "}\n",
       "\n",
       ".xr-section-item input + label {\n",
       "  color: var(--xr-disabled-color);\n",
       "}\n",
       "\n",
       ".xr-section-item input:enabled + label {\n",
       "  cursor: pointer;\n",
       "  color: var(--xr-font-color2);\n",
       "}\n",
       "\n",
       ".xr-section-item input:enabled + label:hover {\n",
       "  color: var(--xr-font-color0);\n",
       "}\n",
       "\n",
       ".xr-section-summary {\n",
       "  grid-column: 1;\n",
       "  color: var(--xr-font-color2);\n",
       "  font-weight: 500;\n",
       "}\n",
       "\n",
       ".xr-section-summary > span {\n",
       "  display: inline-block;\n",
       "  padding-left: 0.5em;\n",
       "}\n",
       "\n",
       ".xr-section-summary-in:disabled + label {\n",
       "  color: var(--xr-font-color2);\n",
       "}\n",
       "\n",
       ".xr-section-summary-in + label:before {\n",
       "  display: inline-block;\n",
       "  content: '►';\n",
       "  font-size: 11px;\n",
       "  width: 15px;\n",
       "  text-align: center;\n",
       "}\n",
       "\n",
       ".xr-section-summary-in:disabled + label:before {\n",
       "  color: var(--xr-disabled-color);\n",
       "}\n",
       "\n",
       ".xr-section-summary-in:checked + label:before {\n",
       "  content: '▼';\n",
       "}\n",
       "\n",
       ".xr-section-summary-in:checked + label > span {\n",
       "  display: none;\n",
       "}\n",
       "\n",
       ".xr-section-summary,\n",
       ".xr-section-inline-details {\n",
       "  padding-top: 4px;\n",
       "  padding-bottom: 4px;\n",
       "}\n",
       "\n",
       ".xr-section-inline-details {\n",
       "  grid-column: 2 / -1;\n",
       "}\n",
       "\n",
       ".xr-section-details {\n",
       "  display: none;\n",
       "  grid-column: 1 / -1;\n",
       "  margin-bottom: 5px;\n",
       "}\n",
       "\n",
       ".xr-section-summary-in:checked ~ .xr-section-details {\n",
       "  display: contents;\n",
       "}\n",
       "\n",
       ".xr-array-wrap {\n",
       "  grid-column: 1 / -1;\n",
       "  display: grid;\n",
       "  grid-template-columns: 20px auto;\n",
       "}\n",
       "\n",
       ".xr-array-wrap > label {\n",
       "  grid-column: 1;\n",
       "  vertical-align: top;\n",
       "}\n",
       "\n",
       ".xr-preview {\n",
       "  color: var(--xr-font-color3);\n",
       "}\n",
       "\n",
       ".xr-array-preview,\n",
       ".xr-array-data {\n",
       "  padding: 0 5px !important;\n",
       "  grid-column: 2;\n",
       "}\n",
       "\n",
       ".xr-array-data,\n",
       ".xr-array-in:checked ~ .xr-array-preview {\n",
       "  display: none;\n",
       "}\n",
       "\n",
       ".xr-array-in:checked ~ .xr-array-data,\n",
       ".xr-array-preview {\n",
       "  display: inline-block;\n",
       "}\n",
       "\n",
       ".xr-dim-list {\n",
       "  display: inline-block !important;\n",
       "  list-style: none;\n",
       "  padding: 0 !important;\n",
       "  margin: 0;\n",
       "}\n",
       "\n",
       ".xr-dim-list li {\n",
       "  display: inline-block;\n",
       "  padding: 0;\n",
       "  margin: 0;\n",
       "}\n",
       "\n",
       ".xr-dim-list:before {\n",
       "  content: '(';\n",
       "}\n",
       "\n",
       ".xr-dim-list:after {\n",
       "  content: ')';\n",
       "}\n",
       "\n",
       ".xr-dim-list li:not(:last-child):after {\n",
       "  content: ',';\n",
       "  padding-right: 5px;\n",
       "}\n",
       "\n",
       ".xr-has-index {\n",
       "  font-weight: bold;\n",
       "}\n",
       "\n",
       ".xr-var-list,\n",
       ".xr-var-item {\n",
       "  display: contents;\n",
       "}\n",
       "\n",
       ".xr-var-item > div,\n",
       ".xr-var-item label,\n",
       ".xr-var-item > .xr-var-name span {\n",
       "  background-color: var(--xr-background-color-row-even);\n",
       "  margin-bottom: 0;\n",
       "}\n",
       "\n",
       ".xr-var-item > .xr-var-name:hover span {\n",
       "  padding-right: 5px;\n",
       "}\n",
       "\n",
       ".xr-var-list > li:nth-child(odd) > div,\n",
       ".xr-var-list > li:nth-child(odd) > label,\n",
       ".xr-var-list > li:nth-child(odd) > .xr-var-name span {\n",
       "  background-color: var(--xr-background-color-row-odd);\n",
       "}\n",
       "\n",
       ".xr-var-name {\n",
       "  grid-column: 1;\n",
       "}\n",
       "\n",
       ".xr-var-dims {\n",
       "  grid-column: 2;\n",
       "}\n",
       "\n",
       ".xr-var-dtype {\n",
       "  grid-column: 3;\n",
       "  text-align: right;\n",
       "  color: var(--xr-font-color2);\n",
       "}\n",
       "\n",
       ".xr-var-preview {\n",
       "  grid-column: 4;\n",
       "}\n",
       "\n",
       ".xr-index-preview {\n",
       "  grid-column: 2 / 5;\n",
       "  color: var(--xr-font-color2);\n",
       "}\n",
       "\n",
       ".xr-var-name,\n",
       ".xr-var-dims,\n",
       ".xr-var-dtype,\n",
       ".xr-preview,\n",
       ".xr-attrs dt {\n",
       "  white-space: nowrap;\n",
       "  overflow: hidden;\n",
       "  text-overflow: ellipsis;\n",
       "  padding-right: 10px;\n",
       "}\n",
       "\n",
       ".xr-var-name:hover,\n",
       ".xr-var-dims:hover,\n",
       ".xr-var-dtype:hover,\n",
       ".xr-attrs dt:hover {\n",
       "  overflow: visible;\n",
       "  width: auto;\n",
       "  z-index: 1;\n",
       "}\n",
       "\n",
       ".xr-var-attrs,\n",
       ".xr-var-data,\n",
       ".xr-index-data {\n",
       "  display: none;\n",
       "  background-color: var(--xr-background-color) !important;\n",
       "  padding-bottom: 5px !important;\n",
       "}\n",
       "\n",
       ".xr-var-attrs-in:checked ~ .xr-var-attrs,\n",
       ".xr-var-data-in:checked ~ .xr-var-data,\n",
       ".xr-index-data-in:checked ~ .xr-index-data {\n",
       "  display: block;\n",
       "}\n",
       "\n",
       ".xr-var-data > table {\n",
       "  float: right;\n",
       "}\n",
       "\n",
       ".xr-var-name span,\n",
       ".xr-var-data,\n",
       ".xr-index-name div,\n",
       ".xr-index-data,\n",
       ".xr-attrs {\n",
       "  padding-left: 25px !important;\n",
       "}\n",
       "\n",
       ".xr-attrs,\n",
       ".xr-var-attrs,\n",
       ".xr-var-data,\n",
       ".xr-index-data {\n",
       "  grid-column: 1 / -1;\n",
       "}\n",
       "\n",
       "dl.xr-attrs {\n",
       "  padding: 0;\n",
       "  margin: 0;\n",
       "  display: grid;\n",
       "  grid-template-columns: 125px auto;\n",
       "}\n",
       "\n",
       ".xr-attrs dt,\n",
       ".xr-attrs dd {\n",
       "  padding: 0;\n",
       "  margin: 0;\n",
       "  float: left;\n",
       "  padding-right: 10px;\n",
       "  width: auto;\n",
       "}\n",
       "\n",
       ".xr-attrs dt {\n",
       "  font-weight: normal;\n",
       "  grid-column: 1;\n",
       "}\n",
       "\n",
       ".xr-attrs dt:hover span {\n",
       "  display: inline-block;\n",
       "  background: var(--xr-background-color);\n",
       "  padding-right: 10px;\n",
       "}\n",
       "\n",
       ".xr-attrs dd {\n",
       "  grid-column: 2;\n",
       "  white-space: pre-wrap;\n",
       "  word-break: break-all;\n",
       "}\n",
       "\n",
       ".xr-icon-database,\n",
       ".xr-icon-file-text2,\n",
       ".xr-no-icon {\n",
       "  display: inline-block;\n",
       "  vertical-align: middle;\n",
       "  width: 1em;\n",
       "  height: 1.5em !important;\n",
       "  stroke-width: 0;\n",
       "  stroke: currentColor;\n",
       "  fill: currentColor;\n",
       "}\n",
       "</style><pre class='xr-text-repr-fallback'>&lt;xarray.Dataset&gt;\n",
       "Dimensions:        (draw: 1000, parameter: 2)\n",
       "Coordinates:\n",
       "  * draw           (draw) int32 0 1 2 3 4 5 6 7 ... 993 994 995 996 997 998 999\n",
       "  * parameter      (parameter) &lt;U7 &#x27;sigma_C&#x27; &#x27;sigma_L&#x27;\n",
       "Data variables:\n",
       "    old_prior      (draw, parameter) float64 2.0 1.5 3.388 ... 2.9 0.7363 1.224\n",
       "    new_prior      (draw, parameter) float64 3.388 4.535 2.291 ... 2.444 0.49\n",
       "    new_prior_pdf  (draw, parameter) float64 0.2191 0.1123 ... 0.2954 0.03687</pre><div class='xr-wrap' style='display:none'><div class='xr-header'><div class='xr-obj-type'>xarray.Dataset</div></div><ul class='xr-sections'><li class='xr-section-item'><input id='section-20391aba-5596-48ed-a3c9-d0f8a8787f80' class='xr-section-summary-in' type='checkbox' disabled ><label for='section-20391aba-5596-48ed-a3c9-d0f8a8787f80' class='xr-section-summary'  title='Expand/collapse section'>Dimensions:</label><div class='xr-section-inline-details'><ul class='xr-dim-list'><li><span class='xr-has-index'>draw</span>: 1000</li><li><span class='xr-has-index'>parameter</span>: 2</li></ul></div><div class='xr-section-details'></div></li><li class='xr-section-item'><input id='section-4914d856-1205-41c5-8506-2adcfdf07025' class='xr-section-summary-in' type='checkbox'  checked><label for='section-4914d856-1205-41c5-8506-2adcfdf07025' class='xr-section-summary' >Coordinates: <span>(2)</span></label><div class='xr-section-inline-details'></div><div class='xr-section-details'><ul class='xr-var-list'><li class='xr-var-item'><div class='xr-var-name'><span class='xr-has-index'>draw</span></div><div class='xr-var-dims'>(draw)</div><div class='xr-var-dtype'>int32</div><div class='xr-var-preview xr-preview'>0 1 2 3 4 5 ... 995 996 997 998 999</div><input id='attrs-bb1fc90c-3e4a-48a8-9e59-c471a83c1cd0' class='xr-var-attrs-in' type='checkbox' disabled><label for='attrs-bb1fc90c-3e4a-48a8-9e59-c471a83c1cd0' title='Show/Hide attributes'><svg class='icon xr-icon-file-text2'><use xlink:href='#icon-file-text2'></use></svg></label><input id='data-48eed83d-125b-4aa9-8632-9cf7d2284f2c' class='xr-var-data-in' type='checkbox'><label for='data-48eed83d-125b-4aa9-8632-9cf7d2284f2c' title='Show/Hide data repr'><svg class='icon xr-icon-database'><use xlink:href='#icon-database'></use></svg></label><div class='xr-var-attrs'><dl class='xr-attrs'></dl></div><div class='xr-var-data'><pre>array([  0,   1,   2, ..., 997, 998, 999])</pre></div></li><li class='xr-var-item'><div class='xr-var-name'><span class='xr-has-index'>parameter</span></div><div class='xr-var-dims'>(parameter)</div><div class='xr-var-dtype'>&lt;U7</div><div class='xr-var-preview xr-preview'>&#x27;sigma_C&#x27; &#x27;sigma_L&#x27;</div><input id='attrs-19c99c74-6a2c-40cd-b84d-d7413f0c23b0' class='xr-var-attrs-in' type='checkbox' disabled><label for='attrs-19c99c74-6a2c-40cd-b84d-d7413f0c23b0' title='Show/Hide attributes'><svg class='icon xr-icon-file-text2'><use xlink:href='#icon-file-text2'></use></svg></label><input id='data-26ef93d4-5adb-4d26-8a46-657a2bf18c7d' class='xr-var-data-in' type='checkbox'><label for='data-26ef93d4-5adb-4d26-8a46-657a2bf18c7d' title='Show/Hide data repr'><svg class='icon xr-icon-database'><use xlink:href='#icon-database'></use></svg></label><div class='xr-var-attrs'><dl class='xr-attrs'></dl></div><div class='xr-var-data'><pre>array([&#x27;sigma_C&#x27;, &#x27;sigma_L&#x27;], dtype=&#x27;&lt;U7&#x27;)</pre></div></li></ul></div></li><li class='xr-section-item'><input id='section-7ed0e998-5edb-44d4-80db-e665e545375a' class='xr-section-summary-in' type='checkbox'  checked><label for='section-7ed0e998-5edb-44d4-80db-e665e545375a' class='xr-section-summary' >Data variables: <span>(3)</span></label><div class='xr-section-inline-details'></div><div class='xr-section-details'><ul class='xr-var-list'><li class='xr-var-item'><div class='xr-var-name'><span>old_prior</span></div><div class='xr-var-dims'>(draw, parameter)</div><div class='xr-var-dtype'>float64</div><div class='xr-var-preview xr-preview'>2.0 1.5 3.388 ... 2.9 0.7363 1.224</div><input id='attrs-867ac860-656f-44ff-b9ab-9ed1572d3dd0' class='xr-var-attrs-in' type='checkbox' disabled><label for='attrs-867ac860-656f-44ff-b9ab-9ed1572d3dd0' title='Show/Hide attributes'><svg class='icon xr-icon-file-text2'><use xlink:href='#icon-file-text2'></use></svg></label><input id='data-50cf022a-068a-47eb-91e3-671064e06150' class='xr-var-data-in' type='checkbox'><label for='data-50cf022a-068a-47eb-91e3-671064e06150' title='Show/Hide data repr'><svg class='icon xr-icon-database'><use xlink:href='#icon-database'></use></svg></label><div class='xr-var-attrs'><dl class='xr-attrs'></dl></div><div class='xr-var-data'><pre>array([[2.        , 1.5       ],\n",
       "       [3.38804955, 4.53471238],\n",
       "       [2.29068993, 1.53737866],\n",
       "       ...,\n",
       "       [0.64868954, 3.46159337],\n",
       "       [3.08601215, 2.89969887],\n",
       "       [0.73634402, 1.22435191]])</pre></div></li><li class='xr-var-item'><div class='xr-var-name'><span>new_prior</span></div><div class='xr-var-dims'>(draw, parameter)</div><div class='xr-var-dtype'>float64</div><div class='xr-var-preview xr-preview'>3.388 4.535 2.291 ... 2.444 0.49</div><input id='attrs-e68daff8-4618-4858-8f85-3049678ae78d' class='xr-var-attrs-in' type='checkbox' disabled><label for='attrs-e68daff8-4618-4858-8f85-3049678ae78d' title='Show/Hide attributes'><svg class='icon xr-icon-file-text2'><use xlink:href='#icon-file-text2'></use></svg></label><input id='data-be9d7f18-a1b8-4f5f-a657-e50024e0e10f' class='xr-var-data-in' type='checkbox'><label for='data-be9d7f18-a1b8-4f5f-a657-e50024e0e10f' title='Show/Hide data repr'><svg class='icon xr-icon-database'><use xlink:href='#icon-database'></use></svg></label><div class='xr-var-attrs'><dl class='xr-attrs'></dl></div><div class='xr-var-data'><pre>array([[3.38804955, 4.53471238],\n",
       "       [2.29068993, 1.53737866],\n",
       "       [1.36579709, 1.43551159],\n",
       "       ...,\n",
       "       [3.08601215, 2.89969887],\n",
       "       [0.73634402, 1.22435191],\n",
       "       [2.44422348, 0.4900051 ]])</pre></div></li><li class='xr-var-item'><div class='xr-var-name'><span>new_prior_pdf</span></div><div class='xr-var-dims'>(draw, parameter)</div><div class='xr-var-dtype'>float64</div><div class='xr-var-preview xr-preview'>0.2191 0.1123 ... 0.2954 0.03687</div><input id='attrs-a8e539ca-cbd1-43f2-a8c8-461a17d2b6a5' class='xr-var-attrs-in' type='checkbox' disabled><label for='attrs-a8e539ca-cbd1-43f2-a8c8-461a17d2b6a5' title='Show/Hide attributes'><svg class='icon xr-icon-file-text2'><use xlink:href='#icon-file-text2'></use></svg></label><input id='data-b6602354-50d8-4277-86bc-1649da64cdca' class='xr-var-data-in' type='checkbox'><label for='data-b6602354-50d8-4277-86bc-1649da64cdca' title='Show/Hide data repr'><svg class='icon xr-icon-database'><use xlink:href='#icon-database'></use></svg></label><div class='xr-var-attrs'><dl class='xr-attrs'></dl></div><div class='xr-var-data'><pre>array([[0.21908309, 0.11230599],\n",
       "       [0.29973593, 0.2548888 ],\n",
       "       [0.22681333, 0.23900278],\n",
       "       ...,\n",
       "       [0.24897532, 0.26578725],\n",
       "       [0.08678179, 0.19909617],\n",
       "       [0.29541271, 0.03687182]])</pre></div></li></ul></div></li><li class='xr-section-item'><input id='section-8cce298e-d7e3-4f39-94a6-6df588b17df4' class='xr-section-summary-in' type='checkbox'  ><label for='section-8cce298e-d7e3-4f39-94a6-6df588b17df4' class='xr-section-summary' >Indexes: <span>(2)</span></label><div class='xr-section-inline-details'></div><div class='xr-section-details'><ul class='xr-var-list'><li class='xr-var-item'><div class='xr-index-name'><div>draw</div></div><div class='xr-index-preview'>PandasIndex</div><div></div><input id='index-64187715-612e-4ce6-b0d1-2e76703d787e' class='xr-index-data-in' type='checkbox'/><label for='index-64187715-612e-4ce6-b0d1-2e76703d787e' title='Show/Hide index repr'><svg class='icon xr-icon-database'><use xlink:href='#icon-database'></use></svg></label><div class='xr-index-data'><pre>PandasIndex(Int64Index([  0,   1,   2,   3,   4,   5,   6,   7,   8,   9,\n",
       "            ...\n",
       "            990, 991, 992, 993, 994, 995, 996, 997, 998, 999],\n",
       "           dtype=&#x27;int64&#x27;, name=&#x27;draw&#x27;, length=1000))</pre></div></li><li class='xr-var-item'><div class='xr-index-name'><div>parameter</div></div><div class='xr-index-preview'>PandasIndex</div><div></div><input id='index-28a1fd9b-0083-48a2-a17a-d8031427b670' class='xr-index-data-in' type='checkbox'/><label for='index-28a1fd9b-0083-48a2-a17a-d8031427b670' title='Show/Hide index repr'><svg class='icon xr-icon-database'><use xlink:href='#icon-database'></use></svg></label><div class='xr-index-data'><pre>PandasIndex(Index([&#x27;sigma_C&#x27;, &#x27;sigma_L&#x27;], dtype=&#x27;object&#x27;, name=&#x27;parameter&#x27;))</pre></div></li></ul></div></li><li class='xr-section-item'><input id='section-3db80976-eb12-4673-b3bb-250ca0979c2a' class='xr-section-summary-in' type='checkbox' disabled ><label for='section-3db80976-eb12-4673-b3bb-250ca0979c2a' class='xr-section-summary'  title='Expand/collapse section'>Attributes: <span>(0)</span></label><div class='xr-section-inline-details'></div><div class='xr-section-details'><dl class='xr-attrs'></dl></div></li></ul></div></div>"
      ],
      "text/plain": [
       "<xarray.Dataset>\n",
       "Dimensions:        (draw: 1000, parameter: 2)\n",
       "Coordinates:\n",
       "  * draw           (draw) int32 0 1 2 3 4 5 6 7 ... 993 994 995 996 997 998 999\n",
       "  * parameter      (parameter) <U7 'sigma_C' 'sigma_L'\n",
       "Data variables:\n",
       "    old_prior      (draw, parameter) float64 2.0 1.5 3.388 ... 2.9 0.7363 1.224\n",
       "    new_prior      (draw, parameter) float64 3.388 4.535 2.291 ... 2.444 0.49\n",
       "    new_prior_pdf  (draw, parameter) float64 0.2191 0.1123 ... 0.2954 0.03687"
      ]
     },
     "execution_count": 42,
     "metadata": {},
     "output_type": "execute_result"
    }
   ],
   "source": [
    "# construct xarray\n",
    "\n",
    "xarr = xr.Dataset(\n",
    "    {\n",
    "        'old_prior': (['draw', 'parameter'], calibration_out[:, 0]),\n",
    "        'new_prior': (['draw', 'parameter'], calibration_out[:, 1]),\n",
    "        'new_prior_pdf': (['draw', 'parameter'], calibration_out[:, 2])\n",
    "        'log_like': (['draw'], \n",
    "        \n",
    "    },\n",
    "    coords={\n",
    "        'draw': (['draw'], list(range(0, n_runs))),\n",
    "        'parameter': (['parameter'], list(prior_dist.keys()))\n",
    "    },\n",
    ")\n",
    "xarr"
   ]
  },
  {
   "cell_type": "code",
   "execution_count": 45,
   "id": "bab52f75-f779-48a5-a936-be8bb2a55fbb",
   "metadata": {
    "tags": []
   },
   "outputs": [
    {
     "data": {
      "text/plain": [
       "<matplotlib.legend.Legend at 0x1eec2f31e50>"
      ]
     },
     "execution_count": 45,
     "metadata": {},
     "output_type": "execute_result"
    },
    {
     "data": {
      "image/png": "[encoded data removed]",
      "text/plain": [
       "<Figure size 1440x432 with 1 Axes>"
      ]
     },
     "metadata": {},
     "output_type": "display_data"
    }
   ],
   "source": [
    "param = 'sigma_C'\n",
    "bins = int(n_runs/10)\n",
    "plt.hist(xarr.sel(parameter=param).old_prior[int(n_runs/2):], bins=bins, density=True);\n",
    "plt.hist([prior_dist[param].rvs() for item in np.linspace(0, 10, int(n_runs/2))], bins=bins, density=True);\n",
    "plt.legend(['posterior', 'prior'])"
   ]
  },
  {
   "cell_type": "code",
   "execution_count": null,
   "id": "62d7783f-a91c-49d1-88b6-4b191290b5b4",
   "metadata": {},
   "outputs": [],
   "source": []
  },
  {
   "cell_type": "markdown",
   "id": "523956d1-be5b-42dc-9d97-920f6beac4ea",
   "metadata": {},
   "source": [
    "save results "
   ]
  },
  {
   "cell_type": "code",
   "execution_count": 36,
   "id": "e2dbffa5-2128-4d0e-815e-99ad7bfe0895",
   "metadata": {
    "tags": []
   },
   "outputs": [],
   "source": [
    "import pickle\n",
    "import datetime\n",
    "\n",
    "suffix = f'{datetime.datetime.now().date()}_{datetime.datetime.now().hour}_{datetime.datetime.now().minute}'\n",
    "\n",
    "xarr.to_netcdf(os.path.join(DATA_DIR, f\"posterior_sym_{suffix}.nc\"))\n",
    "\n",
    "f = open(os.path.join(f\"mod_sym_{suffix}.pkl\"),\"wb\")\n",
    "pickle.dump(mod_out,f)\n",
    "f.close()"
   ]
  },
  {
   "cell_type": "code",
   "execution_count": null,
   "id": "a396e1ab-aa6f-44dc-8a70-3052497ef8e4",
   "metadata": {},
   "outputs": [],
   "source": []
  },
  {
   "cell_type": "code",
   "execution_count": null,
   "id": "e7fb764b-93bc-4dde-81f4-c40e47fdcb0c",
   "metadata": {},
   "outputs": [],
   "source": []
  },
  {
   "cell_type": "code",
   "execution_count": null,
   "id": "e060015a-c0e1-41f4-b317-594527215c94",
   "metadata": {},
   "outputs": [],
   "source": []
  },
  {
   "cell_type": "code",
   "execution_count": null,
   "id": "7a2e2f1e-9675-4a79-bfe9-55978ea8b663",
   "metadata": {},
   "outputs": [],
   "source": []
  },
  {
   "cell_type": "code",
   "execution_count": null,
   "id": "b1219be4-12f5-4480-a2c2-e20e65020202",
   "metadata": {},
   "outputs": [],
   "source": []
  },
  {
   "cell_type": "markdown",
   "id": "318287c8-9d11-40fc-a33d-f3a643f04f5f",
   "metadata": {},
   "source": [
    "## Estimation"
   ]
  },
  {
   "cell_type": "code",
   "execution_count": 99,
   "id": "33f8a63c-faad-46f3-848a-c607251a44fc",
   "metadata": {
    "tags": []
   },
   "outputs": [],
   "source": [
    "no = 2\n",
    "sample = sample_dict[no].copy()"
   ]
  },
  {
   "cell_type": "code",
   "execution_count": 100,
   "id": "e777a375-7c6c-4860-9849-074b6cfaa022",
   "metadata": {
    "tags": []
   },
   "outputs": [
    {
     "name": "stdout",
     "output_type": "stream",
     "text": [
      "xdim: 25 \n",
      "zdim: 2\n"
     ]
    }
   ],
   "source": [
    "# filter_vars = list(sample['T'].index[len(sample['T']) - (sample['T'] == 0).sum() != 0])\n",
    "filter_vars = list(sample['T'].columns)\n",
    "\n",
    "observed = [\"Y\", \"pi_obj\"]\n",
    "observed_ind = [filter_vars.index(item) for item in observed]\n",
    "\n",
    "for i in observed:\n",
    "    assert (i in filter_vars) == True, f\"{i} not in filter_vars\"\n",
    "    \n",
    "xdim = len(filter_vars)\n",
    "zdim = len(observed)\n",
    "print(f'xdim: {xdim} \\nzdim: {zdim}')"
   ]
  },
  {
   "cell_type": "code",
   "execution_count": 101,
   "id": "6d349af6-793c-4a82-99e3-b29db10c9327",
   "metadata": {
    "tags": []
   },
   "outputs": [
    {
     "data": {
      "text/plain": [
       "(25, 25)"
      ]
     },
     "execution_count": 101,
     "metadata": {},
     "output_type": "execute_result"
    }
   ],
   "source": [
    "F = sample_dict[no]['T'].loc[filter_vars, filter_vars].values\n",
    "F.shape"
   ]
  },
  {
   "cell_type": "code",
   "execution_count": 102,
   "id": "4b2bba2a-a5bb-4249-8d4b-76ea29757202",
   "metadata": {
    "tags": []
   },
   "outputs": [
    {
     "data": {
      "text/plain": [
       "array([[0.01, 0.  ],\n",
       "       [0.  , 0.01]])"
      ]
     },
     "execution_count": 102,
     "metadata": {},
     "output_type": "execute_result"
    }
   ],
   "source": [
    "R = np.eye(zdim) * 0.01\n",
    "R"
   ]
  },
  {
   "cell_type": "code",
   "execution_count": 103,
   "id": "7defbe29-e271-4dd8-838f-127bbfefdd2d",
   "metadata": {
    "tags": []
   },
   "outputs": [
    {
     "data": {
      "text/plain": [
       "array([[0., 0., 0., 0., 0., 0., 0., 0., 0., 0., 0., 1., 0., 0., 0., 0.,\n",
       "        0., 0., 0., 0., 0., 0., 0., 0., 0.],\n",
       "       [0., 0., 0., 0., 0., 0., 0., 0., 0., 0., 0., 0., 0., 0., 0., 1.,\n",
       "        0., 0., 0., 0., 0., 0., 0., 0., 0.]])"
      ]
     },
     "execution_count": 103,
     "metadata": {},
     "output_type": "execute_result"
    }
   ],
   "source": [
    "kfilter = KalmanFilter(dim_x=xdim, dim_z=zdim)\n",
    "kfilter.F = F\n",
    "kfilter.R = R\n",
    "for i, ind in enumerate(observed_ind):\n",
    "    kfilter.H[i, ind] = 1\n",
    "kfilter.H"
   ]
  },
  {
   "cell_type": "code",
   "execution_count": 104,
   "id": "0cf8cf18-0469-4373-880a-6f939153ff8f",
   "metadata": {
    "tags": []
   },
   "outputs": [
    {
     "data": {
      "text/plain": [
       "array([[0.01, 0.  ],\n",
       "       [0.  , 0.01]])"
      ]
     },
     "execution_count": 104,
     "metadata": {},
     "output_type": "execute_result"
    }
   ],
   "source": [
    "kfilter.R"
   ]
  },
  {
   "cell_type": "code",
   "execution_count": null,
   "id": "cc3c7b38-837c-42a3-8e53-f2530cd0269b",
   "metadata": {},
   "outputs": [],
   "source": []
  },
  {
   "cell_type": "code",
   "execution_count": 105,
   "id": "17185ec3-685e-4b57-86f1-a794e8f4d5f2",
   "metadata": {
    "tags": []
   },
   "outputs": [
    {
     "data": {
      "text/html": [
       "<div>\n",
       "<style scoped>\n",
       "    .dataframe tbody tr th:only-of-type {\n",
       "        vertical-align: middle;\n",
       "    }\n",
       "\n",
       "    .dataframe tbody tr th {\n",
       "        vertical-align: top;\n",
       "    }\n",
       "\n",
       "    .dataframe thead th {\n",
       "        text-align: right;\n",
       "    }\n",
       "</style>\n",
       "<table border=\"1\" class=\"dataframe\">\n",
       "  <thead>\n",
       "    <tr style=\"text-align: right;\">\n",
       "      <th></th>\n",
       "      <th>epsilon_R</th>\n",
       "      <th>epsilon_T</th>\n",
       "      <th>epsilon_Y</th>\n",
       "      <th>epsilon_pi</th>\n",
       "      <th>epsilon_preference</th>\n",
       "    </tr>\n",
       "  </thead>\n",
       "  <tbody>\n",
       "    <tr>\n",
       "      <th>Y</th>\n",
       "      <td>-4.252038e+00</td>\n",
       "      <td>-5.809157e-01</td>\n",
       "      <td>5.284028e-01</td>\n",
       "      <td>1.693644</td>\n",
       "      <td>3.108404e-01</td>\n",
       "    </tr>\n",
       "    <tr>\n",
       "      <th>pi_obj</th>\n",
       "      <td>-9.811555e-17</td>\n",
       "      <td>-3.005811e-18</td>\n",
       "      <td>2.892069e-17</td>\n",
       "      <td>1.000000</td>\n",
       "      <td>-1.999602e-17</td>\n",
       "    </tr>\n",
       "  </tbody>\n",
       "</table>\n",
       "</div>"
      ],
      "text/plain": [
       "           epsilon_R     epsilon_T     epsilon_Y  epsilon_pi  \\\n",
       "Y      -4.252038e+00 -5.809157e-01  5.284028e-01    1.693644   \n",
       "pi_obj -9.811555e-17 -3.005811e-18  2.892069e-17    1.000000   \n",
       "\n",
       "        epsilon_preference  \n",
       "Y             3.108404e-01  \n",
       "pi_obj       -1.999602e-17  "
      ]
     },
     "execution_count": 105,
     "metadata": {},
     "output_type": "execute_result"
    }
   ],
   "source": [
    "mod.R.loc[observed]"
   ]
  },
  {
   "cell_type": "code",
   "execution_count": 106,
   "id": "61ed7f33-66fc-4f4e-a05b-132fca33a992",
   "metadata": {
    "tags": []
   },
   "outputs": [
    {
     "data": {
      "text/plain": [
       "(25, 25)"
      ]
     },
     "execution_count": 106,
     "metadata": {},
     "output_type": "execute_result"
    }
   ],
   "source": [
    "kfilter.Q.shape"
   ]
  },
  {
   "cell_type": "code",
   "execution_count": 107,
   "id": "bd5b703c-6f60-4d17-aa1d-b16a3a20172b",
   "metadata": {
    "tags": []
   },
   "outputs": [],
   "source": [
    "zs = train[observed].values"
   ]
  },
  {
   "cell_type": "code",
   "execution_count": 109,
   "id": "42985a61-62ca-492b-99ac-7520945caf5f",
   "metadata": {
    "tags": []
   },
   "outputs": [
    {
     "data": {
      "text/plain": [
       "-3.3787407687578788"
      ]
     },
     "execution_count": 109,
     "metadata": {},
     "output_type": "execute_result"
    }
   ],
   "source": [
    "kfilter.predict()\n",
    "kfilter.update(zs[0])\n",
    "kfilter.log_likelihood_of(zs[0])"
   ]
  },
  {
   "cell_type": "code",
   "execution_count": 132,
   "id": "80a61700-b432-471f-b4a4-02d0cadecfc1",
   "metadata": {
    "tags": []
   },
   "outputs": [],
   "source": [
    "mu, cov, _, _ = kfilter.batch_filter(zs)"
   ]
  },
  {
   "cell_type": "code",
   "execution_count": 133,
   "id": "3d9e129a-aba0-4ebf-b4d5-a44aa48262d6",
   "metadata": {
    "tags": []
   },
   "outputs": [
    {
     "data": {
      "text/plain": [
       "[<matplotlib.lines.Line2D at 0x1e8e69d2af0>]"
      ]
     },
     "execution_count": 133,
     "metadata": {},
     "output_type": "execute_result"
    },
    {
     "data": {
      "image/png": "[encoded data removed]",
      "text/plain": [
       "<Figure size 1440x432 with 1 Axes>"
      ]
     },
     "metadata": {},
     "output_type": "display_data"
    }
   ],
   "source": [
    "plt.plot(mu.reshape(-1, kfilter.dim_x)[:, 15])\n",
    "plt.plot(train.pi_obj.values)"
   ]
  },
  {
   "cell_type": "code",
   "execution_count": 134,
   "id": "87551d96-1215-4127-839c-6d4079923daa",
   "metadata": {
    "tags": []
   },
   "outputs": [],
   "source": [
    "mu = pd.DataFrame(mu.reshape(-1,kfilter.dim_x), columns=filter_vars, index=train.index)"
   ]
  },
  {
   "cell_type": "code",
   "execution_count": null,
   "id": "21e26ccd-7f82-427e-a50f-207504e9b0e4",
   "metadata": {
    "tags": []
   },
   "outputs": [],
   "source": [
    "plt.plot(mu.I, label='filter')\n",
    "plt.plot(train.I, label='data')\n",
    "plt.legend(['filter', 'data'])"
   ]
  },
  {
   "cell_type": "code",
   "execution_count": null,
   "id": "c90f0739-b990-4bfb-b6e2-9f360efd2ffd",
   "metadata": {},
   "outputs": [],
   "source": []
  }
 ],
 "metadata": {
  "kernelspec": {
   "display_name": "env_memoire1",
   "language": "python",
   "name": "env_memoire1"
  },
  "language_info": {
   "codemirror_mode": {
    "name": "ipython",
    "version": 3
   },
   "file_extension": ".py",
   "mimetype": "text/x-python",
   "name": "python",
   "nbconvert_exporter": "python",
   "pygments_lexer": "ipython3",
   "version": "3.9.4"
  }
 },
 "nbformat": 4,
 "nbformat_minor": 5
}
