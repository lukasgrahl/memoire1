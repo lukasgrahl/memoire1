{
 "cells": [
  {
   "cell_type": "code",
   "execution_count": 1,
   "id": "d5ab2417-2add-4be4-9cfe-fa60209cb964",
   "metadata": {},
   "outputs": [
    {
     "name": "stdout",
     "output_type": "stream",
     "text": [
      "DATA_DIR is existant under: C:\\Users\\LukasGrahl\\Documents\\GIT\\memoire1\\data\n"
     ]
    }
   ],
   "source": [
    "%run init_notebookspace.py\n",
    "from settings import DATA_DIR, MODEL_DIR"
   ]
  },
  {
   "cell_type": "code",
   "execution_count": null,
   "id": "5a199437-f214-4474-8264-bd83561c05af",
   "metadata": {},
   "outputs": [],
   "source": [
    "%matplotlib inline\n",
    "\n",
    "from gEconpy.classes.model import gEconModel\n",
    "from gEconpy.classes.transformers import IntervalTransformer\n",
    "from gEconpy import compile_to_statsmodels\n",
    "from gEconpy.plotting import plotting as gp\n",
    "\n",
    "\n",
    "import matplotlib.pyplot as plt\n",
    "import seaborn as sns\n",
    "from src.plotting import plot_dfs\n",
    "from src.gp_plotting import plot_sm_results\n",
    "\n",
    "import numpy as np\n",
    "import pandas as pd\n",
    "\n",
    "import os\n",
    "\n",
    "from config import plt_config\n",
    "plt.rcParams.update(plt_config)"
   ]
  },
  {
   "cell_type": "markdown",
   "id": "67d11dae-0bc2-4910-81dd-19e2b24dba0c",
   "metadata": {},
   "source": [
    "load model"
   ]
  },
  {
   "cell_type": "code",
   "execution_count": null,
   "id": "90d04281-62c4-4dc3-a826-d72acf3a9de0",
   "metadata": {},
   "outputs": [],
   "source": [
    "from config import mod5_params\n",
    "mod = gEconModel(os.path.join(MODEL_DIR, 'gEconpy_mod5_nk.gcn'), verbose=True)\n",
    "plot_vars = ['Y', 'C', 'L', 'w', 'r', 'pi']"
   ]
  },
  {
   "cell_type": "code",
   "execution_count": null,
   "id": "29afa7a9-4ecf-43dd-9379-3eabab8f4abf",
   "metadata": {},
   "outputs": [],
   "source": [
    "mod.blocks"
   ]
  },
  {
   "cell_type": "code",
   "execution_count": null,
   "id": "4dd181f7-cf7b-46c9-a299-e4a1118d4ff8",
   "metadata": {},
   "outputs": [],
   "source": [
    "mod.variables"
   ]
  },
  {
   "cell_type": "code",
   "execution_count": null,
   "id": "92d585d3-b6b5-4f6c-832e-dd1ef5da3bcb",
   "metadata": {},
   "outputs": [],
   "source": [
    "# assign parameters\n",
    "mod.free_param_dict.update(mod5_params)\n",
    "mod.free_param_dict"
   ]
  },
  {
   "cell_type": "markdown",
   "id": "0c6dfd67-9525-4961-87e0-b3e0d26ad5a6",
   "metadata": {},
   "source": [
    "Investigate priors"
   ]
  },
  {
   "cell_type": "code",
   "execution_count": null,
   "id": "829edc57-c9ea-49dc-8ad4-56fa47a1bd42",
   "metadata": {},
   "outputs": [],
   "source": []
  },
  {
   "cell_type": "markdown",
   "id": "d3995e3f-5961-46ab-b1b6-006ad993aa65",
   "metadata": {},
   "source": [
    "Solve"
   ]
  },
  {
   "cell_type": "code",
   "execution_count": null,
   "id": "da09afa6-0b84-4c17-96dd-9ae1ca2ba847",
   "metadata": {},
   "outputs": [],
   "source": [
    "%time mod.steady_state()"
   ]
  },
  {
   "cell_type": "code",
   "execution_count": null,
   "id": "5a513d47-e2e6-42a2-a8de-5fe90292397f",
   "metadata": {},
   "outputs": [],
   "source": [
    "# steady state values\n",
    "mod.print_steady_state()"
   ]
  },
  {
   "cell_type": "code",
   "execution_count": null,
   "id": "7f423b2b-48cf-4ced-8033-b5a6a26e17f3",
   "metadata": {},
   "outputs": [],
   "source": [
    "mod.solve_model(solver=\"gensys\")"
   ]
  },
  {
   "cell_type": "code",
   "execution_count": null,
   "id": "25f2810e-4c0e-4192-a963-2f117d9fa320",
   "metadata": {},
   "outputs": [],
   "source": [
    "mod.check_bk_condition()\n",
    ";"
   ]
  },
  {
   "cell_type": "code",
   "execution_count": null,
   "id": "db7668bd-57e4-4116-90d1-5f7718298868",
   "metadata": {},
   "outputs": [],
   "source": [
    "# # policy matrix\n",
    "# for name, policy_matrix in zip([\"T\", \"R\"], [round(mod.T, 5), round(mod.R, 5)]):\n",
    "#     print(name.center(10).center(50, \"=\"))\n",
    "#     print(policy_matrix.to_string())"
   ]
  },
  {
   "cell_type": "markdown",
   "id": "5089f925-76db-4bbd-a81b-488b8b3d5e08",
   "metadata": {},
   "source": [
    "Model stats"
   ]
  },
  {
   "cell_type": "code",
   "execution_count": null,
   "id": "66cd5c0f-1535-4fd6-adb0-23242cdec5c5",
   "metadata": {},
   "outputs": [],
   "source": [
    "scov = mod.compute_stationary_covariance_matrix()\n",
    "gp.plot_covariance_matrix(scov, plot_vars,\n",
    "                          figsize=(5,5))\n",
    ";"
   ]
  },
  {
   "cell_type": "code",
   "execution_count": null,
   "id": "4cdbc1be-9647-403c-9c1b-b47a9b98a42e",
   "metadata": {},
   "outputs": [],
   "source": [
    "acorr = mod.compute_autocorrelation_matrix(n_lags=20)\n",
    "gp.plot_acf(acorr, plot_vars, n_cols=3, figsize=(10, 8))\n",
    ";"
   ]
  },
  {
   "cell_type": "markdown",
   "id": "c189f4d6-4c69-43b0-a02e-89e38ec2a19f",
   "metadata": {},
   "source": [
    "IRF"
   ]
  },
  {
   "cell_type": "code",
   "execution_count": null,
   "id": "3f9c796e-5305-4174-b7dc-424a86812b3e",
   "metadata": {},
   "outputs": [],
   "source": [
    "irf = mod.impulse_response_function(simulation_length=40, shock_size=1.0)\n",
    "_irf = irf.copy().unstack().loc[:, \"epsilon_A\"].unstack()"
   ]
  },
  {
   "cell_type": "code",
   "execution_count": null,
   "id": "b33bcf8a-3072-41a2-8d5c-2793e58a2583",
   "metadata": {},
   "outputs": [],
   "source": [
    "plot_dfs(_irf[plot_vars], sns.lineplot, figsize=(10, 2))"
   ]
  },
  {
   "cell_type": "markdown",
   "id": "faa7dbb5-f415-4637-8935-68c0bba96afc",
   "metadata": {},
   "source": [
    "Estimation"
   ]
  },
  {
   "cell_type": "code",
   "execution_count": null,
   "id": "062fb5d6-e742-4605-afd2-f83d94b1ea14",
   "metadata": {},
   "outputs": [],
   "source": [
    "from config import recession_dict\n",
    "\n",
    "df = pd.read_csv(os.path.join(DATA_DIR, 'prepro_data.csv'), index_col='date').drop('Unnamed: 0', axis=1)\n",
    "df.index = pd.to_datetime(df.index)\n",
    "df = df.asfreq('QS')"
   ]
  },
  {
   "cell_type": "code",
   "execution_count": null,
   "id": "25a404ce-a57f-4759-8455-d2f76ee57667",
   "metadata": {},
   "outputs": [],
   "source": [
    "df = df.rename(columns={'pi_s': 'pi'}).drop(['pi_c', 'Ix', 'Zx'], axis=1)\n",
    "train = df[df['is_test'] == False].drop('is_test', axis=1).copy()\n",
    "test = df[df['is_test'] == True].drop('is_test', axis=1).copy()"
   ]
  },
  {
   "cell_type": "code",
   "execution_count": null,
   "id": "6c822539-6e45-4c1f-8d94-3e88976d3b3c",
   "metadata": {},
   "outputs": [],
   "source": [
    "StatsMod = compile_to_statsmodels(mod)\n",
    "\n",
    "# parameters that we want to estimate, if not specified value will be taken from GCN file\n",
    "param_start_dict = {\n",
    "    'rho_A':0.85\n",
    "                   }\n",
    "\n",
    "# starting value for the shock's standard deviation\n",
    "shock_start_dict = {\n",
    "    'epsilon_A':0.5\n",
    "                    }\n",
    "\n",
    "# assume that the true value deviates with a σ, specified below\n",
    "noise_start_dict = {\n",
    "        'Y':0.01,\n",
    "        'w':0.02\n",
    "}\n",
    "\n",
    "# define parameter search space e.g. 0 < α < 1, as suggested by Cobb-Douglas function\n",
    "param_transforms = {\n",
    "    'rho_A':IntervalTransformer(low=1e-2, high=0.99999, slope=1),\n",
    "}\n",
    "mod_stats = StatsMod(train[[\"Y\", 'w', 'C']],\n",
    "                 param_start_dict = param_start_dict,\n",
    "                  shock_start_dict = shock_start_dict,\n",
    "                  noise_start_dict = noise_start_dict,\n",
    "                  param_transforms = param_transforms,\n",
    "                  shock_transforms=None, \n",
    "                  noise_transforms=None, \n",
    "                  initialization='stationary')"
   ]
  },
  {
   "cell_type": "code",
   "execution_count": null,
   "id": "c34f145d-64ba-4b2e-9494-563956aa1d80",
   "metadata": {},
   "outputs": [],
   "source": [
    "%%capture\n",
    "# basinhopping as algorithm, mixes different approaches \n",
    "mod_res = mod_stats.fit(method='basinhopping')"
   ]
  },
  {
   "cell_type": "code",
   "execution_count": null,
   "id": "b965a17b-1940-4d18-bbba-718477bfd456",
   "metadata": {},
   "outputs": [],
   "source": [
    "mod_res.summary()"
   ]
  },
  {
   "cell_type": "code",
   "execution_count": null,
   "id": "ba83c5fc-c7fc-4850-b281-d0bad8c08c7f",
   "metadata": {},
   "outputs": [],
   "source": [
    "plot_sm_results(mod_res, train, var_names=plot_vars)"
   ]
  },
  {
   "cell_type": "code",
   "execution_count": null,
   "id": "5a1d33a7-23fd-42e3-b828-dff841c7c9a1",
   "metadata": {},
   "outputs": [],
   "source": [
    "plot_sm_results(mod_res, train, 'smoothed', var_names=plot_vars)"
   ]
  },
  {
   "cell_type": "code",
   "execution_count": null,
   "id": "a745e2e0-0936-4455-8d29-43d495cc3399",
   "metadata": {},
   "outputs": [],
   "source": [
    "mod_for = mod_res.get_forecast(len(test))\n",
    "\n",
    "mu = mod_for.predicted_mean\n",
    "if type(mu) == pd.Series:\n",
    "    mu = pd.DataFrame(mu)\n",
    "\n",
    "for col in mu.columns:\n",
    "    fig, ax = plt.subplots(figsize=(8, 3))\n",
    "    # sigma = 1.96 * np.sqrt(mod_for.var_pred_mean.loc[col, col])\n",
    "    ax.plot(mu[col])\n",
    "    # ax.fill_between(mu[col].index, mu[col] - sigma, mu[col] + sigma, alpha=0.15)\n",
    "    ax.plot(test[col])\n",
    "    ax.set_title(f'Out of sample forecast on {col}')"
   ]
  },
  {
   "cell_type": "code",
   "execution_count": null,
   "id": "54266775-8e77-4c97-9949-2e541a63adfa",
   "metadata": {},
   "outputs": [],
   "source": []
  }
 ],
 "metadata": {
  "kernelspec": {
   "display_name": "env_memoire1",
   "language": "python",
   "name": "env_memoire1"
  },
  "language_info": {
   "codemirror_mode": {
    "name": "ipython",
    "version": 3
   },
   "file_extension": ".py",
   "mimetype": "text/x-python",
   "name": "python",
   "nbconvert_exporter": "python",
   "pygments_lexer": "ipython3",
   "version": "3.9.4"
  }
 },
 "nbformat": 4,
 "nbformat_minor": 5
}
