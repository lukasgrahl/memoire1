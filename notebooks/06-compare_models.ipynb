{
 "cells": [
  {
   "cell_type": "code",
   "execution_count": 37,
   "id": "e44311af-cdb6-4fdd-abe5-6ad38cd7488c",
   "metadata": {},
   "outputs": [
    {
     "name": "stdout",
     "output_type": "stream",
     "text": [
      "DATA_DIR is existant under: C:\\Users\\LukasGrahl\\Documents\\GIT\\memoire1\\data\n"
     ]
    }
   ],
   "source": [
    "%run init_notebookspace.py\n",
    "from settings import POST_EST_DIR"
   ]
  },
  {
   "cell_type": "code",
   "execution_count": 39,
   "id": "a799c27c-c2b2-4401-b90d-41b719b42193",
   "metadata": {},
   "outputs": [],
   "source": [
    "from src.utils import get_most_recent_mod_output\n",
    "from src.bayesian import get_xarr_InferenceData\n",
    "\n",
    "import xarray as xr\n",
    "import numpy as np\n",
    "\n",
    "import arviz as az\n",
    "import pandas as pd\n",
    "\n",
    "import os"
   ]
  },
  {
   "cell_type": "code",
   "execution_count": 49,
   "id": "2366bf70-5240-4378-9942-ceef9c155ce6",
   "metadata": {},
   "outputs": [],
   "source": [
    "import pickle\n",
    "with open(os.path.join(DATA_DIR, f'mod6_nk_energy_lin2_y_pi_s_kalman_forecast.pkl'), 'rb') as f:\n",
    "    rbc_dict = pickle.load(f)\n",
    "with open(os.path.join(DATA_DIR, f'bvar_forecast.pkl'), 'rb') as f:\n",
    "    bvar_dict = pickle.load(f)"
   ]
  },
  {
   "cell_type": "code",
   "execution_count": 3,
   "id": "8dc95625-64b7-4d40-a19d-724f2e116e95",
   "metadata": {},
   "outputs": [],
   "source": [
    "import os"
   ]
  },
  {
   "cell_type": "code",
   "execution_count": 4,
   "id": "157a23b1-e06a-43cd-9ce3-01547c0ed922",
   "metadata": {},
   "outputs": [],
   "source": [
    "def load_trace_data(file_path: str):\n",
    "    if 'mod' in file_path:\n",
    "        return xr.open_dataset(file_path)\n",
    "    elif 'bvar' in file_path:\n",
    "        return az.from_netcdf(file_path)\n",
    "    else:\n",
    "        raise ValueError('Unknown file tpye')"
   ]
  },
  {
   "cell_type": "code",
   "execution_count": 14,
   "id": "6a5e2b85-d14c-4214-a3ff-d12c9e85b3a6",
   "metadata": {},
   "outputs": [
    {
     "name": "stdout",
     "output_type": "stream",
     "text": [
      "mod4_rbc_vanilla_accepted_20230523_0902.nc\n",
      "bvar_accepted_20230523_1409.nc\n"
     ]
    }
   ],
   "source": [
    "from config import mod4_params, mod4_priors, mod5_params, mod5_priors, mod6_params, mod6_priors\n",
    "mods = {\n",
    "    'mod4_rbc_vanilla': {'is_mod': True},\n",
    "    # 'mod5_nk_vanilla': {'is_mod': True},\n",
    "    # 'mod6_nk_energy_lin2': {'is_mod': True},\n",
    "    'bvar': {'is_mod': False},\n",
    "}\n",
    "\n",
    "# load model\n",
    "for key in mods.keys():\n",
    "    file_name = get_most_recent_mod_output(POST_EST_DIR, f'{key}_accepted')\n",
    "    print(file_name)\n",
    "    mods[key]['post_out'] = load_trace_data(os.path.join(POST_EST_DIR, file_name))"
   ]
  },
  {
   "cell_type": "code",
   "execution_count": 15,
   "id": "fef6688a-ace4-4a4e-83a6-68ddf4e85277",
   "metadata": {},
   "outputs": [],
   "source": [
    "def get_xarr_InferenceData(xarr_in: xr.Dataset):\n",
    "    # xarr = xarr_in.where(xarr_in.draw >= 8996).dropna('draw').copy()\n",
    "    draw = len(xarr.draw)\n",
    "\n",
    "    xr_prior = xr.Dataset(\n",
    "        {\n",
    "            key: (\n",
    "                ['chain', 'draw', 'a_dim'],\n",
    "                np.concatenate(\n",
    "                    [\n",
    "                        np.array([0] * draw).reshape(draw, 1),\n",
    "                        np.array(xarr.sel(parameter=key).prior_param).reshape(draw, 1),\n",
    "                        np.array([0] * draw).reshape(draw, 1)\n",
    "                    ],\n",
    "                    axis=1\n",
    "                ).reshape(1, draw, 3)\n",
    "            )\n",
    "            for key in xarr.parameter.values\n",
    "        },\n",
    "        coords={\n",
    "            \"chain\": ([\"chain\"], np.arange(1)),\n",
    "            \"draw\": ([\"draw\"], np.arange(draw)),\n",
    "            \"a_dim\": ([\"a_dim\"], [\"x\", \"y\", \"z\"])\n",
    "\n",
    "        }\n",
    "    )\n",
    "\n",
    "    xr_post = xr.Dataset(\n",
    "        {\n",
    "            key: (\n",
    "                ['chain', 'draw', 'a_dim'],\n",
    "                np.concatenate(\n",
    "                    [\n",
    "                        np.array([0] * draw, dtype=float).reshape(draw, 1),\n",
    "                        np.array(xarr.sel(parameter=key).posterior_param, dtype=float).reshape(draw, 1),\n",
    "                        np.array([0] * draw, dtype=float).reshape(draw, 1)\n",
    "                    ],\n",
    "                    axis=1\n",
    "                ).reshape(1, draw, 3)\n",
    "            )\n",
    "            for key in xarr.parameter.values\n",
    "        },\n",
    "        coords={\n",
    "            \"chain\": ([\"chain\"], np.arange(1)),\n",
    "            \"draw\": ([\"draw\"], np.arange(draw)),\n",
    "            \"a_dim\": ([\"a_dim\"], [\"x\", \"y\", \"z\"])\n",
    "\n",
    "        }\n",
    "    )\n",
    "\n",
    "    xr_loglike = xr.Dataset(\n",
    "        {\n",
    "            'obs': (\n",
    "                ['chain', 'draw', 'a_dim'],\n",
    "                np.concatenate(\n",
    "                    [\n",
    "                        np.array([0.] * draw, dtype=float).reshape(draw, 1),\n",
    "                        np.array(xarr.log_likelihood, dtype=float).reshape(draw, 1),\n",
    "                        np.array([0.] * draw, dtype=float).reshape(draw, 1)\n",
    "                    ],\n",
    "                    axis=1\n",
    "                ).reshape(1, draw, 3)\n",
    "            )\n",
    "        },\n",
    "        coords={\n",
    "            \"chain\": ([\"chain\"], np.arange(1)),\n",
    "            \"draw\": ([\"draw\"], np.arange(draw)),\n",
    "            \"a_dim\": ([\"a_dim\"], [\"x\", \"y\", \"z\"])\n",
    "\n",
    "        }\n",
    "    )\n",
    "    return xr_prior, xr_post, xr_loglike"
   ]
  },
  {
   "cell_type": "code",
   "execution_count": 16,
   "id": "82ec5a13-b10b-4700-a299-91c99d5c459f",
   "metadata": {},
   "outputs": [],
   "source": [
    "for key in mods.keys():\n",
    "    xarr = mods[key]['post_out']  \n",
    "    if mods[key]['is_mod']:\n",
    "        mods[key]['az_inf'] = az.InferenceData(**dict(zip(\n",
    "            ['prior', 'posterior', 'log_likelihood'], \n",
    "            *[get_xarr_InferenceData(xarr)]\n",
    "        )))\n",
    "    else:\n",
    "        mods[key]['az_inf'] = mods[key]['post_out']"
   ]
  },
  {
   "cell_type": "code",
   "execution_count": 56,
   "id": "e1c91446-bd56-4a61-8f86-4d79c9ee69d3",
   "metadata": {},
   "outputs": [
    {
     "name": "stderr",
     "output_type": "stream",
     "text": [
      "C:\\Users\\LukasGrahl\\miniconda3\\envs\\env_conda3_memoire1\\lib\\site-packages\\arviz\\stats\\stats.py:1645: UserWarning: For one or more samples the posterior variance of the log predictive densities exceeds 0.4. This could be indication of WAIC starting to fail. \n",
      "See http://arxiv.org/abs/1507.04544 for details\n",
      "  warnings.warn(\n"
     ]
    },
    {
     "data": {
      "text/plain": [
       "Computed from 8000 posterior samples and 335 observations log-likelihood matrix.\n",
       "\n",
       "          Estimate       SE\n",
       "elpd_waic  1177.71    63.43\n",
       "p_waic      104.69        -\n",
       "\n",
       "There has been a warning during the calculation. Please check the results."
      ]
     },
     "execution_count": 56,
     "metadata": {},
     "output_type": "execute_result"
    }
   ],
   "source": [
    "z = az.waic(mods['bvar']['az_inf'])\n",
    "z"
   ]
  },
  {
   "cell_type": "code",
   "execution_count": 58,
   "id": "f2ae77b1-d2c1-4d19-8d77-d9205479ea6d",
   "metadata": {},
   "outputs": [
    {
     "name": "stderr",
     "output_type": "stream",
     "text": [
      "C:\\Users\\LukasGrahl\\miniconda3\\envs\\env_conda3_memoire1\\lib\\site-packages\\arviz\\stats\\stats.py:1645: UserWarning: For one or more samples the posterior variance of the log predictive densities exceeds 0.4. This could be indication of WAIC starting to fail. \n",
      "See http://arxiv.org/abs/1507.04544 for details\n",
      "  warnings.warn(\n"
     ]
    },
    {
     "data": {
      "text/plain": [
       "Computed from 696 posterior samples and 3 observations log-likelihood matrix.\n",
       "\n",
       "          Estimate       SE\n",
       "elpd_waic -703453212053.18  574367142484.05\n",
       "p_waic    703452633541.18        -\n",
       "\n",
       "There has been a warning during the calculation. Please check the results."
      ]
     },
     "execution_count": 58,
     "metadata": {},
     "output_type": "execute_result"
    }
   ],
   "source": [
    "x = az.waic(mods['mod4_rbc_vanilla']['az_inf'])\n",
    "x"
   ]
  },
  {
   "cell_type": "code",
   "execution_count": null,
   "id": "3e010168-9ab9-4f33-b686-6db816a25ec9",
   "metadata": {},
   "outputs": [],
   "source": []
  },
  {
   "cell_type": "code",
   "execution_count": null,
   "id": "1113c2a7-7c7c-446d-bdc5-2feb8a47d7a6",
   "metadata": {},
   "outputs": [],
   "source": []
  },
  {
   "cell_type": "code",
   "execution_count": null,
   "id": "83037487-4504-42a2-a6d2-7238438fdb7e",
   "metadata": {},
   "outputs": [],
   "source": []
  }
 ],
 "metadata": {
  "kernelspec": {
   "display_name": "Python 3 (ipykernel)",
   "language": "python",
   "name": "python3"
  },
  "language_info": {
   "codemirror_mode": {
    "name": "ipython",
    "version": 3
   },
   "file_extension": ".py",
   "mimetype": "text/x-python",
   "name": "python",
   "nbconvert_exporter": "python",
   "pygments_lexer": "ipython3",
   "version": "3.9.16"
  }
 },
 "nbformat": 4,
 "nbformat_minor": 5
}
