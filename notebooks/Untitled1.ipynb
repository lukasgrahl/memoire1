{
 "cells": [
  {
   "cell_type": "code",
   "execution_count": null,
   "id": "c67178e7-762c-43a3-8ba2-973c9cec3fb3",
   "metadata": {},
   "outputs": [],
   "source": []
  }
 ],
 "metadata": {
  "kernelspec": {
   "display_name": "Scilab",
   "language": "scilab",
   "name": "scilab"
  },
  "language_info": {
   "name": ""
  }
 },
 "nbformat": 4,
 "nbformat_minor": 5
}
